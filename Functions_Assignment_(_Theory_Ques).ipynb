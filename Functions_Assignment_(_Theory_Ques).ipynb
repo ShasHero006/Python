{
  "nbformat": 4,
  "nbformat_minor": 0,
  "metadata": {
    "colab": {
      "provenance": [],
      "authorship_tag": "ABX9TyPt4bb4tN2ewBTQqfT7l7Jl",
      "include_colab_link": true
    },
    "kernelspec": {
      "name": "python3",
      "display_name": "Python 3"
    },
    "language_info": {
      "name": "python"
    }
  },
  "cells": [
    {
      "cell_type": "markdown",
      "metadata": {
        "id": "view-in-github",
        "colab_type": "text"
      },
      "source": [
        "<a href=\"https://colab.research.google.com/github/ShasHero006/Python/blob/main/Functions_Assignment_(_Theory_Ques).ipynb\" target=\"_parent\"><img src=\"https://colab.research.google.com/assets/colab-badge.svg\" alt=\"Open In Colab\"/></a>"
      ]
    },
    {
      "cell_type": "markdown",
      "source": [
        "# **Theory Questions:**\n",
        "# Q.1. What is the difference between a function and a method in Python?\n",
        "Ans. **Methods** :-\n",
        "\n",
        "A method is a function that belong to a class or object which is defined inside a class definition. It typically perform operations related to the object.\n",
        "\n",
        "**Example :-**\n"
      ],
      "metadata": {
        "id": "xTYm2If2n9o_"
      }
    },
    {
      "cell_type": "code",
      "source": [
        "class Person:\n",
        "    def __init__(self, name):\n",
        "        self.name = name\n",
        "\n",
        "    def greet(self):\n",
        "        print(f\"Hello, my name is {self.name}!\")\n",
        "\n",
        "john = Person(\"John\")\n",
        "john.greet()\n"
      ],
      "metadata": {
        "colab": {
          "base_uri": "https://localhost:8080/"
        },
        "id": "J9CnBbt2rHpm",
        "outputId": "751fb627-e9e0-44c2-e8b6-eb8fa0aca539"
      },
      "execution_count": null,
      "outputs": [
        {
          "output_type": "stream",
          "name": "stdout",
          "text": [
            "Hello, my name is John!\n"
          ]
        }
      ]
    },
    {
      "cell_type": "markdown",
      "source": [
        "**Functions** :-  \n",
        "A function is a standalone blocks of code, which is defined using the `def` keyword. It does not have access to a specific object's attributes and can be called independently.\n",
        "\n",
        "**Example :-**"
      ],
      "metadata": {
        "id": "uvAM2CVzrYV7"
      }
    },
    {
      "cell_type": "code",
      "source": [
        "def add (a,b):\n",
        "  return (a+b)\n",
        "result= add (2,3)\n",
        "print (result)"
      ],
      "metadata": {
        "colab": {
          "base_uri": "https://localhost:8080/"
        },
        "id": "0-o84iCOr0MA",
        "outputId": "e1a63bad-2792-40e4-b29e-4c96b618635c"
      },
      "execution_count": null,
      "outputs": [
        {
          "output_type": "stream",
          "name": "stdout",
          "text": [
            "5\n"
          ]
        }
      ]
    },
    {
      "cell_type": "markdown",
      "source": [
        "**Differences between Functions and Methods** :-  \n",
        "(a). Functions have global scope.Methods have class scope.\n",
        "\n",
        "(b). Functions aren't bound to an object while methods are bound to an instance.\n",
        "\n",
        "(c). Functions do not have access to object attributes while methods do.\n",
        "\n",
        "(d). Functions are called directly while methods are called on an object instance.\n",
        "\n",
        "(e). Methods have implicit self parameter, referencing the object instance.\n",
        "\n",
        "\n",
        "___________________________________________________________________________"
      ],
      "metadata": {
        "id": "w_Fzd0AisNzn"
      }
    },
    {
      "cell_type": "markdown",
      "source": [
        "# **Q.2. Explain the concept of function arguments and parameters in Python.**\n",
        "Ans. In Python, parameters and arguments are related concepts used when defining and calling functions.\n",
        "\n",
        "**Function Parameters** :-\n",
        "Parameters are the names listed in the function definition. Parameters are the variables that receive the input values passed to the function when it is called. They are defined inside the parantheses of the function definition.\n",
        "\n",
        "**Function Arguments** :-  \n",
        "Arguments are the actual values passed to the function when it is called. They can be literals,variables, expressions or even other function calls.\n",
        "\n",
        "**Example :-**"
      ],
      "metadata": {
        "id": "aveuPm6-uFHw"
      }
    },
    {
      "cell_type": "code",
      "source": [
        "def greet(name, message):  # 'name' and 'message' are parameters\n",
        "    print(f\"Hello, {name}! {message}\")\n",
        "\n",
        "greet(\"Sam\", \"Welcome to Python!\")  # \"Sam\" and \"Welcome to Python!\" are arguments\n"
      ],
      "metadata": {
        "colab": {
          "base_uri": "https://localhost:8080/"
        },
        "id": "8_4KneEOydJs",
        "outputId": "6b8512be-4081-48c4-a008-647611c202aa"
      },
      "execution_count": null,
      "outputs": [
        {
          "output_type": "stream",
          "name": "stdout",
          "text": [
            "Hello, Sam! Welcome to Python!\n"
          ]
        }
      ]
    },
    {
      "cell_type": "markdown",
      "source": [
        "**Types of Arguments :-**\n",
        "\n",
        "1. Positional Arguments :-  \n",
        "\n",
        "      These are passed in the same order as the parameters and are most basic type of argument.\n",
        "\n",
        " **Example :-**"
      ],
      "metadata": {
        "id": "F1GNzXSXzFOi"
      }
    },
    {
      "cell_type": "code",
      "source": [
        "def person_name(first_name,second_name):\n",
        "  print(first_name+second_name)\n",
        "\n",
        "# First name is Ram placed first\n",
        "# Second name is Babu place second\n",
        "person_name(\"Ram\",\"Babu\")"
      ],
      "metadata": {
        "colab": {
          "base_uri": "https://localhost:8080/"
        },
        "id": "zoddopSm0rkM",
        "outputId": "09e59f0d-9a48-4c37-ca71-8500f72c953e"
      },
      "execution_count": null,
      "outputs": [
        {
          "output_type": "stream",
          "name": "stdout",
          "text": [
            "RamBabu\n"
          ]
        }
      ]
    },
    {
      "cell_type": "markdown",
      "source": [
        "2. Keyword Arguments :-  \n",
        "\n",
        "  These allow us to specify the parameter name and its value.They can be passed in any order.\n",
        "\n",
        "  **Example :-**"
      ],
      "metadata": {
        "id": "nQSs8FYe061e"
      }
    },
    {
      "cell_type": "code",
      "source": [
        "def greet(name, message):\n",
        "    print(f\"Hello, {name}! {message}\")\n",
        "\n",
        "greet(name=\"Avi\", message=\"Welcome to Python!\")"
      ],
      "metadata": {
        "colab": {
          "base_uri": "https://localhost:8080/"
        },
        "id": "PP0w5o322Gbh",
        "outputId": "e2a6cd08-6170-4adf-d4aa-1246c938b17c"
      },
      "execution_count": null,
      "outputs": [
        {
          "output_type": "stream",
          "name": "stdout",
          "text": [
            "Hello, Avi! Welcome to Python!\n"
          ]
        }
      ]
    },
    {
      "cell_type": "markdown",
      "source": [
        "3. Default Arguments :-  \n",
        "\n",
        "      When calling the function, parameters with default values can be omitted, making them optional.\n",
        "\n",
        "  **Example :-**"
      ],
      "metadata": {
        "id": "e0aJ1hgX2N3K"
      }
    },
    {
      "cell_type": "code",
      "source": [
        "def greet(name, message=\"Hello!\"):\n",
        "  print(f\"{message}, {name}!\")\n",
        "\n",
        "greet(\"Avi\")\n",
        "greet(\"Avi\", \"Welcome\")"
      ],
      "metadata": {
        "colab": {
          "base_uri": "https://localhost:8080/"
        },
        "id": "EdyiFp-Q3gx-",
        "outputId": "c957246e-7c91-4d28-fb96-3afa16d613a2"
      },
      "execution_count": null,
      "outputs": [
        {
          "output_type": "stream",
          "name": "stdout",
          "text": [
            "Hello!, Avi!\n",
            "Welcome, Avi!\n"
          ]
        }
      ]
    },
    {
      "cell_type": "markdown",
      "source": [
        "4. Variable - Length Arguments :-  \n",
        "\n",
        "In this, `*args` used for non - keyword arguments and `**kwargs` allows passing any number of keyword arguments.\n",
        "\n",
        "**Example :-**\n",
        "   "
      ],
      "metadata": {
        "id": "iNKPROn_3wzL"
      }
    },
    {
      "cell_type": "code",
      "source": [
        "def add_multiple(*args):\n",
        "    return sum(args)\n",
        "\n",
        "print(add_multiple(1, 2, 3))\n",
        "\n",
        "def print_info(**kwargs):\n",
        "    for key, value in kwargs.items():\n",
        "        print(f\"{key}: {value}\")\n",
        "\n",
        "print_info(name=\"Alice\", age=30)"
      ],
      "metadata": {
        "colab": {
          "base_uri": "https://localhost:8080/"
        },
        "id": "6Xjvzddy7IUr",
        "outputId": "8d7a7993-42a7-4483-8212-7a80753ebb83"
      },
      "execution_count": null,
      "outputs": [
        {
          "output_type": "stream",
          "name": "stdout",
          "text": [
            "6\n",
            "name: Alice\n",
            "age: 30\n"
          ]
        }
      ]
    },
    {
      "cell_type": "markdown",
      "source": [
        "For writing effective and readable Python code, function arguments and parameters are crucial to be understood carefully.\n",
        "\n",
        "\n",
        "\n",
        "___________________________________________________________________________"
      ],
      "metadata": {
        "id": "t2D8eZm97Vh8"
      }
    },
    {
      "cell_type": "markdown",
      "source": [
        "# **Q.3. What are the different ways to define and call a function in Python ?**\n",
        "Ans. There are several ways to define functions. These ways are as follows :-  \n",
        "\n",
        "**1. Standard Function -** A function is defined using the `def` keyword, followed by the function name and parantheses containing any parameter.\n",
        "\n",
        "**Example :-**"
      ],
      "metadata": {
        "id": "F6Z36Qf87sRm"
      }
    },
    {
      "cell_type": "code",
      "source": [
        "def add(a, b):\n",
        "    return a + b\n",
        "\n",
        "result = add(2, 3)  # Calling the function\n",
        "print(result)"
      ],
      "metadata": {
        "colab": {
          "base_uri": "https://localhost:8080/"
        },
        "id": "PtjUs5zvVmMj",
        "outputId": "10209a6a-1257-4763-9eca-2e5f1adeb569"
      },
      "execution_count": null,
      "outputs": [
        {
          "output_type": "stream",
          "name": "stdout",
          "text": [
            "5\n"
          ]
        }
      ]
    },
    {
      "cell_type": "markdown",
      "source": [
        "**2. Lambda Functions (Anonymous Functions) -** Lamba functions are anonymous functions defined using the `lambda` keyword & they are mainly used for short,simple operations.\n",
        "\n",
        "**Example :-**"
      ],
      "metadata": {
        "id": "hU4MhdnhWQVR"
      }
    },
    {
      "cell_type": "code",
      "source": [
        "multiply = lambda x, y: x * y\n",
        "result = multiply(4, 5)  # Calling the lambda function\n",
        "print(result)"
      ],
      "metadata": {
        "colab": {
          "base_uri": "https://localhost:8080/"
        },
        "id": "Q9mOj6OkX7sf",
        "outputId": "c8770153-9336-44e2-fd39-6a2f298e4f16"
      },
      "execution_count": null,
      "outputs": [
        {
          "output_type": "stream",
          "name": "stdout",
          "text": [
            "20\n"
          ]
        }
      ]
    },
    {
      "cell_type": "markdown",
      "source": [
        "3. **Nested Functions -** Functions can be defined inside other functions, allowing for a closure effect.\n",
        "**Example:-**"
      ],
      "metadata": {
        "id": "EXNXzDbwYL8l"
      }
    },
    {
      "cell_type": "code",
      "source": [
        "multiply = lambda x, y: x * y\n",
        "result = multiply(4, 5)  # Calling the lambda function\n",
        "print(result)"
      ],
      "metadata": {
        "colab": {
          "base_uri": "https://localhost:8080/"
        },
        "id": "JNkjhKxJcDBQ",
        "outputId": "de3020cd-4138-407f-d36a-1ffd4ebe7cd8"
      },
      "execution_count": null,
      "outputs": [
        {
          "output_type": "stream",
          "name": "stdout",
          "text": [
            "20\n"
          ]
        }
      ]
    },
    {
      "cell_type": "markdown",
      "source": [
        "4.**Generator Functions -** We can create generator function using `yield` keyword.\n",
        "\n",
        "**Example :-**"
      ],
      "metadata": {
        "id": "PFmbodlMdIy4"
      }
    },
    {
      "cell_type": "code",
      "source": [
        "# A generator function that yields 1 for first time,\n",
        "# 2 second time and 3 third time\n",
        "def simpleGeneratorFun():\n",
        "    yield 1\n",
        "    yield 2\n",
        "    yield 3\n",
        "\n",
        "# Driver code to check above generator function\n",
        "for value in simpleGeneratorFun():\n",
        "    print(value)\n"
      ],
      "metadata": {
        "colab": {
          "base_uri": "https://localhost:8080/"
        },
        "id": "Hzx4zAETjOXD",
        "outputId": "5992f151-e4d1-47c0-e55c-6d9c4bf4a448"
      },
      "execution_count": null,
      "outputs": [
        {
          "output_type": "stream",
          "name": "stdout",
          "text": [
            "1\n",
            "2\n",
            "3\n"
          ]
        }
      ]
    },
    {
      "cell_type": "markdown",
      "source": [
        "Now coming to the different ways to call a function in Python :-  \n",
        "\n",
        "1. **Direct call :-** This the most simplest and intuitive way."
      ],
      "metadata": {
        "id": "HxNnITd_j2QS"
      }
    },
    {
      "cell_type": "code",
      "source": [
        "def test():\n",
        "    print(\"This is a test\")\n",
        "test()"
      ],
      "metadata": {
        "colab": {
          "base_uri": "https://localhost:8080/"
        },
        "id": "uiCgb5c0lFiQ",
        "outputId": "cc227b10-43f1-4067-9e17-18ded3724a7f"
      },
      "execution_count": null,
      "outputs": [
        {
          "output_type": "stream",
          "name": "stdout",
          "text": [
            "This is a test\n"
          ]
        }
      ]
    },
    {
      "cell_type": "markdown",
      "source": [
        "2. **Call with arguments :-**"
      ],
      "metadata": {
        "id": "q7cTaE87lN6B"
      }
    },
    {
      "cell_type": "code",
      "source": [
        "def greet(name, age):\n",
        "    print(f\"Hello, {name}! You are {age} years old.\")\n",
        "greet(\"John\", 30)"
      ],
      "metadata": {
        "colab": {
          "base_uri": "https://localhost:8080/"
        },
        "id": "xllVYWaTllWT",
        "outputId": "c093d025-e091-4ec0-8d6f-4b25816a43c5"
      },
      "execution_count": null,
      "outputs": [
        {
          "output_type": "stream",
          "name": "stdout",
          "text": [
            "Hello, John! You are 30 years old.\n"
          ]
        }
      ]
    },
    {
      "cell_type": "markdown",
      "source": [
        "3. **Using partial () function :-**  There is a partial method in the built - in library of functools, dedicated to generating partial functions."
      ],
      "metadata": {
        "id": "axwcCG-amXfN"
      }
    },
    {
      "cell_type": "code",
      "source": [
        "def power(x, n):\n",
        "    s = 1\n",
        "    while n > 0:\n",
        "        n = n - 1\n",
        "        s = s * x\n",
        "    return s\n",
        "\n",
        "from functools import partial\n",
        "\n",
        "power_2 = partial(power, n=2)\n",
        "power_2(3)\n",
        "power_2(4)"
      ],
      "metadata": {
        "colab": {
          "base_uri": "https://localhost:8080/"
        },
        "id": "an4b418nnBcf",
        "outputId": "d1e0d535-e7b2-44d7-84c0-2dee1afa1df2"
      },
      "execution_count": null,
      "outputs": [
        {
          "output_type": "execute_result",
          "data": {
            "text/plain": [
              "16"
            ]
          },
          "metadata": {},
          "execution_count": 6
        }
      ]
    },
    {
      "cell_type": "markdown",
      "source": [
        "4. **Using methodcaller () :-**  There is a methodcaller method in operator."
      ],
      "metadata": {
        "id": "GffIL7MHnMIl"
      }
    },
    {
      "cell_type": "code",
      "source": [
        "from operator import methodcaller\n",
        "\n",
        "class People:\n",
        "    def speak(self, dest):\n",
        "        print(\"Hello, %s\" %dest)\n",
        "\n",
        "caller = methodcaller(\"speak\", \"Tony\")\n",
        "p = People()\n",
        "caller(p)"
      ],
      "metadata": {
        "colab": {
          "base_uri": "https://localhost:8080/"
        },
        "id": "PYU_Tif9njOp",
        "outputId": "d197825e-c593-4de5-98a8-5192d9ba7ac7"
      },
      "execution_count": null,
      "outputs": [
        {
          "output_type": "stream",
          "name": "stdout",
          "text": [
            "Hello, Tony\n"
          ]
        }
      ]
    },
    {
      "cell_type": "markdown",
      "source": [
        "___________________________________________________________________________"
      ],
      "metadata": {
        "id": "7QzaaM4lntsD"
      }
    },
    {
      "cell_type": "markdown",
      "source": [
        "# **Q.4.  What is the purpose of the `return` statement in a Python function?**\n",
        "\n",
        "Ans. The `return` function in a Python function has several purposes :-  \n",
        "1. Exiting the function :  The `return` statement terminates the function's execution and returns control to the caller.\n",
        "\n",
        "2. Reutrning values : The `return` statement can pass values back to the caller, allowing functions to communicate results.\n",
        "\n",
        "  **Use cases :-**\n",
        "  (a). Computing values :- Return calculated values from a function."
      ],
      "metadata": {
        "id": "rnMMEi6Fny7d"
      }
    },
    {
      "cell_type": "code",
      "source": [
        "def add(a,b):\n",
        "  return a+b\n",
        "result = add(2,3)\n",
        "print(result)"
      ],
      "metadata": {
        "colab": {
          "base_uri": "https://localhost:8080/"
        },
        "id": "S3r3W4dUs_pW",
        "outputId": "21ef8c90-5133-48d2-d1cc-7d2d4e35e966"
      },
      "execution_count": null,
      "outputs": [
        {
          "output_type": "stream",
          "name": "stdout",
          "text": [
            "5\n"
          ]
        }
      ]
    },
    {
      "cell_type": "markdown",
      "source": [
        "(b). Indicating success / failure : Return Boolean values or status codes to indicate success or failure."
      ],
      "metadata": {
        "id": "csoodFkVy3vM"
      }
    },
    {
      "cell_type": "code",
      "source": [
        ">>> def is_divisible(a, b):\n",
        "...     if not a % b:\n",
        "...         return True\n",
        "...     return False\n",
        "...\n",
        "\n",
        ">>> is_divisible(4, 2)\n",
        "True\n",
        "\n",
        ">>> is_divisible(7, 4)\n",
        "False"
      ],
      "metadata": {
        "colab": {
          "base_uri": "https://localhost:8080/"
        },
        "id": "8IGTbEPg2jdQ",
        "outputId": "510afdd3-b4c0-4477-89c6-9251d0a509cf"
      },
      "execution_count": null,
      "outputs": [
        {
          "output_type": "execute_result",
          "data": {
            "text/plain": [
              "False"
            ]
          },
          "metadata": {},
          "execution_count": 16
        }
      ]
    },
    {
      "cell_type": "markdown",
      "source": [
        "(c). Returning complex data : Return Lists, dictionaries or objects."
      ],
      "metadata": {
        "id": "9xKdPYTk0Vw7"
      }
    },
    {
      "cell_type": "code",
      "source": [
        "def get_user_data():\n",
        "  return {\"name\":\"John\",\"age\":30}\n",
        "user_data = get_user_data()\n",
        "print(user_data[\"name\"])"
      ],
      "metadata": {
        "colab": {
          "base_uri": "https://localhost:8080/"
        },
        "id": "c7nBB4jv0m4O",
        "outputId": "a66f273c-2998-4e03-9c73-441a061acc26"
      },
      "execution_count": null,
      "outputs": [
        {
          "output_type": "stream",
          "name": "stdout",
          "text": [
            "John\n"
          ]
        }
      ]
    },
    {
      "cell_type": "markdown",
      "source": [
        "(d). Early Exit : Use `return` to exit a function prematurely."
      ],
      "metadata": {
        "id": "AkWiDgcN1cid"
      }
    },
    {
      "cell_type": "code",
      "source": [
        "def divide(a,b):\n",
        " if b==0:\n",
        "  return\"Error:Division by zero\"\n",
        " return a/b"
      ],
      "metadata": {
        "id": "ntrZFZGj1rkW"
      },
      "execution_count": null,
      "outputs": []
    },
    {
      "cell_type": "markdown",
      "source": [
        "(e). Returning multiple values : A return statement can be used to return multiple values from a function. You just need to supply several return values separated by commas."
      ],
      "metadata": {
        "id": "TJFE29p22Caz"
      }
    },
    {
      "cell_type": "code",
      "source": [
        "import statistics as st\n",
        "def describe(sample):\n",
        "    return st.mean(sample), st.median(sample), st.mode(sample)"
      ],
      "metadata": {
        "id": "aKfcfIxZ4zF2"
      },
      "execution_count": null,
      "outputs": []
    },
    {
      "cell_type": "markdown",
      "source": [
        "Thus, the `return` statement is essential for obtaining results from functions, enabling modular and reusable code."
      ],
      "metadata": {
        "id": "gaxa3i7S7OK5"
      }
    },
    {
      "cell_type": "markdown",
      "source": [
        "___________________________________________________________________________"
      ],
      "metadata": {
        "id": "_ETax8R26zln"
      }
    },
    {
      "cell_type": "markdown",
      "source": [
        "# **Q. 5. What are iterators in Python and how do they differ from iterables?**\n",
        "\n",
        "Ans. **Iterators :-** Iterators are objects in Python that enable traversal through all the elements in a data structure, especially when the structure contains a large number of items and memory efficiency is a concern.\n",
        "\n",
        "**Characteristics of Iterators :-**\n",
        "(a). iterate over a sequence (list, tuple, dictionary, set ).\n",
        "(b). Keep track of current position.\n",
        "(c). Return the next item on each iteration.\n",
        "\n",
        "**Iterator Methods :-**\n",
        "1.   `__iter__()`: Returns the iterator object.\n",
        "\n",
        "2. `__next__()`: Returns the next item.\n",
        "\n",
        "**Types of iterators :-**\n",
        "1. **Iterator :** A general iterator that can be used with any iterable.\n",
        "\n",
        "2. **Generator :** A special type of iterator that generate values on-the-fly.\n",
        "\n",
        "\n",
        "**Example :-**\n",
        "\n",
        "\n",
        "\n"
      ],
      "metadata": {
        "id": "zCNlzmeU62Jg"
      }
    },
    {
      "cell_type": "code",
      "source": [
        "my_list = [1,2,3]\n",
        "my_iter = iter (my_list)\n",
        "print(next(my_iter))\n",
        "print(next(my_iter))\n",
        "print(next(my_iter))\n",
        "# next(my_iter) would raise StopIteration here"
      ],
      "metadata": {
        "colab": {
          "base_uri": "https://localhost:8080/"
        },
        "id": "zHn75BT3DJZf",
        "outputId": "0fb4a885-1af5-47cd-df40-40d1159b8931"
      },
      "execution_count": null,
      "outputs": [
        {
          "output_type": "stream",
          "name": "stdout",
          "text": [
            "1\n",
            "2\n",
            "3\n"
          ]
        }
      ]
    },
    {
      "cell_type": "markdown",
      "source": [
        "**Iterables :-** An iterable is an Python object capable of returning its members one at a time , allowing it to be iterated over in a loop ( e.g. for loop ). Examples of iterables are lists, tuples, strings, sets and dictionaries.\n",
        "\n",
        "An object must implement the `__iter__()` method, which returns an iterator to be considered iterable.\n",
        "\n",
        "**Differences between Iterators and Iterables :-**\n",
        "(a). Methods : For iterables, `__iter__()` method must be implemented.\n",
        "For iterators, `__iter__()` and `___next___()` methods both must be implemented.\n",
        "\n",
        "(b). Usage : Iterable provides a fresh iterator every time `__iter__()` is called.\n",
        "\n",
        "Iterator keeps it state during iteration and doesn't reset unless explicitly done."
      ],
      "metadata": {
        "id": "mcnjxwoDE07f"
      }
    },
    {
      "cell_type": "code",
      "source": [
        "# Iterable: A list is iterable\n",
        "my_list = [1, 2, 3]\n",
        "\n",
        "# Iterator: Creating an iterator from an iterable using iter()\n",
        "my_iterator = iter(my_list)\n",
        "\n",
        "# Iterating using the iterator\n",
        "print(next(my_iterator))  # Output: 1\n",
        "print(next(my_iterator))  # Output: 2\n",
        "print(next(my_iterator))  # Output: 3\n",
        "# next(my_iterator) would raise StopIteration here\n"
      ],
      "metadata": {
        "colab": {
          "base_uri": "https://localhost:8080/"
        },
        "id": "duGEWrq6I_sx",
        "outputId": "534deb02-b615-4303-c3fb-c9f2ff3bf2c7"
      },
      "execution_count": null,
      "outputs": [
        {
          "output_type": "stream",
          "name": "stdout",
          "text": [
            "1\n",
            "2\n",
            "3\n"
          ]
        }
      ]
    },
    {
      "cell_type": "markdown",
      "source": [
        "___________________________________________________________________________"
      ],
      "metadata": {
        "id": "NVN41fy-JCif"
      }
    },
    {
      "cell_type": "markdown",
      "source": [
        "# **Q.6. Explain the concept of generators in Python and how they are defined.**\n",
        "Ans. Generators in Python are special types of iterators that generate values on-the-fly, rather than computing them all at once. They are a powerful tool in Python that enable efficient and lazy iteration over sequences.\n",
        "\n",
        "**Key features of Generators :-**\n",
        "1. Lazy evaluation : Values are generated only when needed.\n",
        "2. Memory efficiency : There is no need to store all values in memory.\n",
        "3. Iterability : Generators can be used in Loops and iterations.\n",
        "\n",
        "**Key Elements :-**\n",
        "1. def statement : Defines a generator function.\n",
        "2. yield statement : Produces a value and suspends execution.\n",
        "3. Function body : Executes until the next yield statement.\n",
        "**Process of defining generators :-**\n",
        "Generators are defined using functions with the `yield` statement instead of `return`.When called, a generator function doesn't execute its body immediately, instead it returns a generator object that can be iterated over.\n",
        "\n",
        "**Example :-**"
      ],
      "metadata": {
        "id": "kjmshXdxJErt"
      }
    },
    {
      "cell_type": "code",
      "source": [
        "gen = simple_generator()\n",
        "print(next(gen))\n",
        "print(next(gen))\n",
        "print(next(gen))"
      ],
      "metadata": {
        "colab": {
          "base_uri": "https://localhost:8080/"
        },
        "id": "e8ELW-sOTW7e",
        "outputId": "a92bae82-4e59-4237-e6e2-4827f8665a49"
      },
      "execution_count": null,
      "outputs": [
        {
          "output_type": "stream",
          "name": "stdout",
          "text": [
            "1\n",
            "2\n",
            "3\n"
          ]
        }
      ]
    },
    {
      "cell_type": "markdown",
      "source": [
        "Example of a generator to produce Fibonacci Series :-   "
      ],
      "metadata": {
        "id": "50usaNErTfJT"
      }
    },
    {
      "cell_type": "code",
      "source": [
        "def fibonacci(n):\n",
        "    a, b = 0, 1\n",
        "    for _ in range(n):\n",
        "        yield a\n",
        "        a, b = b, a + b\n",
        "\n",
        "# Using the generator\n",
        "for num in fibonacci(10):\n",
        "    print(num)"
      ],
      "metadata": {
        "colab": {
          "base_uri": "https://localhost:8080/"
        },
        "id": "68UUP1eGTvJr",
        "outputId": "b6cd8049-d348-4b48-aec6-c9fa71c7b850"
      },
      "execution_count": null,
      "outputs": [
        {
          "output_type": "stream",
          "name": "stdout",
          "text": [
            "0\n",
            "1\n",
            "1\n",
            "2\n",
            "3\n",
            "5\n",
            "8\n",
            "13\n",
            "21\n",
            "34\n"
          ]
        }
      ]
    },
    {
      "cell_type": "markdown",
      "source": [
        "___________________________________________________________________________"
      ],
      "metadata": {
        "id": "zkwO5LNtT3OR"
      }
    },
    {
      "cell_type": "markdown",
      "source": [
        "# **Q. 7. What are the advantages of using generators over regular functions?**\n",
        "Ans. Generators offer some advantages over regular functions, mainly in terms of memory efficiency,simplicity and performance. Some advantages are given below as :-  \n",
        "(a). Memory efficiency : Generators produce values one at a time and only when needed, rather than storing the entire result in memory at once. This makes them particularly useful for handling large datasets or streams of data where loading everything into memory would be inefficient or impractical.\n",
        "\n",
        "(b). Lazy evaluation : Generators use lazy evaluation , meaning they compute values only when requested. This allows for efficient data processing, especially when dealing with potentially infinite sequences, like reading lines from a large file or generating an infinite sequence of numbers.\n",
        "\n",
        "(c). Performance : Generators avoid the overhead of creating and storing large datasets, resulting in faster execution.\n",
        "\n",
        "(d). Simplified code : Generators eliminate the need for manual iteration and indexing. They simplify code by allowing you to write cleaner and more readable loops.\n",
        "\n",
        "**Example of a Generator vs. Regular Function:-**\n",
        "\n",
        "#### Regular Function Example:\n",
        "Here’s a regular function that generates a list of squares:\n"
      ],
      "metadata": {
        "id": "aONuIBuuT6ck"
      }
    },
    {
      "cell_type": "code",
      "source": [
        "def generate_squares(n):\n",
        "    squares = []\n",
        "    for i in range(n):\n",
        "        squares.append(i ** 2)\n",
        "    return squares\n",
        "\n",
        "# Using the regular function\n",
        "squares = generate_squares(5)\n",
        "print(squares)"
      ],
      "metadata": {
        "colab": {
          "base_uri": "https://localhost:8080/"
        },
        "id": "sVlcYeO-aXea",
        "outputId": "f9f6e1f0-97a4-4266-c338-766dd5ae4af7"
      },
      "execution_count": null,
      "outputs": [
        {
          "output_type": "stream",
          "name": "stdout",
          "text": [
            "[0, 1, 4, 9, 16]\n"
          ]
        }
      ]
    },
    {
      "cell_type": "markdown",
      "source": [
        "#### Generator Example:\n",
        "Now, let’s implement the same functionality using a generator:\n"
      ],
      "metadata": {
        "id": "7AgD2GA4byKd"
      }
    },
    {
      "cell_type": "code",
      "source": [
        "def generate_squares_gen(n):\n",
        "    for i in range(n):\n",
        "        yield i ** 2\n",
        "\n",
        "# Using the generator\n",
        "squares_gen = generate_squares_gen(5)\n",
        "for square in squares_gen:\n",
        "    print(square)"
      ],
      "metadata": {
        "colab": {
          "base_uri": "https://localhost:8080/"
        },
        "id": "0891o24Xczo4",
        "outputId": "82bd274d-466c-4bb7-d959-0ab2a5f9ca10"
      },
      "execution_count": null,
      "outputs": [
        {
          "output_type": "stream",
          "name": "stdout",
          "text": [
            "0\n",
            "1\n",
            "4\n",
            "9\n",
            "16\n"
          ]
        }
      ]
    },
    {
      "cell_type": "markdown",
      "source": [
        "Summary\n",
        "Generators are advantageous for their memory efficiency, lazy evaluation, and simplified iteration management, making them ideal for processing large data sets or streams where you don't need all results at once.\n",
        "___________________________________________________________________________"
      ],
      "metadata": {
        "id": "wEg-rJjtdIlO"
      }
    },
    {
      "cell_type": "markdown",
      "source": [
        "# **Q. 8. What is a lambda function in Python and when is it typically used?**\n",
        "Ans. A lambda function is an anonymous function defined using the `lambda` keyword. It can have any number of arguments but only one expression. The syntax of lambda function is :-\n",
        "\n",
        "\n"
      ],
      "metadata": {
        "id": "oWu9wJIwdL_Q"
      }
    },
    {
      "cell_type": "code",
      "source": [
        "lambda arguments: expression"
      ],
      "metadata": {
        "colab": {
          "base_uri": "https://localhost:8080/"
        },
        "id": "GZzerXPQbE2S",
        "outputId": "ce3a8579-4c85-412d-da1c-46edab5e1e79"
      },
      "execution_count": null,
      "outputs": [
        {
          "output_type": "execute_result",
          "data": {
            "text/plain": [
              "<function __main__.<lambda>(arguments)>"
            ]
          },
          "metadata": {},
          "execution_count": 1
        }
      ]
    },
    {
      "cell_type": "markdown",
      "source": [
        "**Characteristics of Lambda functions :-**\n",
        "1. Anonymous : Lambda functions do not have a name, unlike regular functions defined using def.\n",
        "\n",
        "2. Single expression : They can only contain a single expression, which is evaluated and returned. They are not meant for complex logic or mltiple statements.\n",
        "\n",
        "3. Compact Syntax : Lambda functions are written in a single line, making them concise and readable for simple operations.\n",
        "\n",
        "Here is a basic example of a lambda function adding two numbers :-"
      ],
      "metadata": {
        "id": "CQOY1BSVbH3v"
      }
    },
    {
      "cell_type": "code",
      "source": [
        "# Defining a lambda function\n",
        "add = lambda x, y: x + y\n",
        "\n",
        "# Using the lambda function\n",
        "result = add(3, 5)\n",
        "print(result)"
      ],
      "metadata": {
        "colab": {
          "base_uri": "https://localhost:8080/"
        },
        "id": "FyGDrGhrc9NO",
        "outputId": "9d038748-3630-4ab8-cdaa-a464a2f8f45c"
      },
      "execution_count": null,
      "outputs": [
        {
          "output_type": "stream",
          "name": "stdout",
          "text": [
            "8\n"
          ]
        }
      ]
    },
    {
      "cell_type": "markdown",
      "source": [
        "**Use cases for Lambda functions :-**\n",
        "1. Short, throwaway functions : Useful when a sinple function is needed temporarily and does not need to be reused elsewhere.\n",
        "\n",
        "2. Functional Programming Contexts : Commonly used with functions like `map ()`, `filter ()`, and `sorted ()` where you need to provide a quick function without defining it explicitly using `def`.\n",
        "\n",
        "**Example with `map ()` :**"
      ],
      "metadata": {
        "id": "_xOM_yXIdCPj"
      }
    },
    {
      "cell_type": "code",
      "source": [
        "numbers = [1, 2, 3, 4]\n",
        "squares = list(map(lambda x: x ** 2, numbers))\n",
        "print(squares)"
      ],
      "metadata": {
        "colab": {
          "base_uri": "https://localhost:8080/"
        },
        "id": "3X_LSh6iefGQ",
        "outputId": "4f47ebd1-0e2c-49f1-c9d7-d61c26a966aa"
      },
      "execution_count": null,
      "outputs": [
        {
          "output_type": "stream",
          "name": "stdout",
          "text": [
            "[1, 4, 9, 16]\n"
          ]
        }
      ]
    },
    {
      "cell_type": "markdown",
      "source": [
        "**Limitations of Lambda functions :-**\n",
        "1. Limited to one expression : Cannot contain multiple expressions or statements; hence, they are not suitable for complex logic.\n",
        "\n",
        "2. Less readable for complex operations :Overuse can make the code hard to read and debug, especially when combined with other functional programming techniques.\n",
        "\n",
        "So, Lambda functions are best used when you need a small, quick function for short-term use, especially in functional programming contexts where concise, inline operations are desirable. They help reduce boilerplate code but should be used judiciously to maintain readability.\n",
        "\n",
        "\n",
        "\n",
        "___________________________________________________________________________"
      ],
      "metadata": {
        "id": "ptNlvfEremhP"
      }
    },
    {
      "cell_type": "markdown",
      "source": [
        "# **Q. 9. Explain the purpose and usage of the `map()` function in Python.**\n",
        "Ans. The `map ()` function in Python is used to apply a specified function to each item of an iterable and returns an iterator with the results. It's a way to process elements in an iterable without using\n",
        "explicit loops.\n",
        "\n",
        "The purpose of `map  ()` function is to apply a function to each element of an iterable in a concise and readable way & to avoid writing explicit `for` loops when transforming data, making the code cleaner and often more efficient.\n",
        "\n",
        "**Key points :-**\n",
        "1. `map ()` returns a map object, which is an iterator. You need to convert it to a list, set or tuple to view the results.\n",
        "\n",
        "2. Since `map ()` returns an iterator, it is memory - efficient, especially with large datasets, as it compute values on demand.\n",
        "\n",
        "3. `map ()` function helps write cleaner and more readable code compared to traditional loops.\n",
        "\n",
        "**Examples of some usage of `map ()` function :-**\n",
        "1. Applying a function to double each number in a list :"
      ],
      "metadata": {
        "id": "wvR4NKFufoaL"
      }
    },
    {
      "cell_type": "code",
      "source": [
        "numbers = [1, 2, 3, 4]\n",
        "doubled = map(lambda x: x * 2, numbers)\n",
        "print(list(doubled))"
      ],
      "metadata": {
        "colab": {
          "base_uri": "https://localhost:8080/"
        },
        "id": "xkpcP2NWkCT3",
        "outputId": "263bdb32-9672-49c2-9216-15f95711339d"
      },
      "execution_count": null,
      "outputs": [
        {
          "output_type": "stream",
          "name": "stdout",
          "text": [
            "[2, 4, 6, 8]\n"
          ]
        }
      ]
    },
    {
      "cell_type": "markdown",
      "source": [
        "   2. Using multiple iterables : If multiple iterables are passed, the function must accept as many arguments as there are iterables. The transformation stops when the shortest iterable is exhausted."
      ],
      "metadata": {
        "id": "647_6mAmkeP_"
      }
    },
    {
      "cell_type": "code",
      "source": [
        "# Using map() with two iterables\n",
        "numbers1 = [1, 2, 3]\n",
        "numbers2 = [4, 5, 6]\n",
        "\n",
        "# Function to add two numbers\n",
        "def add(x, y):\n",
        "    return x + y\n",
        "\n",
        "# Applying map() with the add function\n",
        "added_numbers = map(add, numbers1, numbers2)\n",
        "\n",
        "# Converting the map object to a list\n",
        "print(list(added_numbers))"
      ],
      "metadata": {
        "colab": {
          "base_uri": "https://localhost:8080/"
        },
        "id": "neA2p_vckkYr",
        "outputId": "4d210368-f682-4718-c2c1-6e367be59417"
      },
      "execution_count": null,
      "outputs": [
        {
          "output_type": "stream",
          "name": "stdout",
          "text": [
            "[5, 7, 9]\n"
          ]
        }
      ]
    },
    {
      "cell_type": "markdown",
      "source": [
        "  3. Using a built - in function : Using `str ( )` to convert all integers in  a list to strings ."
      ],
      "metadata": {
        "id": "RpSBlgEBlJPa"
      }
    },
    {
      "cell_type": "code",
      "source": [
        "nums = [10, 20, 30]\n",
        "string_nums = map(str, nums)\n",
        "print(list(string_nums))"
      ],
      "metadata": {
        "colab": {
          "base_uri": "https://localhost:8080/"
        },
        "id": "oLkLrovJlgQ7",
        "outputId": "95baf2d7-2c53-4f9d-d5d5-e40c0dccb345"
      },
      "execution_count": null,
      "outputs": [
        {
          "output_type": "stream",
          "name": "stdout",
          "text": [
            "['10', '20', '30']\n"
          ]
        }
      ]
    },
    {
      "cell_type": "markdown",
      "source": [
        "___________________________________________________________________________"
      ],
      "metadata": {
        "id": "hLDX6XAMl9Jm"
      }
    },
    {
      "cell_type": "markdown",
      "source": [
        "# **Q. 10. What is the difference between `map()`, `reduce()`, and `filter()` functions in Python?**\n",
        "Ans. The `map ()`, ` reduce ()`  and ` filter ()` functions in Python are high-order  functions commonly used for functional programming. While they all operate on iterables, they serve different purposes :-  \n",
        "\n",
        "1. `map ()` functions :    \n",
        "     Purpose - Applies a given function to each item of an iterable and returns an iterator of the results.\n",
        "\n",
        "     Usage -  Used when you want to transform each element of an iterable.\n",
        "     Syntax - `map ( function, iterable )`\n",
        "\n",
        "  **Example :-**"
      ],
      "metadata": {
        "id": "PhadoCy2l_GE"
      }
    },
    {
      "cell_type": "code",
      "source": [
        "numbers = [1, 2, 3, 4]\n",
        "result = map(lambda x: x * 2, numbers)\n",
        "print(list(result))"
      ],
      "metadata": {
        "colab": {
          "base_uri": "https://localhost:8080/"
        },
        "id": "IgRf0cnVo8cL",
        "outputId": "e2d0c4b6-74b7-4fa4-ce29-6608607b28ce"
      },
      "execution_count": null,
      "outputs": [
        {
          "output_type": "stream",
          "name": "stdout",
          "text": [
            "[2, 4, 6, 8]\n"
          ]
        }
      ]
    },
    {
      "cell_type": "markdown",
      "source": [
        "2. `filter ()` functions :    \n",
        "  Purpose - Filters elements from an iterable based on a function that returns `True` or `False` for each element.\n",
        "\n",
        "  Usage - Used when you want to filter out items from an iterable based on a condition.\n",
        "\n",
        "  Syntax - `filter ( function, iterable)`\n",
        "\n",
        "  **Example :-**"
      ],
      "metadata": {
        "id": "s8moC92NpT5j"
      }
    },
    {
      "cell_type": "code",
      "source": [
        "numbers = [1, 2, 3, 4]\n",
        "result = filter(lambda x: x % 2 == 0, numbers)\n",
        "print(list(result))"
      ],
      "metadata": {
        "colab": {
          "base_uri": "https://localhost:8080/"
        },
        "id": "1fSkZE6Xq23I",
        "outputId": "30ff5474-e9ca-4d07-b018-2fb22bb2d5e8"
      },
      "execution_count": null,
      "outputs": [
        {
          "output_type": "stream",
          "name": "stdout",
          "text": [
            "[2, 4]\n"
          ]
        }
      ]
    },
    {
      "cell_type": "markdown",
      "source": [
        "  3. `reduce  ()` function :    \n",
        "  Purpose - Applies a function of two arguments cumulatively to the items of an iterable, from left to right to reduce the iterable to a single value.\n",
        "  Usage - Used when you need to perform a cumulative operation on an iterable .\n",
        "\n",
        "  Syntax - `reduce(function, iterable)`\n",
        "\n",
        "  **Example :-**"
      ],
      "metadata": {
        "id": "MxuQEfx_rG1O"
      }
    },
    {
      "cell_type": "code",
      "source": [
        "from functools import reduce\n",
        "numbers = [1, 2, 3, 4]\n",
        "result = reduce(lambda x, y: x + y, numbers)\n",
        "print(result)"
      ],
      "metadata": {
        "colab": {
          "base_uri": "https://localhost:8080/"
        },
        "id": "ouuDfOIfsLn-",
        "outputId": "4fd8bdfb-828f-49b5-d54e-7543726f6e44"
      },
      "execution_count": null,
      "outputs": [
        {
          "output_type": "stream",
          "name": "stdout",
          "text": [
            "10\n"
          ]
        }
      ]
    },
    {
      "cell_type": "markdown",
      "source": [
        "**Key differences between `map ()`, `filter ()` and `reduce ()` functions :-**\n",
        "(a). `map ()` function transforms each element.\n",
        "\n",
        "(b). `filter ()` function selects element based on a condition.\n",
        "\n",
        "(c). `reduce ()` function aggregates elements into a single result.\n",
        "\n",
        "\n",
        "\n",
        "\n",
        "___________________________________________________________________________"
      ],
      "metadata": {
        "id": "Nne0sA9isjHU"
      }
    },
    {
      "cell_type": "markdown",
      "source": [
        "# **Q.11. Using pen & Paper write the internal mechanism for sum operation using  reduce function on this given  list:[47,11,42,13]**\n",
        "Ans. ![Paper image.jpeg](data:image/jpeg;base64,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)"
      ],
      "metadata": {
        "id": "htIj5lEQ5eRl"
      }
    },
    {
      "cell_type": "markdown",
      "source": [
        "___________________________________________________________________________"
      ],
      "metadata": {
        "id": "74FIZvvy6b3a"
      }
    }
  ]
}