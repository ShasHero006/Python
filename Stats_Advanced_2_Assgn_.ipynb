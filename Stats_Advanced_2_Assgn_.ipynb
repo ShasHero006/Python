{
  "nbformat": 4,
  "nbformat_minor": 0,
  "metadata": {
    "colab": {
      "provenance": [],
      "authorship_tag": "ABX9TyN7LRy+7mnx43fhiwdbuK8v",
      "include_colab_link": true
    },
    "kernelspec": {
      "name": "python3",
      "display_name": "Python 3"
    },
    "language_info": {
      "name": "python"
    }
  },
  "cells": [
    {
      "cell_type": "markdown",
      "metadata": {
        "id": "view-in-github",
        "colab_type": "text"
      },
      "source": [
        "<a href=\"https://colab.research.google.com/github/ShasHero006/Python/blob/main/Stats_Advanced_2_Assgn_.ipynb\" target=\"_parent\"><img src=\"https://colab.research.google.com/assets/colab-badge.svg\" alt=\"Open In Colab\"/></a>"
      ]
    },
    {
      "cell_type": "markdown",
      "source": [
        "Q.1.  Generate a list of 100 integers containing values between 90 to 130 and store it in the variable `int_list`.\n",
        "\n",
        "After generating the list, find the following:\n",
        "\n",
        " (i) Write a Python function to calculate the mean of a given list of numbers.\n",
        " Create a function to find the median of a list of numbers.\n",
        "\n",
        " Ans."
      ],
      "metadata": {
        "id": "Ml3iVTl5h41o"
      }
    },
    {
      "cell_type": "code",
      "source": [
        "import random\n",
        "\n",
        "def calculate_mean(numbers):\n",
        "  \"\"\"Calculates the mean of a list of numbers.\n",
        "  Args:\n",
        "    numbers: A list of numbers.\n",
        "  Returns:\n",
        "    The mean of the numbers.\n",
        "  \"\"\"\n",
        "  return sum(numbers) / len(numbers) if numbers else 0\n",
        "\n",
        "\n",
        "def calculate_median(numbers):\n",
        "    \"\"\"Calculates the median of a list of numbers.\n",
        "    Args:\n",
        "        numbers: A list of numbers.\n",
        "    Returns:\n",
        "        The median of the numbers.\n",
        "    \"\"\"\n",
        "    n = len(numbers)\n",
        "    sorted_numbers = sorted(numbers)\n",
        "    if n % 2 == 0:\n",
        "        mid1 = sorted_numbers[n // 2 - 1]\n",
        "        mid2 = sorted_numbers[n // 2]\n",
        "        median = (mid1 + mid2) / 2\n",
        "    else:\n",
        "        median = sorted_numbers[n // 2]\n",
        "    return median\n",
        "\n",
        "\n",
        "# Generate a list of 100 random integers between 90 and 130\n",
        "int_list = [random.randint(90, 130) for _ in range(100)]\n",
        "\n",
        "# Calculate the mean of the list\n",
        "mean = calculate_mean(int_list)\n",
        "print(\"Mean:\", mean)\n",
        "\n",
        "# Calculate the median of the list\n",
        "median = calculate_median(int_list)\n",
        "print(\"Median:\", median)"
      ],
      "metadata": {
        "colab": {
          "base_uri": "https://localhost:8080/"
        },
        "id": "sTXfKWNBnODk",
        "outputId": "79b17a49-7b2e-49e0-fd66-a0de1b311de3"
      },
      "execution_count": null,
      "outputs": [
        {
          "output_type": "stream",
          "name": "stdout",
          "text": [
            "Mean: 111.71\n",
            "Median: 112.5\n"
          ]
        }
      ]
    },
    {
      "cell_type": "markdown",
      "source": [
        " (ii) Develop a program to compute the mode of a list of integers.\n",
        "\n",
        " Ans."
      ],
      "metadata": {
        "id": "EzFmgc6bnkKS"
      }
    },
    {
      "cell_type": "code",
      "source": [
        "from collections import Counter\n",
        "import random\n",
        "\n",
        "def calculate_mean(numbers):\n",
        "  \"\"\"Calculates the mean of a list of numbers.\n",
        "  Args:\n",
        "    numbers: A list of numbers.\n",
        "  Returns:\n",
        "    The mean of the numbers.\n",
        "  \"\"\"\n",
        "  return sum(numbers) / len(numbers) if numbers else 0\n",
        "\n",
        "\n",
        "def calculate_median(numbers):\n",
        "    \"\"\"Calculates the median of a list of numbers.\n",
        "    Args:\n",
        "        numbers: A list of numbers.\n",
        "    Returns:\n",
        "        The median of the numbers.\n",
        "    \"\"\"\n",
        "    n = len(numbers)\n",
        "    sorted_numbers = sorted(numbers)\n",
        "    if n % 2 == 0:\n",
        "        mid1 = sorted_numbers[n // 2 - 1]\n",
        "        mid2 = sorted_numbers[n // 2]\n",
        "        median = (mid1 + mid2) / 2\n",
        "    else:\n",
        "        median = sorted_numbers[n // 2]\n",
        "    return median\n",
        "\n",
        "def calculate_mode(numbers):\n",
        "    \"\"\"Calculates the mode of a list of numbers.\n",
        "    Args:\n",
        "      numbers: A list of numbers.\n",
        "    Returns:\n",
        "      A list of the mode(s) of the numbers.\n",
        "    \"\"\"\n",
        "    count = Counter(numbers)\n",
        "    max_count = max(count.values())\n",
        "    mode = [num for num, freq in count.items() if freq == max_count]\n",
        "    return mode\n",
        "\n",
        "# Generate a list of 100 random integers between 90 and 130\n",
        "int_list = [random.randint(90, 130) for _ in range(100)]\n",
        "\n",
        "# Calculate the mean of the list\n",
        "mean = calculate_mean(int_list)\n",
        "print(\"Mean:\", mean)\n",
        "\n",
        "# Calculate the median of the list\n",
        "median = calculate_median(int_list)\n",
        "print(\"Median:\", median)\n",
        "\n",
        "# Calculate the mode of the list\n",
        "mode = calculate_mode(int_list)\n",
        "print(\"Mode:\", mode)"
      ],
      "metadata": {
        "colab": {
          "base_uri": "https://localhost:8080/"
        },
        "id": "eOm_iO4uoWNw",
        "outputId": "bff50f8b-0756-4d44-f390-1cb56514b20e"
      },
      "execution_count": null,
      "outputs": [
        {
          "output_type": "stream",
          "name": "stdout",
          "text": [
            "Mean: 109.9\n",
            "Median: 110.0\n",
            "Mode: [93]\n"
          ]
        }
      ]
    },
    {
      "cell_type": "markdown",
      "source": [
        " (iii) Implement a function to calculate the weighted mean of a list of values and their corresponding weights.\n",
        "\n",
        " Ans."
      ],
      "metadata": {
        "id": "661UJVjlo8-2"
      }
    },
    {
      "cell_type": "code",
      "source": [
        "import random\n",
        "from collections import Counter\n",
        "\n",
        "def calculate_mean(numbers):\n",
        "  \"\"\"Calculates the mean of a list of numbers.\n",
        "  Args:\n",
        "    numbers: A list of numbers.\n",
        "  Returns:\n",
        "    The mean of the numbers.\n",
        "  \"\"\"\n",
        "  return sum(numbers) / len(numbers) if numbers else 0\n",
        "\n",
        "\n",
        "def calculate_median(numbers):\n",
        "    \"\"\"Calculates the median of a list of numbers.\n",
        "    Args:\n",
        "        numbers: A list of numbers.\n",
        "    Returns:\n",
        "        The median of the numbers.\n",
        "    \"\"\"\n",
        "    n = len(numbers)\n",
        "    sorted_numbers = sorted(numbers)\n",
        "    if n % 2 == 0:\n",
        "        mid1 = sorted_numbers[n // 2 - 1]\n",
        "        mid2 = sorted_numbers[n // 2]\n",
        "        median = (mid1 + mid2) / 2\n",
        "    else:\n",
        "        median = sorted_numbers[n // 2]\n",
        "    return median\n",
        "\n",
        "def calculate_mode(numbers):\n",
        "    \"\"\"Calculates the mode of a list of numbers.\n",
        "    Args:\n",
        "      numbers: A list of numbers.\n",
        "    Returns:\n",
        "      A list of the mode(s) of the numbers.\n",
        "    \"\"\"\n",
        "    count = Counter(numbers)\n",
        "    max_count = max(count.values())\n",
        "    mode = [num for num, freq in count.items() if freq == max_count]\n",
        "    return mode\n",
        "\n",
        "def calculate_weighted_mean(values, weights):\n",
        "    \"\"\"Calculates the weighted mean of a list of values.\n",
        "    Args:\n",
        "        values: A list of numerical values.\n",
        "        weights: A list of weights corresponding to the values.\n",
        "    Returns:\n",
        "        The weighted mean of the values.\n",
        "    \"\"\"\n",
        "    if len(values) != len(weights):\n",
        "        raise ValueError(\"The lengths of values and weights lists must be equal.\")\n",
        "\n",
        "    weighted_sum = sum(v * w for v, w in zip(values, weights))\n",
        "    total_weight = sum(weights)\n",
        "\n",
        "    if total_weight == 0:\n",
        "        return 0  # Handle the case where all weights are zero to avoid division by zero\n",
        "\n",
        "    return weighted_sum / total_weight\n",
        "\n",
        "# Generate a list of 100 random integers between 90 and 130\n",
        "int_list = [random.randint(90, 130) for _ in range(100)]\n",
        "\n",
        "# Calculate the mean of the list\n",
        "mean = calculate_mean(int_list)\n",
        "print(\"Mean:\", mean)\n",
        "\n",
        "# Calculate the median of the list\n",
        "median = calculate_median(int_list)\n",
        "print(\"Median:\", median)\n",
        "\n",
        "# Calculate the mode of the list\n",
        "mode = calculate_mode(int_list)\n",
        "print(\"Mode:\", mode)\n",
        "\n",
        "# Example usage of weighted mean\n",
        "values = [10, 20, 30, 40, 50]\n",
        "weights = [0.1, 0.2, 0.3, 0.2, 0.2]\n",
        "weighted_mean = calculate_weighted_mean(values, weights)\n",
        "\n",
        "print(\"Weighted Mean:\", weighted_mean)\n",
        "\n",
        "# Calculate the weighted mean for int_list (using uniform weights as an example)\n",
        "weights_int_list = [1] * len(int_list) # uniform weights\n",
        "weighted_mean_int_list = calculate_weighted_mean(int_list, weights_int_list)\n",
        "print(\"Weighted Mean of int_list (with uniform weights):\", weighted_mean_int_list)"
      ],
      "metadata": {
        "colab": {
          "base_uri": "https://localhost:8080/"
        },
        "id": "RBrYB1b3pw5U",
        "outputId": "3f8ae6ae-b87b-4e62-d38f-94c3008ae9e8"
      },
      "execution_count": null,
      "outputs": [
        {
          "output_type": "stream",
          "name": "stdout",
          "text": [
            "Mean: 109.76\n",
            "Median: 109.0\n",
            "Mode: [91, 127, 104]\n",
            "Weighted Mean: 32.0\n",
            "Weighted Mean of int_list (with uniform weights): 109.76\n"
          ]
        }
      ]
    },
    {
      "cell_type": "markdown",
      "source": [
        " (iv) Write a Python function to find the geometric mean of a list of positive numbers.\n",
        "\n",
        " Ans."
      ],
      "metadata": {
        "id": "m9DTvzc5qFfd"
      }
    },
    {
      "cell_type": "code",
      "source": [
        "import math\n",
        "\n",
        "def calculate_geometric_mean(numbers):\n",
        "    \"\"\"Calculates the geometric mean of a list of positive numbers.\n",
        "    Args:\n",
        "        numbers: A list of positive numbers.\n",
        "    Returns:\n",
        "        The geometric mean of the numbers.\n",
        "        Returns 0 if the input list is empty or contains any non-positive number.\n",
        "    \"\"\"\n",
        "    if not numbers:\n",
        "        return 0\n",
        "\n",
        "    product = 1\n",
        "    for num in numbers:\n",
        "        if num <= 0:\n",
        "            return 0  # Handle non-positive numbers\n",
        "        product *= num\n",
        "\n",
        "    return math.pow(product, 1/len(numbers))\n",
        "\n",
        "# Example usage\n",
        "positive_numbers = [1, 2, 3, 4, 5]\n",
        "geometric_mean = calculate_geometric_mean(positive_numbers)\n",
        "print(\"Geometric Mean:\", geometric_mean)\n",
        "\n",
        "geometric_mean_int_list = calculate_geometric_mean(int_list)\n",
        "print(\"Geometric Mean of int_list:\", geometric_mean_int_list)"
      ],
      "metadata": {
        "colab": {
          "base_uri": "https://localhost:8080/"
        },
        "id": "fyOaFUaqqMcw",
        "outputId": "c2f53c54-df2a-4df2-85a6-fcdcf84ce09a"
      },
      "execution_count": null,
      "outputs": [
        {
          "output_type": "stream",
          "name": "stdout",
          "text": [
            "Geometric Mean: 2.605171084697352\n",
            "Geometric Mean of int_list: 109.11604514675507\n"
          ]
        }
      ]
    },
    {
      "cell_type": "markdown",
      "source": [
        " (v) Create a program to calculate the harmonic mean of a list of values.\n",
        "\n",
        " Ans."
      ],
      "metadata": {
        "id": "UuAQLHAQq3du"
      }
    },
    {
      "cell_type": "code",
      "source": [
        "import random\n",
        "from collections import Counter\n",
        "import math\n",
        "\n",
        "def calculate_harmonic_mean(numbers):\n",
        "    \"\"\"Calculates the harmonic mean of a list of numbers.\n",
        "    Args:\n",
        "        numbers: A list of positive numbers.\n",
        "    Returns:\n",
        "        The harmonic mean of the numbers.\n",
        "        Returns 0 if the input list is empty or contains any non-positive number.\n",
        "    \"\"\"\n",
        "    if not numbers:\n",
        "        return 0\n",
        "\n",
        "    reciprocals_sum = sum(1/num for num in numbers if num > 0)\n",
        "\n",
        "    if reciprocals_sum == 0:\n",
        "        return 0\n",
        "\n",
        "    return len(numbers) / reciprocals_sum\n",
        "\n",
        "# Generate a list of 100 random integers between 90 and 130\n",
        "int_list = [random.randint(90, 130) for _ in range(100)]\n",
        "\n",
        "# Calculate the harmonic mean of the list\n",
        "harmonic_mean = calculate_harmonic_mean(int_list)\n",
        "print(\"Harmonic Mean:\", harmonic_mean)"
      ],
      "metadata": {
        "colab": {
          "base_uri": "https://localhost:8080/"
        },
        "id": "aJUGZjV3rJon",
        "outputId": "b3b2b4eb-9ad6-4322-d043-fd5f4269575c"
      },
      "execution_count": null,
      "outputs": [
        {
          "output_type": "stream",
          "name": "stdout",
          "text": [
            "Harmonic Mean: 108.89618941654807\n"
          ]
        }
      ]
    },
    {
      "cell_type": "markdown",
      "source": [
        "(vi). Build a function to determine the midrange of a list of numbers (average of the minimum and maximum).\n",
        "\n",
        "Ans."
      ],
      "metadata": {
        "id": "tLIQGKgvrvRG"
      }
    },
    {
      "cell_type": "code",
      "source": [
        "import random\n",
        "from collections import Counter\n",
        "import math\n",
        "\n",
        "def calculate_midrange(numbers):\n",
        "    \"\"\"Calculates the midrange of a list of numbers.\n",
        "    Args:\n",
        "        numbers: A list of numbers.\n",
        "    Returns:\n",
        "        The midrange of the numbers.\n",
        "        Returns 0 if the input list is empty.\n",
        "    \"\"\"\n",
        "    if not numbers:\n",
        "        return 0\n",
        "    return (min(numbers) + max(numbers)) / 2\n",
        "\n",
        "# Generate a list of 100 random integers between 90 and 130\n",
        "int_list = [random.randint(90, 130) for _ in range(100)]\n",
        "\n",
        "# Calculate the midrange\n",
        "midrange = calculate_midrange(int_list)\n",
        "print(\"Midrange:\", midrange)"
      ],
      "metadata": {
        "colab": {
          "base_uri": "https://localhost:8080/"
        },
        "id": "WqQva-0rr7uN",
        "outputId": "949885f1-5ec7-4c86-af3a-85682b2afe65"
      },
      "execution_count": null,
      "outputs": [
        {
          "output_type": "stream",
          "name": "stdout",
          "text": [
            "Midrange: 109.5\n"
          ]
        }
      ]
    },
    {
      "cell_type": "markdown",
      "source": [
        " (vii) Implement a Python program to find the trimmed mean of a list, excluding a certain percentage of\n",
        "outliers.\n",
        "\n",
        "Ans."
      ],
      "metadata": {
        "id": "XwNCjlp7sVW4"
      }
    },
    {
      "cell_type": "code",
      "source": [
        "import random\n",
        "from collections import Counter\n",
        "import math\n",
        "\n",
        "def calculate_trimmed_mean(data, trim_percentage):\n",
        "    \"\"\"Calculates the trimmed mean of a list of numbers.\n",
        "\n",
        "    Args:\n",
        "        data: A list of numbers.\n",
        "        trim_percentage: The percentage of outliers to trim from each end of the sorted data.\n",
        "\n",
        "    Returns:\n",
        "        The trimmed mean of the data.\n",
        "    \"\"\"\n",
        "    if not data:\n",
        "        return 0  # Handle empty list case\n",
        "\n",
        "    n = len(data)\n",
        "    sorted_data = sorted(data)\n",
        "    k = int(n * trim_percentage / 100)  # Calculate the number of elements to trim\n",
        "    trimmed_data = sorted_data[k:n-k]  # Trim the specified percentage from both ends\n",
        "    return sum(trimmed_data) / len(trimmed_data)\n",
        "\n",
        "# Generate a list of 100 random integers between 90 and 130\n",
        "int_list = [random.randint(90, 130) for _ in range(100)]\n",
        "\n",
        "# Calculate the trimmed mean with 10% trimming\n",
        "trim_percentage = 10  # trim 10% from both ends\n",
        "trimmed_mean = calculate_trimmed_mean(int_list, trim_percentage)\n",
        "print(\"Trimmed Mean (10%):\", trimmed_mean)\n",
        "\n",
        "# Calculate the trimmed mean with 5% trimming\n",
        "trim_percentage = 5 # trim 5% from both ends\n",
        "trimmed_mean = calculate_trimmed_mean(int_list, trim_percentage)\n",
        "print(\"Trimmed Mean (5%):\", trimmed_mean)"
      ],
      "metadata": {
        "colab": {
          "base_uri": "https://localhost:8080/"
        },
        "id": "xIdj4w7esb0b",
        "outputId": "cef9840b-028b-463c-b6c1-45cf9f87d0b8"
      },
      "execution_count": null,
      "outputs": [
        {
          "output_type": "stream",
          "name": "stdout",
          "text": [
            "Trimmed Mean (10%): 108.175\n",
            "Trimmed Mean (5%): 108.4\n"
          ]
        }
      ]
    },
    {
      "cell_type": "markdown",
      "source": [
        "___________________________________________________________________________"
      ],
      "metadata": {
        "id": "Gx7AFhDKs0Jq"
      }
    },
    {
      "cell_type": "markdown",
      "source": [
        " 2. Generate a list of 500 integers containing values between 200 to 300 and store it in the variable `int_list2`.\n",
        "\n",
        "After generating the list, find the following:\n",
        "\n",
        " (i) Compare the given list of visualization for the given data:\n",
        " 1. Frequency & Gaussian distribution\n",
        " 2. Frequency smoothened KDE plot\n",
        " 3. Gaussian distribution & smoothened KDE plot\n",
        "\n",
        "\n",
        " Ans. 1."
      ],
      "metadata": {
        "id": "bamP6Wbrs5LA"
      }
    },
    {
      "cell_type": "code",
      "source": [
        "import random\n",
        "from collections import Counter\n",
        "import math\n",
        "import matplotlib.pyplot as plt\n",
        "import numpy as np\n",
        "import seaborn as sns\n",
        "from scipy.stats import norm\n",
        "\n",
        "# Generate a list of 500 random integers between 200 and 300\n",
        "int_list2 = [random.randint(200, 300) for _ in range(500)]\n",
        "\n",
        "# Calculate the mean and standard deviation\n",
        "mean_int_list2 = sum(int_list2) / len(int_list2)\n",
        "std_dev_int_list2 = math.sqrt(sum([(x - mean_int_list2) ** 2 for x in int_list2]) / len(int_list2))\n",
        "\n",
        "\n",
        "# Frequency Distribution\n",
        "plt.figure(figsize=(10, 5))\n",
        "plt.hist(int_list2, bins=20, edgecolor='black')\n",
        "plt.xlabel(\"Value\")\n",
        "plt.ylabel(\"Frequency\")\n",
        "plt.title(\"Frequency Distribution of int_list2\")\n",
        "\n",
        "\n",
        "# Overlay Gaussian Distribution\n",
        "xmin, xmax = plt.xlim()\n",
        "x = np.linspace(xmin, xmax, 100)\n",
        "p = norm.pdf(x, mean_int_list2, std_dev_int_list2)\n",
        "plt.plot(x, p * 500 / 5, 'k', linewidth=2) # Scale the pdf for better visualization\n",
        "plt.show()\n",
        "\n",
        "# Frequency Smoothened KDE Plot\n",
        "plt.figure(figsize=(10, 5))\n",
        "sns.kdeplot(int_list2, shade=True)  # kde plot\n",
        "plt.xlabel(\"Value\")\n",
        "plt.ylabel(\"Density\")\n",
        "plt.title(\"KDE Plot of int_list2\")\n",
        "plt.show()\n",
        "\n",
        "# Gaussian Distribution & Smoothened KDE Plot\n",
        "plt.figure(figsize=(10, 5))\n",
        "sns.kdeplot(int_list2, shade=True) # kde plot\n",
        "plt.xlabel(\"Value\")\n",
        "plt.ylabel(\"Density\")\n",
        "plt.title(\"Gaussian Distribution & KDE Plot of int_list2\")\n",
        "\n",
        "xmin, xmax = plt.xlim()\n",
        "x = np.linspace(xmin, xmax, 100)\n",
        "p = norm.pdf(x, mean_int_list2, std_dev_int_list2)\n",
        "plt.plot(x, p, 'k', linewidth=2)\n",
        "plt.show()"
      ],
      "metadata": {
        "colab": {
          "base_uri": "https://localhost:8080/",
          "height": 1000
        },
        "id": "N3MDp_jivghD",
        "outputId": "6bf78fc3-913c-4df8-eacc-89211ff6060a"
      },
      "execution_count": null,
      "outputs": [
        {
          "output_type": "display_data",
          "data": {
            "text/plain": [
              "<Figure size 1000x500 with 1 Axes>"
            ],
            "image/png": "[encoded data removed]"
          },
          "metadata": {}
        },
        {
          "output_type": "stream",
          "name": "stderr",
          "text": [
            "<ipython-input-9-de03fd20d8ff>:34: FutureWarning: \n",
            "\n",
            "`shade` is now deprecated in favor of `fill`; setting `fill=True`.\n",
            "This will become an error in seaborn v0.14.0; please update your code.\n",
            "\n",
            "  sns.kdeplot(int_list2, shade=True)  # kde plot\n"
          ]
        },
        {
          "output_type": "display_data",
          "data": {
            "text/plain": [
              "<Figure size 1000x500 with 1 Axes>"
            ],
            "image/png": "[encoded data removed]"
          },
          "metadata": {}
        },
        {
          "output_type": "stream",
          "name": "stderr",
          "text": [
            "<ipython-input-9-de03fd20d8ff>:42: FutureWarning: \n",
            "\n",
            "`shade` is now deprecated in favor of `fill`; setting `fill=True`.\n",
            "This will become an error in seaborn v0.14.0; please update your code.\n",
            "\n",
            "  sns.kdeplot(int_list2, shade=True) # kde plot\n"
          ]
        },
        {
          "output_type": "display_data",
          "data": {
            "text/plain": [
              "<Figure size 1000x500 with 1 Axes>"
            ],
            "image/png": "[encoded data removed]"
          },
          "metadata": {}
        }
      ]
    },
    {
      "cell_type": "markdown",
      "source": [
        "Ans.2."
      ],
      "metadata": {
        "id": "5Vvsjevpya2p"
      }
    },
    {
      "cell_type": "code",
      "source": [
        "import random\n",
        "int_list2 = [random.randint(200, 300) for _ in range(500)]\n",
        "# Calculate the mean and standard deviation\n",
        "mean_int_list2 = sum(int_list2) / len(int_list2)\n",
        "std_dev_int_list2 = math.sqrt(sum([(x - mean_int_list2) ** 2 for x in int_list2]) / len(int_list2))\n",
        "\n",
        "# Frequency Smoothened KDE Plot\n",
        "plt.figure(figsize=(10, 5))\n",
        "sns.kdeplot(int_list2, shade=True)  # kde plot\n",
        "plt.xlabel(\"Value\")\n",
        "plt.ylabel(\"Density\")\n",
        "plt.title(\"Frequency Smoothened KDE Plot of int_list2\")\n",
        "plt.show()"
      ],
      "metadata": {
        "colab": {
          "base_uri": "https://localhost:8080/",
          "height": 591
        },
        "id": "ZyJx_N2cwDQn",
        "outputId": "d8f5deef-c759-4062-b4b0-4e42f29d64bf"
      },
      "execution_count": null,
      "outputs": [
        {
          "output_type": "stream",
          "name": "stderr",
          "text": [
            "<ipython-input-11-b8dedd62afca>:9: FutureWarning: \n",
            "\n",
            "`shade` is now deprecated in favor of `fill`; setting `fill=True`.\n",
            "This will become an error in seaborn v0.14.0; please update your code.\n",
            "\n",
            "  sns.kdeplot(int_list2, shade=True)  # kde plot\n"
          ]
        },
        {
          "output_type": "display_data",
          "data": {
            "text/plain": [
              "<Figure size 1000x500 with 1 Axes>"
            ],
            "image/png": "[encoded data removed]"
          },
          "metadata": {}
        }
      ]
    },
    {
      "cell_type": "markdown",
      "source": [
        "Ans. 3."
      ],
      "metadata": {
        "id": "pQeEHcEpy6n4"
      }
    },
    {
      "cell_type": "code",
      "source": [
        "import random\n",
        "from collections import Counter\n",
        "import math\n",
        "import matplotlib.pyplot as plt\n",
        "import numpy as np\n",
        "import seaborn as sns\n",
        "from scipy.stats import norm\n",
        "\n",
        "# Generate a list of 500 random integers between 200 and 300\n",
        "int_list2 = [random.randint(200, 300) for _ in range(500)]\n",
        "\n",
        "# Calculate the mean and standard deviation\n",
        "mean_int_list2 = sum(int_list2) / len(int_list2)\n",
        "std_dev_int_list2 = math.sqrt(sum([(x - mean_int_list2) ** 2 for x in int_list2]) / len(int_list2))\n",
        "\n",
        "# Gaussian Distribution & Smoothened KDE Plot\n",
        "plt.figure(figsize=(10, 5))\n",
        "sns.kdeplot(int_list2, shade=True)  # kde plot\n",
        "plt.xlabel(\"Value\")\n",
        "plt.ylabel(\"Density\")\n",
        "plt.title(\"Gaussian Distribution & KDE Plot of int_list2\")\n",
        "\n",
        "xmin, xmax = plt.xlim()\n",
        "x = np.linspace(xmin, xmax, 100)\n",
        "p = norm.pdf(x, mean_int_list2, std_dev_int_list2)\n",
        "plt.plot(x, p, 'k', linewidth=2)\n",
        "plt.show()"
      ],
      "metadata": {
        "colab": {
          "base_uri": "https://localhost:8080/",
          "height": 591
        },
        "id": "RqqYC2Ypy9BW",
        "outputId": "5aab44e4-840d-46a5-ee19-2b4eea0f11f7"
      },
      "execution_count": null,
      "outputs": [
        {
          "output_type": "stream",
          "name": "stderr",
          "text": [
            "<ipython-input-12-50577f8d53bb>:18: FutureWarning: \n",
            "\n",
            "`shade` is now deprecated in favor of `fill`; setting `fill=True`.\n",
            "This will become an error in seaborn v0.14.0; please update your code.\n",
            "\n",
            "  sns.kdeplot(int_list2, shade=True)  # kde plot\n"
          ]
        },
        {
          "output_type": "display_data",
          "data": {
            "text/plain": [
              "<Figure size 1000x500 with 1 Axes>"
            ],
            "image/png": "[encoded data removed]"
          },
          "metadata": {}
        }
      ]
    },
    {
      "cell_type": "markdown",
      "source": [
        " (ii) Write a Python function to calculate the range of a given list of numbers.\n",
        "\n",
        " Ans."
      ],
      "metadata": {
        "id": "9Par2t4CzgUI"
      }
    },
    {
      "cell_type": "code",
      "source": [
        "def calculate_range(numbers):\n",
        "    \"\"\"Calculates the range of a list of numbers.\n",
        "    Args:\n",
        "        numbers: A list of numbers.\n",
        "    Returns:\n",
        "        The range of the numbers (difference between maximum and minimum).\n",
        "        Returns 0 if the input list is empty.\n",
        "    \"\"\"\n",
        "    if not numbers:\n",
        "        return 0\n",
        "    return max(numbers) - min(numbers)\n",
        "\n",
        "# Generate a list of 500 random integers between 200 and 300\n",
        "int_list2 = [random.randint(200, 300) for _ in range(500)]\n",
        "\n",
        "# Calculate the range\n",
        "range_of_numbers = calculate_range(int_list2)\n",
        "print(\"Range:\", range_of_numbers)"
      ],
      "metadata": {
        "colab": {
          "base_uri": "https://localhost:8080/"
        },
        "id": "ZH9ZcGWEztzE",
        "outputId": "934e1706-cfc8-4f59-8c01-30886f24ed44"
      },
      "execution_count": null,
      "outputs": [
        {
          "output_type": "stream",
          "name": "stdout",
          "text": [
            "Range: 100\n"
          ]
        }
      ]
    },
    {
      "cell_type": "markdown",
      "source": [
        " (iii) Create a program to find the variance and standard deviation of a list of numbers.\n",
        "\n",
        " Ans."
      ],
      "metadata": {
        "id": "NG3HtQIP0DX4"
      }
    },
    {
      "cell_type": "code",
      "source": [
        "import random\n",
        "import math\n",
        "\n",
        "def calculate_variance_std(numbers):\n",
        "    \"\"\"Calculates the variance and standard deviation of a list of numbers.\n",
        "    Args:\n",
        "        numbers: A list of numbers.\n",
        "    Returns:\n",
        "        A tuple containing the variance and standard deviation.\n",
        "        Returns (0,0) if the input list is empty or has only one element.\n",
        "    \"\"\"\n",
        "    n = len(numbers)\n",
        "    if n < 2:\n",
        "        return 0, 0  # Variance and standard deviation are undefined for less than two elements\n",
        "\n",
        "    mean = sum(numbers) / n\n",
        "    variance = sum([(x - mean) ** 2 for x in numbers]) / (n -1) # Sample variance\n",
        "    std_dev = math.sqrt(variance)\n",
        "    return variance, std_dev\n",
        "\n",
        "# Generate a list of 500 random integers between 200 and 300\n",
        "int_list2 = [random.randint(200, 300) for _ in range(500)]\n",
        "\n",
        "# Calculate the variance and standard deviation\n",
        "variance, std_dev = calculate_variance_std(int_list2)\n",
        "print(\"Variance:\", variance)\n",
        "print(\"Standard Deviation:\", std_dev)"
      ],
      "metadata": {
        "colab": {
          "base_uri": "https://localhost:8080/"
        },
        "id": "bdprYECT0Jlh",
        "outputId": "87457844-d0f0-46ad-db75-2bbe14ded07a"
      },
      "execution_count": null,
      "outputs": [
        {
          "output_type": "stream",
          "name": "stdout",
          "text": [
            "Variance: 841.0156152304608\n",
            "Standard Deviation: 29.000269226861683\n"
          ]
        }
      ]
    },
    {
      "cell_type": "markdown",
      "source": [
        " (iv). Implement a function to compute the interquartile range (IQR) of a list of values.\n",
        "\n",
        " Ans."
      ],
      "metadata": {
        "id": "04RVvQqv0hm2"
      }
    },
    {
      "cell_type": "code",
      "source": [
        "def calculate_iqr(data):\n",
        "    \"\"\"Computes the interquartile range (IQR) of a list of values.\n",
        "\n",
        "    Args:\n",
        "        data: A list of numerical values.\n",
        "\n",
        "    Returns:\n",
        "        The IQR of the data.\n",
        "        Returns 0 if the input list has fewer than 2 elements.\n",
        "    \"\"\"\n",
        "    if len(data) < 2:\n",
        "        return 0\n",
        "\n",
        "    n = len(data)\n",
        "    sorted_data = sorted(data)\n",
        "    q1_index = int(0.25 * n)\n",
        "    q3_index = int(0.75 * n)\n",
        "\n",
        "    if q1_index == q3_index:\n",
        "      return 0\n",
        "\n",
        "    q1 = sorted_data[q1_index]\n",
        "    q3 = sorted_data[q3_index]\n",
        "\n",
        "    return q3 - q1\n",
        "\n",
        "# Generate a list of 500 random integers between 200 and 300\n",
        "int_list2 = [random.randint(200, 300) for _ in range(500)]\n",
        "\n",
        "# Calculate the IQR\n",
        "iqr = calculate_iqr(int_list2)\n",
        "print(\"Interquartile Range (IQR):\", iqr)"
      ],
      "metadata": {
        "colab": {
          "base_uri": "https://localhost:8080/"
        },
        "id": "08kODSGS0yN7",
        "outputId": "28bc5736-57b2-4d45-836f-70c3d8354631"
      },
      "execution_count": null,
      "outputs": [
        {
          "output_type": "stream",
          "name": "stdout",
          "text": [
            "Interquartile Range (IQR): 51\n"
          ]
        }
      ]
    },
    {
      "cell_type": "markdown",
      "source": [
        " (v) Build a program to calculate the coefficient of variation for a dataset.\n",
        "\n",
        " Ans."
      ],
      "metadata": {
        "id": "TnZ2NIkf1RE1"
      }
    },
    {
      "cell_type": "code",
      "source": [
        "import random\n",
        "import math\n",
        "\n",
        "def calculate_coefficient_of_variation(data):\n",
        "    \"\"\"Calculates the coefficient of variation for a dataset.\n",
        "\n",
        "    Args:\n",
        "        data: A list of numerical values.\n",
        "\n",
        "    Returns:\n",
        "        The coefficient of variation (CV).\n",
        "        Returns 0 if the input list is empty or the mean is zero.\n",
        "    \"\"\"\n",
        "    n = len(data)\n",
        "    if n == 0:\n",
        "        return 0  # Handle empty list case\n",
        "\n",
        "    mean = sum(data) / n\n",
        "    if mean == 0:\n",
        "        return 0  # Avoid division by zero\n",
        "\n",
        "    variance = sum([(x - mean) ** 2 for x in data]) / (n - 1)\n",
        "    std_dev = math.sqrt(variance)\n",
        "    cv = (std_dev / mean) * 100\n",
        "    return cv\n",
        "\n",
        "\n",
        "# Generate a list of 500 random integers between 200 and 300\n",
        "int_list2 = [random.randint(200, 300) for _ in range(500)]\n",
        "\n",
        "# Calculate the coefficient of variation\n",
        "cv = calculate_coefficient_of_variation(int_list2)\n",
        "print(\"Coefficient of Variation:\", cv)"
      ],
      "metadata": {
        "colab": {
          "base_uri": "https://localhost:8080/"
        },
        "id": "2X-T__F71ZNC",
        "outputId": "63169cec-695b-40bf-f5bc-67b4d5b5a5af"
      },
      "execution_count": null,
      "outputs": [
        {
          "output_type": "stream",
          "name": "stdout",
          "text": [
            "Coefficient of Variation: 11.559166477076344\n"
          ]
        }
      ]
    },
    {
      "cell_type": "markdown",
      "source": [
        " (vi) Write a Python function to find the mean absolute deviation (MAD) of a list of numbers.\n",
        "\n",
        " Ans."
      ],
      "metadata": {
        "id": "vx4jQ_8e26QA"
      }
    },
    {
      "cell_type": "code",
      "source": [
        "import random\n",
        "import math\n",
        "\n",
        "def calculate_mad(data):\n",
        "    \"\"\"Calculates the mean absolute deviation (MAD) of a list of numbers.\n",
        "\n",
        "    Args:\n",
        "      data: A list of numbers.\n",
        "\n",
        "    Returns:\n",
        "      The mean absolute deviation of the data.\n",
        "      Returns 0 if the input list is empty.\n",
        "    \"\"\"\n",
        "    if not data:\n",
        "        return 0\n",
        "\n",
        "    n = len(data)\n",
        "    mean = sum(data) / n\n",
        "    absolute_deviations = [abs(x - mean) for x in data]\n",
        "    mad = sum(absolute_deviations) / n\n",
        "    return mad\n",
        "\n",
        "# Generate a list of 500 random integers between 200 and 300\n",
        "int_list2 = [random.randint(200, 300) for _ in range(500)]\n",
        "\n",
        "# Calculate the MAD\n",
        "mad = calculate_mad(int_list2)\n",
        "print(\"Mean Absolute Deviation (MAD):\", mad)"
      ],
      "metadata": {
        "colab": {
          "base_uri": "https://localhost:8080/"
        },
        "id": "keVB8yp-3CgX",
        "outputId": "ee9af180-dac1-491c-869f-ea53c1310e77"
      },
      "execution_count": null,
      "outputs": [
        {
          "output_type": "stream",
          "name": "stdout",
          "text": [
            "Mean Absolute Deviation (MAD): 26.04832000000001\n"
          ]
        }
      ]
    },
    {
      "cell_type": "markdown",
      "source": [
        " (vii) Create a program to calculate the quartile deviation of a list of values.\n",
        "\n",
        " Ans."
      ],
      "metadata": {
        "id": "pfhtRB9i3cI2"
      }
    },
    {
      "cell_type": "code",
      "source": [
        "def calculate_quartile_deviation(data):\n",
        "    \"\"\"Calculates the quartile deviation of a list of values.\n",
        "\n",
        "    Args:\n",
        "        data: A list of numerical values.\n",
        "\n",
        "    Returns:\n",
        "        The quartile deviation of the data.\n",
        "        Returns 0 if the input list has fewer than 2 elements.\n",
        "    \"\"\"\n",
        "    if len(data) < 2:\n",
        "        return 0\n",
        "\n",
        "    n = len(data)\n",
        "    sorted_data = sorted(data)\n",
        "    q1_index = int(0.25 * n)\n",
        "    q3_index = int(0.75 * n)\n",
        "\n",
        "    if q1_index == q3_index:\n",
        "        return 0\n",
        "\n",
        "    q1 = sorted_data[q1_index]\n",
        "    q3 = sorted_data[q3_index]\n",
        "    quartile_deviation = (q3 - q1) / 2\n",
        "    return quartile_deviation\n",
        "\n",
        "int_list2 = [random.randint(200, 300) for _ in range(500)]\n",
        "\n",
        "# Calculate the quartile deviation\n",
        "quartile_deviation = calculate_quartile_deviation(int_list2)\n",
        "print(\"Quartile Deviation:\", quartile_deviation)"
      ],
      "metadata": {
        "colab": {
          "base_uri": "https://localhost:8080/"
        },
        "id": "NkWe8pXF3jDU",
        "outputId": "b97a6344-2fd8-41ea-d57e-b7dd3a166a0c"
      },
      "execution_count": null,
      "outputs": [
        {
          "output_type": "stream",
          "name": "stdout",
          "text": [
            "Quartile Deviation: 23.5\n"
          ]
        }
      ]
    },
    {
      "cell_type": "markdown",
      "source": [
        " (viii) Implement a function to find the range-based coefficient of dispersion for a dataset.\n",
        "\n",
        " Ans."
      ],
      "metadata": {
        "id": "_m7c6xg139B_"
      }
    },
    {
      "cell_type": "code",
      "source": [
        "def calculate_range_based_coefficient_of_dispersion(data):\n",
        "    \"\"\"Calculates the range-based coefficient of dispersion for a dataset.\n",
        "\n",
        "    Args:\n",
        "        data: A list of numerical values.\n",
        "\n",
        "    Returns:\n",
        "        The range-based coefficient of dispersion.\n",
        "        Returns 0 if the input list is empty or the range is zero.\n",
        "    \"\"\"\n",
        "    if not data:\n",
        "        return 0\n",
        "\n",
        "    data_range = max(data) - min(data)\n",
        "    if data_range == 0:\n",
        "        return 0\n",
        "\n",
        "    mean = sum(data) / len(data)\n",
        "\n",
        "    if mean == 0:\n",
        "      return 0\n",
        "\n",
        "    return data_range / mean\n",
        "\n",
        "# Generate a list of 500 random integers between 200 and 300\n",
        "int_list2 = [random.randint(200, 300) for _ in range(500)]\n",
        "\n",
        "# Calculate the range-based coefficient of dispersion\n",
        "range_based_coefficient = calculate_range_based_coefficient_of_dispersion(int_list2)\n",
        "print(\"Range-based Coefficient of Dispersion:\", range_based_coefficient)"
      ],
      "metadata": {
        "colab": {
          "base_uri": "https://localhost:8080/"
        },
        "id": "lTRdDnkP4D4L",
        "outputId": "fbedd126-2e2d-4136-857f-bb68e5040ec2"
      },
      "execution_count": null,
      "outputs": [
        {
          "output_type": "stream",
          "name": "stdout",
          "text": [
            "Range-based Coefficient of Dispersion: 0.39825088212570386\n"
          ]
        }
      ]
    },
    {
      "cell_type": "markdown",
      "source": [
        "___________________________________________________________________________"
      ],
      "metadata": {
        "id": "hZAG_LiA4fww"
      }
    },
    {
      "cell_type": "markdown",
      "source": [
        "Q.3. Write a Python class representing a discrete random variable with methods to calculate its expected\n",
        "value and variance.\n",
        "\n",
        "Ans."
      ],
      "metadata": {
        "id": "x4prX3L54huP"
      }
    },
    {
      "cell_type": "code",
      "source": [
        "class DiscreteRandomVariable:\n",
        "    def __init__(self, values, probabilities):\n",
        "        \"\"\"\n",
        "        Initializes a DiscreteRandomVariable object.\n",
        "\n",
        "        Args:\n",
        "            values: A list of possible values for the random variable.\n",
        "            probabilities: A list of probabilities corresponding to the values.\n",
        "        \"\"\"\n",
        "        if len(values) != len(probabilities):\n",
        "            raise ValueError(\"Values and probabilities lists must have the same length.\")\n",
        "        if not all(0 <= p <= 1 for p in probabilities):\n",
        "            raise ValueError(\"Probabilities must be between 0 and 1.\")\n",
        "        if not math.isclose(sum(probabilities), 1.0):\n",
        "          raise ValueError(\"Probabilities must sum to 1.\")\n",
        "\n",
        "        self.values = values\n",
        "        self.probabilities = probabilities\n",
        "\n",
        "    def expected_value(self):\n",
        "        \"\"\"Calculates the expected value of the random variable.\"\"\"\n",
        "        return sum(v * p for v, p in zip(self.values, self.probabilities))\n",
        "\n",
        "    def variance(self):\n",
        "        \"\"\"Calculates the variance of the random variable.\"\"\"\n",
        "        e_x = self.expected_value()\n",
        "        return sum((v - e_x)**2 * p for v, p in zip(self.values, self.probabilities))\n",
        "\n",
        "    def standard_deviation(self):\n",
        "        \"\"\"Calculates the standard deviation of the random variable.\"\"\"\n",
        "        return math.sqrt(self.variance())"
      ],
      "metadata": {
        "id": "dh4-CI6i1MMr"
      },
      "execution_count": 2,
      "outputs": []
    },
    {
      "cell_type": "markdown",
      "source": [
        "___________________________________________________________________________"
      ],
      "metadata": {
        "id": "5eZnFbYo18XR"
      }
    },
    {
      "cell_type": "markdown",
      "source": [
        "Q.4.  Implement a program to simulate the rolling of a fair six-sided die and calculate the expected value and variance of the outcomes.\n",
        "\n",
        "Ans."
      ],
      "metadata": {
        "id": "J9MEzTua1_OX"
      }
    },
    {
      "cell_type": "code",
      "source": [
        "import random\n",
        "import math\n",
        "\n",
        "def simulate_die_roll(num_trials):\n",
        "    \"\"\"\n",
        "    Simulates rolling a fair six-sided die and calculates the expected value and variance.\n",
        "\n",
        "    Args:\n",
        "        num_trials: The number of times to roll the die.\n",
        "\n",
        "    Returns:\n",
        "        A tuple containing the expected value and variance of the outcomes.\n",
        "    \"\"\"\n",
        "\n",
        "    outcomes = [random.randint(1, 6) for _ in range(num_trials)]\n",
        "    expected_value = sum(outcomes) / num_trials\n",
        "    variance = sum([(x - expected_value) ** 2 for x in outcomes]) / num_trials\n",
        "    return expected_value, variance\n",
        "\n",
        "# Example usage:\n",
        "num_trials = 10000  # Increase for more accurate results\n",
        "expected_value, variance = simulate_die_roll(num_trials)\n",
        "print(\"Expected Value:\", expected_value)\n",
        "print(\"Variance:\", variance)\n",
        "\n",
        "# Theoretical values for a fair six-sided die:\n",
        "theoretical_expected_value = 3.5\n",
        "theoretical_variance = (35/12)\n",
        "\n",
        "print(\"\\nTheoretical Expected Value:\", theoretical_expected_value)\n",
        "print(\"Theoretical Variance:\", theoretical_variance)"
      ],
      "metadata": {
        "colab": {
          "base_uri": "https://localhost:8080/"
        },
        "id": "Kl1UNIvY20w4",
        "outputId": "886180c9-16aa-4813-c993-a1478953d1d7"
      },
      "execution_count": 3,
      "outputs": [
        {
          "output_type": "stream",
          "name": "stdout",
          "text": [
            "Expected Value: 3.512\n",
            "Variance: 2.90685600000009\n",
            "\n",
            "Theoretical Expected Value: 3.5\n",
            "Theoretical Variance: 2.9166666666666665\n"
          ]
        }
      ]
    },
    {
      "cell_type": "markdown",
      "source": [
        "__________________________________________________________________________"
      ],
      "metadata": {
        "id": "0tP1I5RJ3DFT"
      }
    },
    {
      "cell_type": "markdown",
      "source": [
        "Q.5. Create a Python function to generate random samples from a given probability distribution (e.g.,\n",
        "binomial, Poisson) and calculate their mean and variance.\n",
        "\n",
        "Ans."
      ],
      "metadata": {
        "id": "h-RibSQi3E-h"
      }
    },
    {
      "cell_type": "code",
      "source": [
        "!pip install numpy\n",
        "import random\n",
        "import math\n",
        "import numpy as np\n",
        "\n",
        "def generate_samples(distribution, *args, num_samples=1000):\n",
        "    \"\"\"\n",
        "    Generates random samples from a specified probability distribution.\n",
        "\n",
        "    Args:\n",
        "        distribution: A string specifying the distribution ('binomial' or 'poisson').\n",
        "        *args: Arguments specific to the chosen distribution.\n",
        "               For 'binomial', provide n (number of trials) and p (probability of success).\n",
        "               For 'poisson', provide lambda (average rate of events).\n",
        "        num_samples: The number of samples to generate.\n",
        "\n",
        "    Returns:\n",
        "        A tuple containing a list of generated samples, their mean, and their variance.\n",
        "        Returns ([], 0, 0) for invalid distribution names or arguments.\n",
        "    \"\"\"\n",
        "    if distribution == 'binomial':\n",
        "        if len(args) != 2:\n",
        "            return [], 0, 0\n",
        "        n, p = args\n",
        "        if not (isinstance(n, int) and n > 0 and 0 <= p <= 1):\n",
        "          return [], 0, 0\n",
        "        samples = [np.random.binomial(n, p) for _ in range(num_samples)]\n",
        "    elif distribution == 'poisson':\n",
        "        if len(args) != 1:\n",
        "            return [], 0, 0\n",
        "        lam = args[0]\n",
        "        if not (isinstance(lam, (int, float)) and lam > 0):\n",
        "            return [], 0, 0\n",
        "        samples = [np.random.poisson(lam) for _ in range(num_samples)]\n",
        "    else:\n",
        "        return [], 0, 0\n",
        "\n",
        "    sample_mean = sum(samples) / len(samples)\n",
        "    variance = sum([(x - sample_mean) ** 2 for x in samples]) / (len(samples) -1)\n",
        "    return samples, sample_mean, variance\n",
        "\n",
        "# Example usage for binomial distribution\n",
        "samples, mean, variance = generate_samples('binomial', 10, 0.5, num_samples=5000)\n",
        "print(\"Binomial Distribution:\")\n",
        "print(\"Samples:\", samples[:20])  # Print first 20 samples for brevity\n",
        "print(\"Mean:\", mean)\n",
        "print(\"Variance:\", variance)\n",
        "\n",
        "# Example usage for Poisson distribution\n",
        "samples, mean, variance = generate_samples('poisson', 5, num_samples=5000)\n",
        "print(\"\\nPoisson Distribution:\")\n",
        "print(\"Samples:\", samples[:20])  # Print first 20 samples\n",
        "print(\"Mean:\", mean)\n",
        "print(\"Variance:\", variance)"
      ],
      "metadata": {
        "colab": {
          "base_uri": "https://localhost:8080/"
        },
        "id": "xQe8WpgN3Mnr",
        "outputId": "dee93c10-b5ce-4eb4-dec3-28a0eab8d587"
      },
      "execution_count": 8,
      "outputs": [
        {
          "output_type": "stream",
          "name": "stdout",
          "text": [
            "Requirement already satisfied: numpy in /usr/local/lib/python3.10/dist-packages (1.26.4)\n",
            "Binomial Distribution:\n",
            "Samples: [3, 4, 5, 7, 4, 7, 8, 8, 8, 4, 5, 5, 3, 3, 6, 5, 3, 9, 7, 5]\n",
            "Mean: 5.0152\n",
            "Variance: 2.451459251850288\n",
            "\n",
            "Poisson Distribution:\n",
            "Samples: [6, 4, 9, 2, 5, 4, 4, 5, 7, 5, 5, 4, 4, 5, 4, 6, 6, 3, 4, 11]\n",
            "Mean: 5.0114\n",
            "Variance: 5.1523005000999085\n"
          ]
        }
      ]
    },
    {
      "cell_type": "markdown",
      "source": [
        "___________________________________________________________________________"
      ],
      "metadata": {
        "id": "VDjV6RlM418x"
      }
    },
    {
      "cell_type": "markdown",
      "source": [
        "Q.6.  Write a Python script to generate random numbers from a Gaussian (normal) distribution and compute\n",
        "the mean, variance, and standard deviation of the samples.\n",
        "\n",
        "Ans."
      ],
      "metadata": {
        "id": "FYMNvSz944Xp"
      }
    },
    {
      "cell_type": "code",
      "source": [
        "import random\n",
        "import math\n",
        "import numpy as np\n",
        "\n",
        "def gaussian_stats(mu, sigma, n_samples):\n",
        "    \"\"\"\n",
        "    Generates random numbers from a Gaussian distribution and computes statistics.\n",
        "\n",
        "    Args:\n",
        "        mu: Mean of the Gaussian distribution.\n",
        "        sigma: Standard deviation of the Gaussian distribution.\n",
        "        n_samples: Number of random samples to generate.\n",
        "\n",
        "    Returns:\n",
        "        A tuple containing the mean, variance, and standard deviation of the samples.\n",
        "    \"\"\"\n",
        "\n",
        "    samples = [random.gauss(mu, sigma) for _ in range(n_samples)]\n",
        "    sample_mean = sum(samples) / len(samples)\n",
        "    variance = sum((x - sample_mean)**2 for x in samples) / (len(samples)-1)\n",
        "    std_dev = math.sqrt(variance)\n",
        "    return sample_mean, variance, std_dev\n",
        "\n",
        "# Example usage\n",
        "mu = 0  # Mean\n",
        "sigma = 1  # Standard deviation\n",
        "n_samples = 1000  # Number of samples\n",
        "\n",
        "sample_mean, variance, std_dev = gaussian_stats(mu, sigma, n_samples)\n",
        "print(f\"Sample Mean: {sample_mean}\")\n",
        "print(f\"Sample Variance: {variance}\")\n",
        "print(f\"Sample Standard Deviation: {std_dev}\")\n",
        "\n",
        "# Using NumPy for comparison\n",
        "np_samples = np.random.normal(mu, sigma, n_samples)\n",
        "np_mean = np.mean(np_samples)\n",
        "np_variance = np.var(np_samples, ddof=1)  # Use ddof=1 for sample variance\n",
        "np_std_dev = np.std(np_samples, ddof=1)\n",
        "\n",
        "print(f\"\\nNumPy Sample Mean: {np_mean}\")\n",
        "print(f\"NumPy Sample Variance: {np_variance}\")\n",
        "print(f\"NumPy Sample Standard Deviation: {np_std_dev}\")"
      ],
      "metadata": {
        "colab": {
          "base_uri": "https://localhost:8080/"
        },
        "id": "MM-0pQkd5AH-",
        "outputId": "bb82c418-6517-4fc9-eb4a-8d8013a21ed8"
      },
      "execution_count": 9,
      "outputs": [
        {
          "output_type": "stream",
          "name": "stdout",
          "text": [
            "Sample Mean: -0.00042330487636661583\n",
            "Sample Variance: 0.9946981159212018\n",
            "Sample Standard Deviation: 0.9973455348680325\n",
            "\n",
            "NumPy Sample Mean: 0.008488766652409042\n",
            "NumPy Sample Variance: 0.9772514544369941\n",
            "NumPy Sample Standard Deviation: 0.988560293779289\n"
          ]
        }
      ]
    },
    {
      "cell_type": "markdown",
      "source": [
        "___________________________________________________________________________"
      ],
      "metadata": {
        "id": "VJzKNaKk5R7e"
      }
    },
    {
      "cell_type": "markdown",
      "source": [
        "Q.7.  Use seaborn library to load `tips` dataset. Find the following from the dataset for the columns `total_bill`\n",
        "and `tip`:\n",
        "\n",
        " (i) Write a Python function that calculates their skewness.\n",
        "\n",
        " Ans."
      ],
      "metadata": {
        "id": "v9qdLmQd5TvD"
      }
    },
    {
      "cell_type": "code",
      "source": [
        "import seaborn as sns\n",
        "import pandas as pd\n",
        "\n",
        "def calculate_skewness(data):\n",
        "    \"\"\"\n",
        "    Calculates the skewness of a Pandas Series.\n",
        "\n",
        "    Args:\n",
        "        data: A Pandas Series of numerical data.\n",
        "\n",
        "    Returns:\n",
        "        The skewness of the data.\n",
        "    \"\"\"\n",
        "    return data.skew()\n",
        "\n",
        "# Load the tips dataset\n",
        "tips = sns.load_dataset('tips')\n",
        "\n",
        "# Calculate skewness for 'total_bill'\n",
        "total_bill_skewness = calculate_skewness(tips['total_bill'])\n",
        "print(f\"Skewness of total_bill: {total_bill_skewness}\")\n",
        "\n",
        "# Calculate skewness for 'tip'\n",
        "tip_skewness = calculate_skewness(tips['tip'])\n",
        "print(f\"Skewness of tip: {tip_skewness}\")"
      ],
      "metadata": {
        "colab": {
          "base_uri": "https://localhost:8080/"
        },
        "id": "GebLYT4i5gRU",
        "outputId": "3c0cc61f-7ea0-47a9-e520-4de50e5a483e"
      },
      "execution_count": 10,
      "outputs": [
        {
          "output_type": "stream",
          "name": "stdout",
          "text": [
            "Skewness of total_bill: 1.1332130376158205\n",
            "Skewness of tip: 1.4654510370979401\n"
          ]
        }
      ]
    },
    {
      "cell_type": "markdown",
      "source": [
        " (ii) Create a program that determines whether the columns exhibit positive skewness, negative skewness, or is  approximately symmetric.\n",
        "\n",
        " Ans."
      ],
      "metadata": {
        "id": "hh1VX2ik5sXQ"
      }
    },
    {
      "cell_type": "code",
      "source": [
        "def analyze_skewness(data):\n",
        "    \"\"\"\n",
        "    Analyzes the skewness of a Pandas Series and classifies it.\n",
        "\n",
        "    Args:\n",
        "        data: A Pandas Series of numerical data.\n",
        "\n",
        "    Returns:\n",
        "        A string indicating whether the data is positively skewed, negatively skewed, or approximately symmetric.\n",
        "    \"\"\"\n",
        "    skewness = data.skew()\n",
        "    if skewness > 0.5:\n",
        "        return \"Positive Skewness\"\n",
        "    elif skewness < -0.5:\n",
        "        return \"Negative Skewness\"\n",
        "    else:\n",
        "        return \"Approximately Symmetric\"\n",
        "\n",
        "# Load the tips dataset\n",
        "tips = sns.load_dataset('tips')\n",
        "\n",
        "# Analyze skewness for 'total_bill'\n",
        "total_bill_skewness_classification = analyze_skewness(tips['total_bill'])\n",
        "print(f\"Skewness of total_bill: {total_bill_skewness_classification}\")\n",
        "\n",
        "# Analyze skewness for 'tip'\n",
        "tip_skewness_classification = analyze_skewness(tips['tip'])\n",
        "print(f\"Skewness of tip: {tip_skewness_classification}\")"
      ],
      "metadata": {
        "colab": {
          "base_uri": "https://localhost:8080/"
        },
        "id": "EaN_e-wD5_6y",
        "outputId": "66f00527-59d3-4c61-8ba2-56ba10a777d3"
      },
      "execution_count": 11,
      "outputs": [
        {
          "output_type": "stream",
          "name": "stdout",
          "text": [
            "Skewness of total_bill: Positive Skewness\n",
            "Skewness of tip: Positive Skewness\n"
          ]
        }
      ]
    },
    {
      "cell_type": "markdown",
      "source": [
        "(iii) Write a function that calculates the covariance between two columns.\n",
        "\n",
        "Ans."
      ],
      "metadata": {
        "id": "zo7HTDs96Sqz"
      }
    },
    {
      "cell_type": "code",
      "source": [
        "def calculate_covariance(data, column1, column2):\n",
        "    \"\"\"\n",
        "    Calculates the covariance between two columns in a Pandas DataFrame.\n",
        "\n",
        "    Args:\n",
        "        data: A Pandas DataFrame.\n",
        "        column1: The name of the first column.\n",
        "        column2: The name of the second column.\n",
        "\n",
        "    Returns:\n",
        "        The covariance between the two columns.\n",
        "    \"\"\"\n",
        "    return data[column1].cov(data[column2])\n",
        "\n",
        "# Load the tips dataset\n",
        "tips = sns.load_dataset('tips')\n",
        "\n",
        "# Calculate covariance between 'total_bill' and 'tip'\n",
        "covariance = calculate_covariance(tips, 'total_bill', 'tip')\n",
        "print(f\"Covariance between total_bill and tip: {covariance}\")"
      ],
      "metadata": {
        "colab": {
          "base_uri": "https://localhost:8080/"
        },
        "id": "gwf3xhTv6ZAp",
        "outputId": "deef78bd-ab15-4f10-8887-5b2f026390a4"
      },
      "execution_count": 12,
      "outputs": [
        {
          "output_type": "stream",
          "name": "stdout",
          "text": [
            "Covariance between total_bill and tip: 8.323501629224854\n"
          ]
        }
      ]
    },
    {
      "cell_type": "markdown",
      "source": [
        " (iv) Implement a Python program that calculates the Pearson correlation coefficient between two columns.\n",
        "\n",
        " Ans."
      ],
      "metadata": {
        "id": "PpgmN32E6obU"
      }
    },
    {
      "cell_type": "code",
      "source": [
        "def calculate_pearson_correlation(data, column1, column2):\n",
        "    \"\"\"\n",
        "    Calculates the Pearson correlation coefficient between two columns in a Pandas DataFrame.\n",
        "\n",
        "    Args:\n",
        "        data: A Pandas DataFrame.\n",
        "        column1: The name of the first column.\n",
        "        column2: The name of the second column.\n",
        "\n",
        "    Returns:\n",
        "        The Pearson correlation coefficient between the two columns.\n",
        "    \"\"\"\n",
        "    return data[column1].corr(data[column2])\n",
        "\n",
        "# Load the tips dataset\n",
        "tips = sns.load_dataset('tips')\n",
        "\n",
        "# Calculate Pearson correlation between 'total_bill' and 'tip'\n",
        "correlation = calculate_pearson_correlation(tips, 'total_bill', 'tip')\n",
        "print(f\"Pearson correlation between total_bill and tip: {correlation}\")"
      ],
      "metadata": {
        "colab": {
          "base_uri": "https://localhost:8080/"
        },
        "id": "MMqoucIc6uHe",
        "outputId": "fbf253f7-365d-44b0-ea13-873f890832c8"
      },
      "execution_count": 13,
      "outputs": [
        {
          "output_type": "stream",
          "name": "stdout",
          "text": [
            "Pearson correlation between total_bill and tip: 0.6757341092113641\n"
          ]
        }
      ]
    },
    {
      "cell_type": "markdown",
      "source": [
        " (v) Write a script to visualize the correlation between two specific columns in a Pandas DataFrame using\n",
        "scatter plots.\n",
        "\n",
        "Ans."
      ],
      "metadata": {
        "id": "JdhNWxJM6-wQ"
      }
    },
    {
      "cell_type": "code",
      "source": [
        "import matplotlib.pyplot as plt\n",
        "import seaborn as sns\n",
        "\n",
        "def visualize_correlation(data, column1, column2):\n",
        "    \"\"\"\n",
        "    Visualizes the correlation between two columns in a Pandas DataFrame using a scatter plot.\n",
        "\n",
        "    Args:\n",
        "        data: A Pandas DataFrame.\n",
        "        column1: The name of the first column.\n",
        "        column2: The name of the second column.\n",
        "    \"\"\"\n",
        "    plt.figure(figsize=(8, 6))  # Adjust figure size as needed\n",
        "    sns.scatterplot(x=column1, y=column2, data=data)\n",
        "    plt.title(f'Scatter Plot of {column1} vs. {column2}')\n",
        "    plt.xlabel(column1)\n",
        "    plt.ylabel(column2)\n",
        "    plt.show()\n",
        "\n",
        "# Load the tips dataset\n",
        "tips = sns.load_dataset('tips')\n",
        "\n",
        "# Visualize the correlation between 'total_bill' and 'tip'\n",
        "visualize_correlation(tips, 'total_bill', 'tip')"
      ],
      "metadata": {
        "colab": {
          "base_uri": "https://localhost:8080/",
          "height": 564
        },
        "id": "cGzSVQuY7D7y",
        "outputId": "76507995-6447-40a2-f4af-fcc8705a6ad1"
      },
      "execution_count": 14,
      "outputs": [
        {
          "output_type": "display_data",
          "data": {
            "text/plain": [
              "<Figure size 800x600 with 1 Axes>"
            ],
            "image/png": "[encoded data removed]"
          },
          "metadata": {}
        }
      ]
    },
    {
      "cell_type": "markdown",
      "source": [
        "___________________________________________________________________________"
      ],
      "metadata": {
        "id": "i6WBcoBU7WYq"
      }
    },
    {
      "cell_type": "markdown",
      "source": [
        "Q.8.  Write a Python function to calculate the probability density function (PDF) of a continuous random\n",
        "variable for a given normal distribution.\n",
        "\n",
        "Ans."
      ],
      "metadata": {
        "id": "kNLJop4x7YN-"
      }
    },
    {
      "cell_type": "code",
      "source": [
        "from scipy.stats import norm\n",
        "\n",
        "def normal_pdf(x, mean, std_dev):\n",
        "  \"\"\"\n",
        "  Calculates the probability density function (PDF) of a normal distribution.\n",
        "\n",
        "  Args:\n",
        "    x: The value at which to evaluate the PDF.\n",
        "    mean: The mean of the normal distribution.\n",
        "    std_dev: The standard deviation of the normal distribution.\n",
        "\n",
        "  Returns:\n",
        "    The PDF value at x.\n",
        "  \"\"\"\n",
        "  return norm.pdf(x, loc=mean, scale=std_dev)\n",
        "\n",
        "# Example usage:\n",
        "mean = 5\n",
        "std_dev = 2\n",
        "x = 3\n",
        "pdf_value = normal_pdf(x, mean, std_dev)\n",
        "print(f\"The PDF value at x={x} for a normal distribution with mean={mean} and std_dev={std_dev} is: {pdf_value}\")"
      ],
      "metadata": {
        "colab": {
          "base_uri": "https://localhost:8080/"
        },
        "id": "vB0Db0_08dme",
        "outputId": "527ab874-7ace-414a-cb3f-f84933e52fe7"
      },
      "execution_count": 19,
      "outputs": [
        {
          "output_type": "stream",
          "name": "stdout",
          "text": [
            "The PDF value at x=3 for a normal distribution with mean=5 and std_dev=2 is: 0.12098536225957168\n"
          ]
        }
      ]
    },
    {
      "cell_type": "markdown",
      "source": [
        "__________________________________________________________________________"
      ],
      "metadata": {
        "id": "ufvZV9Lt8gDQ"
      }
    },
    {
      "cell_type": "markdown",
      "source": [
        "Q.9.  Create a program to calculate the cumulative distribution function (CDF) of exponential distribution.\n",
        "\n",
        "Ans."
      ],
      "metadata": {
        "id": "Z20tRKim8hx-"
      }
    },
    {
      "cell_type": "code",
      "source": [
        "from scipy.stats import expon\n",
        "\n",
        "def exponential_cdf(x, lambd):\n",
        "    \"\"\"\n",
        "    Calculates the cumulative distribution function (CDF) of an exponential distribution.\n",
        "\n",
        "    Args:\n",
        "        x: The value at which to evaluate the CDF.\n",
        "        lambd: The rate parameter (lambda) of the exponential distribution.\n",
        "\n",
        "    Returns:\n",
        "        The CDF value at x.\n",
        "    \"\"\"\n",
        "    return expon.cdf(x, scale=1/lambd)\n",
        "\n",
        "# Example usage\n",
        "lambd = 0.5  # Example rate parameter\n",
        "x_values = [0, 1, 2, 3, 4, 5]  # Example x values\n",
        "\n",
        "for x in x_values:\n",
        "    cdf_value = exponential_cdf(x, lambd)\n",
        "    print(f\"CDF at x = {x}: {cdf_value}\")"
      ],
      "metadata": {
        "colab": {
          "base_uri": "https://localhost:8080/"
        },
        "id": "Kf5P38nC8tcC",
        "outputId": "b2fda1ab-18d8-488d-87a9-29f227b3f6d0"
      },
      "execution_count": 20,
      "outputs": [
        {
          "output_type": "stream",
          "name": "stdout",
          "text": [
            "CDF at x = 0: 0.0\n",
            "CDF at x = 1: 0.3934693402873666\n",
            "CDF at x = 2: 0.6321205588285577\n",
            "CDF at x = 3: 0.7768698398515702\n",
            "CDF at x = 4: 0.8646647167633873\n",
            "CDF at x = 5: 0.9179150013761012\n"
          ]
        }
      ]
    },
    {
      "cell_type": "markdown",
      "source": [
        "___________________________________________________________________________"
      ],
      "metadata": {
        "id": "jz7h4ARW82kT"
      }
    },
    {
      "cell_type": "markdown",
      "source": [
        "Q.10.  Write a Python function to calculate the probability mass function (PMF) of Poisson distribution.\n",
        "\n",
        "Ans."
      ],
      "metadata": {
        "id": "c7dnNFgP84cc"
      }
    },
    {
      "cell_type": "code",
      "source": [
        "from scipy.stats import poisson\n",
        "\n",
        "def poisson_pmf(k, mu):\n",
        "    \"\"\"\n",
        "    Calculates the probability mass function (PMF) of a Poisson distribution.\n",
        "\n",
        "    Args:\n",
        "        k: The number of events.\n",
        "        mu: The average rate of events (lambda).\n",
        "\n",
        "    Returns:\n",
        "        The PMF value at k.\n",
        "    \"\"\"\n",
        "    return poisson.pmf(k, mu)\n",
        "\n",
        "# Example usage\n",
        "mu = 3  # Example average rate\n",
        "k_values = [0, 1, 2, 3, 4, 5]  # Example number of events\n",
        "\n",
        "for k in k_values:\n",
        "    pmf_value = poisson_pmf(k, mu)\n",
        "    print(f\"PMF at k = {k}: {pmf_value}\")"
      ],
      "metadata": {
        "colab": {
          "base_uri": "https://localhost:8080/"
        },
        "id": "RiR7HhQL9E_U",
        "outputId": "0eb1c0a9-544b-42ef-e0a7-469cbab66930"
      },
      "execution_count": 21,
      "outputs": [
        {
          "output_type": "stream",
          "name": "stdout",
          "text": [
            "PMF at k = 0: 0.049787068367863944\n",
            "PMF at k = 1: 0.14936120510359185\n",
            "PMF at k = 2: 0.22404180765538775\n",
            "PMF at k = 3: 0.22404180765538775\n",
            "PMF at k = 4: 0.16803135574154085\n",
            "PMF at k = 5: 0.10081881344492458\n"
          ]
        }
      ]
    },
    {
      "cell_type": "markdown",
      "source": [
        "___________________________________________________________________________"
      ],
      "metadata": {
        "id": "0eDDOVSa9Mmn"
      }
    },
    {
      "cell_type": "markdown",
      "source": [
        "Q.11.  A company wants to test if a new website layout leads to a higher conversion rate (percentage of visitors\n",
        "who make a purchase). They collect data from the old and new layouts to compare.\n",
        " To generate the data use the following command:\n",
        " ```python\n",
        " import numpy as np\n",
        " # 50 purchases out of 1000 visitors\n",
        " old_layout = np.array([1] * 50 + [0] * 950)\n",
        " # 70 purchases out of 1000 visitors  \n",
        "new_layout = np.array([1] * 70 + [0] * 930)\n",
        " ```\n",
        " Apply z-test to find which layout is successful.\n",
        "\n",
        " Ans."
      ],
      "metadata": {
        "id": "Xox_lQri9Oxf"
      }
    },
    {
      "cell_type": "code",
      "source": [
        "import numpy as np\n",
        "from statsmodels.stats.weightstats import ztest\n",
        "\n",
        "# Generate the data\n",
        "old_layout = np.array([1] * 50 + [0] * 950)\n",
        "new_layout = np.array([1] * 70 + [0] * 930)\n",
        "\n",
        "# Perform the z-test\n",
        "z_statistic, p_value = ztest(old_layout, new_layout)\n",
        "\n",
        "# Print the results\n",
        "print(f\"Z-statistic: {z_statistic}\")\n",
        "print(f\"P-value: {p_value}\")\n",
        "\n",
        "# Interpret the results\n",
        "alpha = 0.05  # Significance level\n",
        "if p_value < alpha:\n",
        "    print(\"The new website layout leads to a significantly higher conversion rate.\")\n",
        "else:\n",
        "    print(\"There is no significant difference in conversion rates between the old and new layouts.\")"
      ],
      "metadata": {
        "colab": {
          "base_uri": "https://localhost:8080/"
        },
        "id": "2BBrM1_w9iug",
        "outputId": "e0cc6ccf-88a9-42c5-e9cb-2a8adc2cc5cb"
      },
      "execution_count": 22,
      "outputs": [
        {
          "output_type": "stream",
          "name": "stdout",
          "text": [
            "Z-statistic: -1.883837962960912\n",
            "P-value: 0.05958689675745177\n",
            "There is no significant difference in conversion rates between the old and new layouts.\n"
          ]
        }
      ]
    },
    {
      "cell_type": "markdown",
      "source": [
        "___________________________________________________________________________"
      ],
      "metadata": {
        "id": "TfWjlL6D-C3H"
      }
    },
    {
      "cell_type": "markdown",
      "source": [
        "Q.12.  A tutoring service claims that its program improves students' exam scores. A sample of students who\n",
        "participated in the program was taken, and their scores before and after the program were recorded.\n",
        " Use the below code to generate samples of respective arrays of marks:\n",
        " ```python\n",
        " before_program = np.array([75, 80, 85, 70, 90, 78, 92, 88, 82, 87])\n",
        " after_program = np.array([80, 85, 90, 80, 92, 80, 95, 90, 85, 88])\n",
        " ```\n",
        " Use z-test to find if the claims made by tutor are true or false.\n",
        "\n",
        " Ans."
      ],
      "metadata": {
        "id": "SkBS8_e9-EpQ"
      }
    },
    {
      "cell_type": "code",
      "source": [
        "before_program = np.array([75, 80, 85, 70, 90, 78, 92, 88, 82, 87])\n",
        "after_program = np.array([80, 85, 90, 80, 92, 80, 95, 90, 85, 88])\n",
        "\n",
        "z_statistic, p_value = ztest(before_program, after_program)\n",
        "\n",
        "print(f\"Z-statistic: {z_statistic}\")\n",
        "print(f\"P-value: {p_value}\")\n",
        "\n",
        "alpha = 0.05\n",
        "if p_value < alpha:\n",
        "    print(\"The tutoring program significantly improves students' exam scores.\")\n",
        "else:\n",
        "    print(\"There is no significant difference in exam scores before and after the program.\")"
      ],
      "metadata": {
        "colab": {
          "base_uri": "https://localhost:8080/"
        },
        "id": "Prrc8yHT-PlX",
        "outputId": "c4be1dd8-c722-4ee0-b05a-4866e74fe27a"
      },
      "execution_count": 23,
      "outputs": [
        {
          "output_type": "stream",
          "name": "stdout",
          "text": [
            "Z-statistic: -1.3600371723457605\n",
            "P-value: 0.17381816101827674\n",
            "There is no significant difference in exam scores before and after the program.\n"
          ]
        }
      ]
    },
    {
      "cell_type": "markdown",
      "source": [
        "___________________________________________________________________________"
      ],
      "metadata": {
        "id": "YVck-Y8u-eQb"
      }
    },
    {
      "cell_type": "markdown",
      "source": [
        "Q.13.  A pharmaceutical company wants to determine if a new drug is effective in reducing blood pressure. They\n",
        "conduct a study and record blood pressure measurements before and after administering the drug.\n",
        " Use the below code to generate samples of respective arrays of blood pressure:\n",
        " ```python\n",
        " before_drug = np.array([145, 150, 140, 135, 155, 160, 152, 148, 130, 138])\n",
        " after_drug = np.array([130, 140, 132, 128, 145, 148, 138, 136, 125, 130])\n",
        " ```\n",
        " Implement z-test to find if the drug really works or not.\n",
        "\n",
        " Ans."
      ],
      "metadata": {
        "id": "q4ZtARvv-f1K"
      }
    },
    {
      "cell_type": "code",
      "source": [
        "before_drug = np.array([145, 150, 140, 135, 155, 160, 152, 148, 130, 138])\n",
        "after_drug = np.array([130, 140, 132, 128, 145, 148, 138, 136, 125, 130])\n",
        "\n",
        "z_statistic, p_value = ztest(before_drug, after_drug)\n",
        "\n",
        "print(f\"Z-statistic: {z_statistic}\")\n",
        "print(f\"P-value: {p_value}\")\n",
        "\n",
        "alpha = 0.05\n",
        "if p_value < alpha:\n",
        "    print(\"The drug is significantly effective in reducing blood pressure.\")\n",
        "else:\n",
        "    print(\"There is no significant difference in blood pressure before and after taking the drug.\")"
      ],
      "metadata": {
        "colab": {
          "base_uri": "https://localhost:8080/"
        },
        "id": "yxSBDuv5-3x9",
        "outputId": "f3880573-b3b0-4f02-f639-28972c3d65bb"
      },
      "execution_count": 24,
      "outputs": [
        {
          "output_type": "stream",
          "name": "stdout",
          "text": [
            "Z-statistic: 2.639577121919447\n",
            "P-value: 0.008300953387191556\n",
            "The drug is significantly effective in reducing blood pressure.\n"
          ]
        }
      ]
    },
    {
      "cell_type": "markdown",
      "source": [
        "___________________________________________________________________________"
      ],
      "metadata": {
        "id": "VHfYJ-xj-73r"
      }
    },
    {
      "cell_type": "markdown",
      "source": [
        "Q.14.  A customer service department claims that their average response time is less than 5 minutes. A sample\n",
        "of recent customer interactions was taken, and the response times were recorded.\n",
        " Implement the below code to generate the array of response time:\n",
        " ```python\n",
        " response_times = np.array([4.3, 3.8, 5.1, 4.9, 4.7, 4.2, 5.2, 4.5, 4.6, 4.4])\n",
        " ```\n",
        " Implement z-test to find the claims made by customer service department are true or false.\n",
        "\n",
        " Ans."
      ],
      "metadata": {
        "id": "V5CyEgkR---l"
      }
    },
    {
      "cell_type": "code",
      "source": [
        "response_times = np.array([4.3, 3.8, 5.1, 4.9, 4.7, 4.2, 5.2, 4.5, 4.6, 4.4])\n",
        "\n",
        "z_statistic, p_value = ztest(response_times, value=5, alternative='smaller')\n",
        "\n",
        "print(f\"Z-statistic: {z_statistic}\")\n",
        "print(f\"P-value: {p_value}\")\n",
        "\n",
        "alpha = 0.05\n",
        "if p_value < alpha:\n",
        "    print(\"The claim that the average response time is less than 5 minutes is supported by the data.\")\n",
        "else:\n",
        "    print(\"The claim that the average response time is less than 5 minutes is not supported by the data.\")"
      ],
      "metadata": {
        "colab": {
          "base_uri": "https://localhost:8080/"
        },
        "id": "dKGeaW8S_NJy",
        "outputId": "e99cfcf4-2f51-40fb-deee-15b6bb4c9154"
      },
      "execution_count": 25,
      "outputs": [
        {
          "output_type": "stream",
          "name": "stdout",
          "text": [
            "Z-statistic: -3.1844572260429627\n",
            "P-value: 0.0007251287113068958\n",
            "The claim that the average response time is less than 5 minutes is supported by the data.\n"
          ]
        }
      ]
    },
    {
      "cell_type": "markdown",
      "source": [
        "__________________________________________________________________________"
      ],
      "metadata": {
        "id": "9yXIVSQGFxEn"
      }
    },
    {
      "cell_type": "markdown",
      "source": [
        "Q.15.  A company is testing two different website layouts to see which one leads to higher click-through rates.\n",
        "Write a Python function to perform an A/B test analysis, including calculating the t-statistic, degrees of\n",
        "freedom, and p-value.\n",
        " Use the following data:\n",
        " ```python\n",
        " layout_a_clicks = [28, 32, 33, 29, 31, 34, 30, 35, 36, 37]\n",
        " layout_b_clicks = [40, 41, 38, 42, 39, 44, 43, 41, 45, 47]\n",
        "\n",
        " Ans."
      ],
      "metadata": {
        "id": "gy3RfT_aFwG6"
      }
    },
    {
      "cell_type": "code",
      "source": [
        "from scipy.stats import ttest_ind\n",
        "\n",
        "def ab_test_analysis(layout_a_clicks, layout_b_clicks):\n",
        "    \"\"\"\n",
        "    Performs an A/B test analysis.\n",
        "\n",
        "    Args:\n",
        "        layout_a_clicks: A list of click-through rates for layout A.\n",
        "        layout_b_clicks: A list of click-through rates for layout B.\n",
        "\n",
        "    Returns:\n",
        "        A dictionary containing the t-statistic, degrees of freedom, and p-value.\n",
        "    \"\"\"\n",
        "    t_statistic, p_value = ttest_ind(layout_a_clicks, layout_b_clicks)\n",
        "    degrees_of_freedom = len(layout_a_clicks) + len(layout_b_clicks) - 2\n",
        "\n",
        "    return {\"t_statistic\": t_statistic, \"degrees_of_freedom\": degrees_of_freedom, \"p_value\": p_value}\n",
        "\n",
        "layout_a_clicks = [28, 32, 33, 29, 31, 34, 30, 35, 36, 37]\n",
        "layout_b_clicks = [40, 41, 38, 42, 39, 44, 43, 41, 45, 47]\n",
        "\n",
        "results = ab_test_analysis(layout_a_clicks, layout_b_clicks)\n",
        "results"
      ],
      "metadata": {
        "colab": {
          "base_uri": "https://localhost:8080/"
        },
        "id": "tFgxlOdNF9Gv",
        "outputId": "437abd41-40df-4d6a-9f32-ec912efe25b5"
      },
      "execution_count": 26,
      "outputs": [
        {
          "output_type": "execute_result",
          "data": {
            "text/plain": [
              "{'t_statistic': -7.298102156175071,\n",
              " 'degrees_of_freedom': 18,\n",
              " 'p_value': 8.833437608301987e-07}"
            ]
          },
          "metadata": {},
          "execution_count": 26
        }
      ]
    },
    {
      "cell_type": "markdown",
      "source": [
        "___________________________________________________________________________"
      ],
      "metadata": {
        "id": "oAy0MmcwGKB7"
      }
    },
    {
      "cell_type": "markdown",
      "source": [
        "Q.16.  A pharmaceutical company wants to determine if a new drug is more effective than an existing drug in\n",
        "reducing cholesterol levels. Create a program to analyze the clinical trial data and calculate the t- statistic and p-value for the treatment effect.\n",
        "\n",
        "Use the following data of cholestrol level:\n",
        " ```python\n",
        " existing_drug_levels = [180, 182, 175, 185, 178, 176, 172, 184, 179, 183]\n",
        " new_drug_levels = [170, 172, 165, 168, 175, 173, 170, 178, 172, 176]\n",
        " ```\n",
        "\n",
        " Ans."
      ],
      "metadata": {
        "id": "8zPzw3cIGMQ4"
      }
    },
    {
      "cell_type": "code",
      "source": [
        "existing_drug_levels = [180, 182, 175, 185, 178, 176, 172, 184, 179, 183]\n",
        "new_drug_levels = [170, 172, 165, 168, 175, 173, 170, 178, 172, 176]\n",
        "\n",
        "t_statistic, p_value = ttest_ind(existing_drug_levels, new_drug_levels)\n",
        "\n",
        "print(f\"t-statistic: {t_statistic}\")\n",
        "print(f\"p-value: {p_value}\")\n",
        "\n",
        "alpha = 0.05\n",
        "if p_value < alpha:\n",
        "    print(\"The new drug is significantly more effective in reducing cholesterol levels.\")\n",
        "else:\n",
        "    print(\"There is no significant difference in cholesterol reduction between the two drugs.\")"
      ],
      "metadata": {
        "colab": {
          "base_uri": "https://localhost:8080/"
        },
        "id": "9OsjKeVPG1Y0",
        "outputId": "92667af9-d9a0-4ca3-9957-9dcd3d87533a"
      },
      "execution_count": 27,
      "outputs": [
        {
          "output_type": "stream",
          "name": "stdout",
          "text": [
            "t-statistic: 4.14048098620866\n",
            "p-value: 0.0006143398442372505\n",
            "The new drug is significantly more effective in reducing cholesterol levels.\n"
          ]
        }
      ]
    },
    {
      "cell_type": "markdown",
      "source": [
        "__________________________________________________________________________"
      ],
      "metadata": {
        "id": "E7FFKs6VG4-e"
      }
    },
    {
      "cell_type": "markdown",
      "source": [
        "Q.17.  A school district introduces an educational intervention program to improve math scores. Write a Python\n",
        "function to analyze pre- and post-intervention test scores, calculating the t-statistic and p-value to\n",
        "determine if the intervention had a significant impact.\n",
        " Use the following data of test score:\n",
        " ```python\n",
        " pre_intervention_scores = [80, 85, 90, 75, 88, 82, 92, 78, 85, 87]\n",
        " post_intervention_scores = [90, 92, 88, 92, 95, 91, 96, 93, 89, 93]\n",
        " ```\n",
        "\n",
        " Ans."
      ],
      "metadata": {
        "id": "w7E2riiiG7Hv"
      }
    },
    {
      "cell_type": "code",
      "source": [
        "def analyze_intervention(pre_intervention_scores, post_intervention_scores):\n",
        "    \"\"\"\n",
        "    Analyzes pre- and post-intervention test scores using a t-test.\n",
        "\n",
        "    Args:\n",
        "        pre_intervention_scores: A list of test scores before the intervention.\n",
        "        post_intervention_scores: A list of test scores after the intervention.\n",
        "\n",
        "    Returns:\n",
        "        A dictionary containing the t-statistic and p-value.\n",
        "    \"\"\"\n",
        "    t_statistic, p_value = ttest_ind(pre_intervention_scores, post_intervention_scores)\n",
        "    return {\"t_statistic\": t_statistic, \"p_value\": p_value}\n",
        "\n",
        "pre_intervention_scores = [80, 85, 90, 75, 88, 82, 92, 78, 85, 87]\n",
        "post_intervention_scores = [90, 92, 88, 92, 95, 91, 96, 93, 89, 93]\n",
        "\n",
        "results = analyze_intervention(pre_intervention_scores, post_intervention_scores)\n",
        "print(results)\n",
        "\n",
        "alpha = 0.05\n",
        "if results[\"p_value\"] < alpha:\n",
        "    print(\"The intervention had a significant impact on math scores.\")\n",
        "else:\n",
        "    print(\"The intervention did not have a significant impact on math scores.\")"
      ],
      "metadata": {
        "colab": {
          "base_uri": "https://localhost:8080/"
        },
        "id": "J6V1oCSqHJ9Z",
        "outputId": "31d63c36-5f29-4fcf-88c0-ede5f9d82d0a"
      },
      "execution_count": 28,
      "outputs": [
        {
          "output_type": "stream",
          "name": "stdout",
          "text": [
            "{'t_statistic': -4.080355128162116, 'p_value': 0.0007022570725706455}\n",
            "The intervention had a significant impact on math scores.\n"
          ]
        }
      ]
    },
    {
      "cell_type": "markdown",
      "source": [
        "__________________________________________________________________________"
      ],
      "metadata": {
        "id": "4WqNoJXjHa1E"
      }
    },
    {
      "cell_type": "markdown",
      "source": [
        "Q.18.  An HR department wants to investigate if there's a gender-based salary gap within the company. Develop\n",
        "a program to analyze salary data, calculate the t-statistic, and determine if there's a statistically\n",
        "significant difference between the average salaries of male and female employees.\n",
        " Use the below code to generate synthetic data:\n",
        " ```python\n",
        " # Generate synthetic salary data for male and female employees\n",
        " np.random.seed(0)  # For reproducibility\n",
        " male_salaries = np.random.normal(loc=50000, scale=10000, size=20)\n",
        " female_salaries = np.random.normal(loc=55000, scale=9000, size=20)\n",
        " ```\n",
        "\n",
        " Ans."
      ],
      "metadata": {
        "id": "Bl-l4UflHctG"
      }
    },
    {
      "cell_type": "code",
      "source": [
        "import numpy as np\n",
        "from scipy.stats import ttest_ind\n",
        "\n",
        "# Generate synthetic salary data for male and female employees\n",
        "np.random.seed(0)  # For reproducibility\n",
        "male_salaries = np.random.normal(loc=50000, scale=10000, size=20)\n",
        "female_salaries = np.random.normal(loc=55000, scale=9000, size=20)\n",
        "\n",
        "# Perform the t-test\n",
        "t_statistic, p_value = ttest_ind(male_salaries, female_salaries)\n",
        "\n",
        "# Print the results\n",
        "print(f\"t-statistic: {t_statistic}\")\n",
        "print(f\"p-value: {p_value}\")\n",
        "\n",
        "# Interpret the results\n",
        "alpha = 0.05  # Significance level\n",
        "if p_value < alpha:\n",
        "    print(\"There is a statistically significant difference between the average salaries of male and female employees.\")\n",
        "else:\n",
        "    print(\"There is no statistically significant difference between the average salaries of male and female employees.\")"
      ],
      "metadata": {
        "colab": {
          "base_uri": "https://localhost:8080/"
        },
        "id": "d5P3f0F5H-R8",
        "outputId": "683076e4-da01-4fa2-8077-ff603b59c5e0"
      },
      "execution_count": 29,
      "outputs": [
        {
          "output_type": "stream",
          "name": "stdout",
          "text": [
            "t-statistic: 0.06114208969631383\n",
            "p-value: 0.9515665020676465\n",
            "There is no statistically significant difference between the average salaries of male and female employees.\n"
          ]
        }
      ]
    },
    {
      "cell_type": "markdown",
      "source": [
        "___________________________________________________________________________"
      ],
      "metadata": {
        "id": "dJAQ5H0oIDQl"
      }
    },
    {
      "cell_type": "markdown",
      "source": [
        "Q.19.  A manufacturer produces two different versions of a product and wants to compare their quality scores.\n",
        "Create a Python function to analyze quality assessment data, calculate the t-statistic, and decide\n",
        "whether there's a significant difference in quality between the two versions.\n",
        " Use the following data:\n",
        " ```python\n",
        " version1_scores = [85, 88, 82, 89, 87, 84, 90, 88, 85, 86, 91, 83, 87, 84, 89, 86, 84, 88, 85, 86, 89, 90, 87, 88, 85]\n",
        " version2_scores = [80, 78, 83, 81, 79, 82, 76, 80, 78, 81, 77, 82, 80, 79, 82, 79, 80, 81, 79, 82, 79, 78, 80, 81, 82]\n",
        " ```\n",
        "\n",
        " Ans."
      ],
      "metadata": {
        "id": "4agrv14EIFap"
      }
    },
    {
      "cell_type": "code",
      "source": [
        "from scipy.stats import ttest_ind\n",
        "\n",
        "def analyze_product_quality(version1_scores, version2_scores):\n",
        "    \"\"\"\n",
        "    Analyzes quality assessment data using a t-test.\n",
        "\n",
        "    Args:\n",
        "        version1_scores: A list of quality scores for version 1.\n",
        "        version2_scores: A list of quality scores for version 2.\n",
        "\n",
        "    Returns:\n",
        "        A dictionary containing the t-statistic and p-value.\n",
        "    \"\"\"\n",
        "    t_statistic, p_value = ttest_ind(version1_scores, version2_scores)\n",
        "    return {\"t_statistic\": t_statistic, \"p_value\": p_value}\n",
        "\n",
        "version1_scores = [85, 88, 82, 89, 87, 84, 90, 88, 85, 86, 91, 83, 87, 84, 89, 86, 84, 88, 85, 86, 89, 90, 87, 88, 85]\n",
        "version2_scores = [80, 78, 83, 81, 79, 82, 76, 80, 78, 81, 77, 82, 80, 79, 82, 79, 80, 81, 79, 82, 79, 78, 80, 81, 82]\n",
        "\n",
        "results = analyze_product_quality(version1_scores, version2_scores)\n",
        "print(results)\n",
        "\n",
        "alpha = 0.05\n",
        "if results[\"p_value\"] < alpha:\n",
        "    print(\"There's a significant difference in quality between the two versions.\")\n",
        "else:\n",
        "    print(\"There's no significant difference in quality between the two versions.\")"
      ],
      "metadata": {
        "colab": {
          "base_uri": "https://localhost:8080/"
        },
        "id": "pkJm2SiEIjUo",
        "outputId": "f9597a4e-101d-450e-bc2a-b910cd16435e"
      },
      "execution_count": 30,
      "outputs": [
        {
          "output_type": "stream",
          "name": "stdout",
          "text": [
            "{'t_statistic': 11.325830417646698, 'p_value': 3.6824250702873965e-15}\n",
            "There's a significant difference in quality between the two versions.\n"
          ]
        }
      ]
    },
    {
      "cell_type": "markdown",
      "source": [
        "___________________________________________________________________________"
      ],
      "metadata": {
        "id": "iZO6KJKwIlR-"
      }
    },
    {
      "cell_type": "markdown",
      "source": [
        "Q.20.  A restaurant chain collects customer satisfaction scores for two different branches. Write a program to\n",
        "analyze the scores, calculate the t-statistic, and determine if there's a statistically significant difference in\n",
        "customer satisfaction between the branches.\n",
        "\n",
        " Use the below data of scores:\n",
        " ```python\n",
        " branch_a_scores = [4, 5, 3, 4, 5, 4, 5, 3, 4, 4, 5, 4, 4, 3, 4, 5, 5, 4, 3, 4, 5, 4, 3, 5, 4, 4, 5, 3, 4, 5, 4]\n",
        " branch_b_scores = [3, 4, 2, 3, 4, 3, 4, 2, 3, 3, 4, 3, 3, 2, 3, 4, 4, 3, 2, 3, 4, 3, 2, 4, 3, 3, 4, 2, 3, 4, 3]\n",
        "\n",
        " Ans."
      ],
      "metadata": {
        "id": "dS0rj-ZjInRM"
      }
    },
    {
      "cell_type": "code",
      "source": [
        "branch_a_scores = [4, 5, 3, 4, 5, 4, 5, 3, 4, 4, 5, 4, 4, 3, 4, 5, 5, 4, 3, 4, 5, 4, 3, 5, 4, 4, 5, 3, 4, 5, 4]\n",
        "branch_b_scores = [3, 4, 2, 3, 4, 3, 4, 2, 3, 3, 4, 3, 3, 2, 3, 4, 4, 3, 2, 3, 4, 3, 2, 4, 3, 3, 4, 2, 3, 4, 3]\n",
        "\n",
        "t_statistic, p_value = ttest_ind(branch_a_scores, branch_b_scores)\n",
        "\n",
        "print(f\"t-statistic: {t_statistic}\")\n",
        "print(f\"p-value: {p_value}\")\n",
        "\n",
        "alpha = 0.05\n",
        "if p_value < alpha:\n",
        "    print(\"There's a statistically significant difference in customer satisfaction between the two branches.\")\n",
        "else:\n",
        "    print(\"There's no statistically significant difference in customer satisfaction between the two branches.\")"
      ],
      "metadata": {
        "colab": {
          "base_uri": "https://localhost:8080/"
        },
        "id": "qeU5l0GPJA4o",
        "outputId": "387493c9-e7f4-476d-ef8c-f40ecbf0d1ff"
      },
      "execution_count": 31,
      "outputs": [
        {
          "output_type": "stream",
          "name": "stdout",
          "text": [
            "t-statistic: 5.480077554195743\n",
            "p-value: 8.895290509945655e-07\n",
            "There's a statistically significant difference in customer satisfaction between the two branches.\n"
          ]
        }
      ]
    },
    {
      "cell_type": "markdown",
      "source": [
        "__________________________________________________________________________"
      ],
      "metadata": {
        "id": "7BWsv5keJCzN"
      }
    },
    {
      "cell_type": "markdown",
      "source": [
        "Q.21.  A political analyst wants to determine if there is a significant association between age groups and voter\n",
        "preferences (Candidate A or Candidate B). They collect data from a sample of 500 voters and classify\n",
        "them into different age groups and candidate preferences. Perform a Chi-Square test to determine if\n",
        "there is a significant association between age groups and voter preferences.\n",
        "\n",
        " Use the below code to generate data:\n",
        " ```python\n",
        " np.random.seed(0)\n",
        " age_groups = np.random.choice(['18-30', '31-50', '51+', '51+'], size=30)\n",
        " voter_preferences = np.random.choice(['Candidate A', 'Candidate B'], size=30)\n",
        "\n",
        " Ans.\n"
      ],
      "metadata": {
        "id": "0lrapCFFJE6q"
      }
    },
    {
      "cell_type": "code",
      "source": [
        "import numpy as np\n",
        "from scipy.stats import chi2_contingency\n",
        "\n",
        "np.random.seed(0)\n",
        "# Generate synthetic data (replace with actual data if available)\n",
        "age_groups = np.random.choice(['18-30', '31-50', '51+'], size=500)\n",
        "voter_preferences = np.random.choice(['Candidate A', 'Candidate B'], size=500)\n",
        "\n",
        "# Create a contingency table\n",
        "contingency_table = pd.crosstab(age_groups, voter_preferences)\n",
        "\n",
        "# Perform the chi-square test\n",
        "chi2, p, dof, expected = chi2_contingency(contingency_table)\n",
        "\n",
        "# Print the results\n",
        "print(\"Chi-square statistic:\", chi2)\n",
        "print(\"P-value:\", p)\n",
        "print(\"Degrees of freedom:\", dof)\n",
        "print(\"Expected frequencies:\", expected)\n",
        "\n",
        "alpha = 0.05\n",
        "if p < alpha:\n",
        "    print(\"There is a significant association between age groups and voter preferences.\")\n",
        "else:\n",
        "    print(\"There is no significant association between age groups and voter preferences.\")"
      ],
      "metadata": {
        "colab": {
          "base_uri": "https://localhost:8080/"
        },
        "id": "NT00CDD-JiTp",
        "outputId": "3b63e358-4fb6-4725-a955-9f4da2b22eef"
      },
      "execution_count": 32,
      "outputs": [
        {
          "output_type": "stream",
          "name": "stdout",
          "text": [
            "Chi-square statistic: 0.8779923945254768\n",
            "P-value: 0.6446832311860852\n",
            "Degrees of freedom: 2\n",
            "Expected frequencies: [[96.824 85.176]\n",
            " [89.908 79.092]\n",
            " [79.268 69.732]]\n",
            "There is no significant association between age groups and voter preferences.\n"
          ]
        }
      ]
    },
    {
      "cell_type": "markdown",
      "source": [
        "__________________________________________________________________________"
      ],
      "metadata": {
        "id": "GdYAuNn_Jkyn"
      }
    },
    {
      "cell_type": "markdown",
      "source": [
        "Q.22.  A company conducted a customer satisfaction survey to determine if there is a significant relationship\n",
        "between product satisfaction levels (Satisfied, Neutral, Dissatisfied) and the region where customers are\n",
        "located (East, West, North, South). The survey data is summarized in a contingency table. Conduct a Chi\n",
        "Square test to determine if there is a significant relationship between product satisfaction levels and\n",
        "customer regions.\n",
        "\n",
        " Sample data:\n",
        " ```python\n",
        "\n",
        " #Sample data: Product satisfaction levels (rows) vs. Customer regions (columns)\n",
        " data = np.array([[50, 30, 40, 20], [30, 40, 30, 50], [20, 30, 40, 30]])\n",
        " ```\n",
        "\n",
        " Ans.\n"
      ],
      "metadata": {
        "id": "th-D8nSuJmpw"
      }
    },
    {
      "cell_type": "code",
      "source": [
        "data = np.array([[50, 30, 40, 20], [30, 40, 30, 50], [20, 30, 40, 30]])\n",
        "\n",
        "# Perform the chi-square test\n",
        "chi2, p, dof, expected = chi2_contingency(data)\n",
        "\n",
        "# Print the results\n",
        "print(\"Chi-square statistic:\", chi2)\n",
        "print(\"P-value:\", p)\n",
        "print(\"Degrees of freedom:\", dof)\n",
        "print(\"Expected frequencies:\", expected)\n",
        "\n",
        "alpha = 0.05\n",
        "if p < alpha:\n",
        "    print(\"There is a significant relationship between product satisfaction and customer regions.\")\n",
        "else:\n",
        "    print(\"There is no significant relationship between product satisfaction and customer regions.\")"
      ],
      "metadata": {
        "colab": {
          "base_uri": "https://localhost:8080/"
        },
        "id": "UThrrCDRKRY2",
        "outputId": "eceecb46-85ac-42bd-b776-9edaac9a1884"
      },
      "execution_count": 33,
      "outputs": [
        {
          "output_type": "stream",
          "name": "stdout",
          "text": [
            "Chi-square statistic: 27.777056277056275\n",
            "P-value: 0.00010349448486004387\n",
            "Degrees of freedom: 6\n",
            "Expected frequencies: [[34.14634146 34.14634146 37.56097561 34.14634146]\n",
            " [36.58536585 36.58536585 40.24390244 36.58536585]\n",
            " [29.26829268 29.26829268 32.19512195 29.26829268]]\n",
            "There is a significant relationship between product satisfaction and customer regions.\n"
          ]
        }
      ]
    },
    {
      "cell_type": "markdown",
      "source": [
        "__________________________________________________________________________"
      ],
      "metadata": {
        "id": "ReLOup51KUjz"
      }
    },
    {
      "cell_type": "markdown",
      "source": [
        "Q.23.  A company implemented an employee training program to improve job performance (Effective, Neutral,\n",
        "Ineffective). After the training, they collected data from a sample of employees and classified them based\n",
        "on their job performance before and after the training. Perform a Chi-Square test to determine if there is a\n",
        "significant difference between job performance levels before and after the training.\n",
        " Sample data:\n",
        " ```python\n",
        "  # Sample data: Job performance levels before (rows) and after (columns) training\n",
        "\n",
        " data = np.array([[50, 30, 20], [30, 40, 30], [20, 30, 40]])\n",
        " ```\n",
        "\n",
        " Ans."
      ],
      "metadata": {
        "id": "kxhrlZTqKWGN"
      }
    },
    {
      "cell_type": "code",
      "source": [
        "data = np.array([[50, 30, 20], [30, 40, 30], [20, 30, 40]])\n",
        "\n",
        "# Perform the chi-square test\n",
        "chi2, p, dof, expected = chi2_contingency(data)\n",
        "\n",
        "# Print the results\n",
        "print(\"Chi-square statistic:\", chi2)\n",
        "print(\"P-value:\", p)\n",
        "print(\"Degrees of freedom:\", dof)\n",
        "print(\"Expected frequencies:\", expected)\n",
        "\n",
        "alpha = 0.05\n",
        "if p < alpha:\n",
        "    print(\"There is a significant difference in job performance levels before and after the training.\")\n",
        "else:\n",
        "    print(\"There is no significant difference in job performance levels before and after the training.\")\n"
      ],
      "metadata": {
        "colab": {
          "base_uri": "https://localhost:8080/"
        },
        "id": "IzxxEnfoLLAR",
        "outputId": "058e1c67-efb3-487c-f8ee-dac073999a02"
      },
      "execution_count": 34,
      "outputs": [
        {
          "output_type": "stream",
          "name": "stdout",
          "text": [
            "Chi-square statistic: 22.161728395061726\n",
            "P-value: 0.00018609719479882557\n",
            "Degrees of freedom: 4\n",
            "Expected frequencies: [[34.48275862 34.48275862 31.03448276]\n",
            " [34.48275862 34.48275862 31.03448276]\n",
            " [31.03448276 31.03448276 27.93103448]]\n",
            "There is a significant difference in job performance levels before and after the training.\n"
          ]
        }
      ]
    },
    {
      "cell_type": "markdown",
      "source": [
        "__________________________________________________________________________"
      ],
      "metadata": {
        "id": "w7cSplqzLNnV"
      }
    },
    {
      "cell_type": "markdown",
      "source": [
        "Q.24.  A company produces three different versions of a product: Standard, Premium, and Deluxe. The\n",
        "company wants to determine if there is a significant difference in customer satisfaction scores among the\n",
        "three product versions. They conducted a survey and collected customer satisfaction scores for each\n",
        "version from a random sample of customers. Perform an ANOVA test to determine if there is a significant\n",
        "difference in customer satisfaction scores.\n",
        " Use the following data:\n",
        " ```python\n",
        " # Sample data: Customer satisfaction scores for each product version\n",
        " standard_scores = [80, 85, 90, 78, 88, 82, 92, 78, 85, 87]\n",
        " premium_scores = [90, 92, 88, 92, 95, 91, 96, 93, 89, 93]\n",
        " deluxe_scores = [95, 98, 92, 97, 96, 94, 98, 97, 92, 99]\n",
        " ```\n",
        "\n",
        "\n",
        " Ans."
      ],
      "metadata": {
        "id": "6K5Rqtb7LQdd"
      }
    },
    {
      "cell_type": "code",
      "source": [
        "from scipy.stats import f_oneway\n",
        "\n",
        "# Sample data: Customer satisfaction scores for each product version\n",
        "standard_scores = [80, 85, 90, 78, 88, 82, 92, 78, 85, 87]\n",
        "premium_scores = [90, 92, 88, 92, 95, 91, 96, 93, 89, 93]\n",
        "deluxe_scores = [95, 98, 92, 97, 96, 94, 98, 97, 92, 99]\n",
        "\n",
        "# Perform ANOVA test\n",
        "f_statistic, p_value = f_oneway(standard_scores, premium_scores, deluxe_scores)\n",
        "\n",
        "# Print the results\n",
        "print(f\"F-statistic: {f_statistic}\")\n",
        "print(f\"P-value: {p_value}\")\n",
        "\n",
        "# Interpret the results\n",
        "alpha = 0.05\n",
        "if p_value < alpha:\n",
        "    print(\"There is a significant difference in customer satisfaction scores among the three product versions.\")\n",
        "else:\n",
        "    print(\"There is no significant difference in customer satisfaction scores among the three product versions.\")"
      ],
      "metadata": {
        "colab": {
          "base_uri": "https://localhost:8080/"
        },
        "id": "eZrjWo1zLrxf",
        "outputId": "df49bb9f-a88d-4d96-d828-31055b3c8c59"
      },
      "execution_count": 35,
      "outputs": [
        {
          "output_type": "stream",
          "name": "stdout",
          "text": [
            "F-statistic: 27.03556231003039\n",
            "P-value: 3.5786328857349003e-07\n",
            "There is a significant difference in customer satisfaction scores among the three product versions.\n"
          ]
        }
      ]
    },
    {
      "cell_type": "markdown",
      "source": [
        "___________________________________________________________________________"
      ],
      "metadata": {
        "id": "qRSIeAtoLuWk"
      }
    }
  ]
}