{
  "nbformat": 4,
  "nbformat_minor": 0,
  "metadata": {
    "colab": {
      "provenance": [],
      "authorship_tag": "ABX9TyOJAPj1e4bczOa2KAWj9jqb",
      "include_colab_link": true
    },
    "kernelspec": {
      "name": "python3",
      "display_name": "Python 3"
    },
    "language_info": {
      "name": "python"
    }
  },
  "cells": [
    {
      "cell_type": "markdown",
      "metadata": {
        "id": "view-in-github",
        "colab_type": "text"
      },
      "source": [
        "<a href=\"https://colab.research.google.com/github/ShasHero006/Python/blob/main/NumPy_Assignment_(Practical_Questions).ipynb\" target=\"_parent\"><img src=\"https://colab.research.google.com/assets/colab-badge.svg\" alt=\"Open In Colab\"/></a>"
      ]
    },
    {
      "cell_type": "markdown",
      "source": [
        "#**Practical Questions**"
      ],
      "metadata": {
        "id": "aUC69C2Ke9iz"
      }
    },
    {
      "cell_type": "markdown",
      "source": [
        "# **Q.1.  Create a 3x3 NumPy array with random integers between 1 and 100. Then, interchange its rows and columns.**\n",
        "Ans."
      ],
      "metadata": {
        "id": "6mO7Nui7XoDJ"
      }
    },
    {
      "cell_type": "code",
      "source": [
        "import numpy as np\n",
        "\n",
        "# Create a 3x3 NumPy array with random integers between 1 and 100\n",
        "array = np.random.randint(1, 101, size=(3, 3))\n",
        "\n",
        "print(\"Original array:\")\n",
        "print(array)\n",
        "\n",
        "# Interchange rows and columns\n",
        "interchanged_array = array.transpose()\n",
        "\n",
        "print(\"\\nArray with interchanged rows and columns:\")\n",
        "print(interchanged_array)"
      ],
      "metadata": {
        "colab": {
          "base_uri": "https://localhost:8080/"
        },
        "id": "sF4QPBOpYw9r",
        "outputId": "3be665e2-2462-47aa-d223-0bdeb37411dd"
      },
      "execution_count": null,
      "outputs": [
        {
          "output_type": "stream",
          "name": "stdout",
          "text": [
            "Original array:\n",
            "[[15 46 83]\n",
            " [48 98 32]\n",
            " [35 34 40]]\n",
            "\n",
            "Array with interchanged rows and columns:\n",
            "[[15 48 35]\n",
            " [46 98 34]\n",
            " [83 32 40]]\n"
          ]
        }
      ]
    },
    {
      "cell_type": "markdown",
      "source": [
        "__________________________________________________________________________"
      ],
      "metadata": {
        "id": "UlRD8BXRdfSL"
      }
    },
    {
      "cell_type": "markdown",
      "source": [
        "# **Q. 2. Generate a 1D NumPy array with 10 elements. Reshape it into a 2x5 array, then into a 5x2 array.**\n",
        "Ans."
      ],
      "metadata": {
        "id": "OjUt9iSeY44c"
      }
    },
    {
      "cell_type": "code",
      "source": [
        "import numpy as np\n",
        "\n",
        "# Generate a 1D NumPy array with 10 elements\n",
        "array_1d = np.arange(10)\n",
        "\n",
        "print(\"Original 1D array:\")\n",
        "print(array_1d)\n",
        "\n",
        "# Reshape it into a 2x5 array\n",
        "array_2x5 = array_1d.reshape(2, 5)\n",
        "\n",
        "print(\"\\nReshaped 2x5 array:\")\n",
        "print(array_2x5)\n",
        "\n",
        "# Reshape it into a 5x2 array\n",
        "array_5x2 = array_1d.reshape(5, 2)\n",
        "\n",
        "print(\"\\nReshaped 5x2 array:\")\n",
        "print(array_5x2)\n"
      ],
      "metadata": {
        "colab": {
          "base_uri": "https://localhost:8080/"
        },
        "id": "uMAbMULcZhiY",
        "outputId": "48af50c4-3291-4a60-ce29-39fbd133e169"
      },
      "execution_count": null,
      "outputs": [
        {
          "output_type": "stream",
          "name": "stdout",
          "text": [
            "Original 1D array:\n",
            "[0 1 2 3 4 5 6 7 8 9]\n",
            "\n",
            "Reshaped 2x5 array:\n",
            "[[0 1 2 3 4]\n",
            " [5 6 7 8 9]]\n",
            "\n",
            "Reshaped 5x2 array:\n",
            "[[0 1]\n",
            " [2 3]\n",
            " [4 5]\n",
            " [6 7]\n",
            " [8 9]]\n"
          ]
        }
      ]
    },
    {
      "cell_type": "markdown",
      "source": [
        "___________________________________________________________________________"
      ],
      "metadata": {
        "id": "gXNXvXDNdiDX"
      }
    },
    {
      "cell_type": "markdown",
      "source": [
        "# **Q.3.Create a 4x4 NumPy array with random float values. Add a border of zeros around it, resulting in a 6x6 array.**\n",
        "Ans."
      ],
      "metadata": {
        "id": "-1iyLWs6ZqDV"
      }
    },
    {
      "cell_type": "code",
      "source": [
        "import numpy as np\n",
        "\n",
        "# Create a 4x4 NumPy array with random float values\n",
        "array = np.random.rand(4, 4)\n",
        "\n",
        "print(\"Original array:\")\n",
        "print(array)\n",
        "\n",
        "# Add a border of zeros around it\n",
        "bordered_array = np.pad(array, pad_width=1, mode='constant', constant_values=0)\n",
        "\n",
        "print(\"\\nArray with a border of zeros:\")\n",
        "print(bordered_array)"
      ],
      "metadata": {
        "colab": {
          "base_uri": "https://localhost:8080/"
        },
        "id": "xv0kdNDpaF98",
        "outputId": "d20fc93b-2e64-4892-883f-af840b85cd8c"
      },
      "execution_count": null,
      "outputs": [
        {
          "output_type": "stream",
          "name": "stdout",
          "text": [
            "Original array:\n",
            "[[0.41170245 0.02554012 0.19745167 0.45223336]\n",
            " [0.9272731  0.78925469 0.39940432 0.66525632]\n",
            " [0.17922039 0.90573281 0.89125812 0.74130862]\n",
            " [0.27066061 0.51185594 0.10818506 0.97489697]]\n",
            "\n",
            "Array with a border of zeros:\n",
            "[[0.         0.         0.         0.         0.         0.        ]\n",
            " [0.         0.41170245 0.02554012 0.19745167 0.45223336 0.        ]\n",
            " [0.         0.9272731  0.78925469 0.39940432 0.66525632 0.        ]\n",
            " [0.         0.17922039 0.90573281 0.89125812 0.74130862 0.        ]\n",
            " [0.         0.27066061 0.51185594 0.10818506 0.97489697 0.        ]\n",
            " [0.         0.         0.         0.         0.         0.        ]]\n"
          ]
        }
      ]
    },
    {
      "cell_type": "markdown",
      "source": [
        "__________________________________________________________________________"
      ],
      "metadata": {
        "id": "Ber4j0dsdkIO"
      }
    },
    {
      "cell_type": "markdown",
      "source": [
        "# **Q.4. Using NumPy, create an array of integers from 10 to 60 with a step of 5.**\n",
        "Ans."
      ],
      "metadata": {
        "id": "aa7jXq_paJYn"
      }
    },
    {
      "cell_type": "code",
      "source": [
        "import numpy as np\n",
        "\n",
        "# Create an array of integers from 10 to 60 with a step of 5\n",
        "array = np.arange(10, 61, 5)\n",
        "\n",
        "print(array)"
      ],
      "metadata": {
        "colab": {
          "base_uri": "https://localhost:8080/"
        },
        "id": "0mD9sybbaznY",
        "outputId": "7e7d7c92-1228-423a-e6d6-c5f3c45256de"
      },
      "execution_count": null,
      "outputs": [
        {
          "output_type": "stream",
          "name": "stdout",
          "text": [
            "[10 15 20 25 30 35 40 45 50 55 60]\n"
          ]
        }
      ]
    },
    {
      "cell_type": "markdown",
      "source": [
        "__________________________________________________________________________"
      ],
      "metadata": {
        "id": "fP4BssuGdmLj"
      }
    },
    {
      "cell_type": "markdown",
      "source": [
        "# **Q.5. Create a NumPy array of strings ['python', 'numpy', 'pandas']. Apply different case transformations (uppercase, lowercase, title case, etc.) to each element.**\n",
        "Ans."
      ],
      "metadata": {
        "id": "R1Gh2KHIa2ND"
      }
    },
    {
      "cell_type": "code",
      "source": [
        "import numpy as np\n",
        "\n",
        "# Create a NumPy array of strings\n",
        "array = np.array(['python', 'numpy', 'pandas'])\n",
        "\n",
        "print(\"Original array:\")\n",
        "print(array)\n",
        "\n",
        "# Apply different case transformations\n",
        "uppercase_array = np.char.upper(array)\n",
        "lowercase_array = np.char.lower(array)\n",
        "titlecase_array = np.char.title(array)\n",
        "capitalize_array = np.char.capitalize(array)\n",
        "swapcase_array = np.char.swapcase(array)\n",
        "\n",
        "print(\"\\nUppercase array:\")\n",
        "print(uppercase_array)\n",
        "\n",
        "print(\"\\nLowercase array:\")\n",
        "print(lowercase_array)\n",
        "\n",
        "print(\"\\nTitlecase array:\")\n",
        "print(titlecase_array)\n",
        "\n",
        "print(\"\\nCapitalize array:\")\n",
        "print(capitalize_array)\n",
        "\n",
        "print(\"\\nSwapcase array:\")\n",
        "print(swapcase_array)\n"
      ],
      "metadata": {
        "colab": {
          "base_uri": "https://localhost:8080/"
        },
        "id": "vC6_QvuBbPBu",
        "outputId": "92dc65c8-19f5-4185-bdf6-ed9510e1ac66"
      },
      "execution_count": null,
      "outputs": [
        {
          "output_type": "stream",
          "name": "stdout",
          "text": [
            "Original array:\n",
            "['python' 'numpy' 'pandas']\n",
            "\n",
            "Uppercase array:\n",
            "['PYTHON' 'NUMPY' 'PANDAS']\n",
            "\n",
            "Lowercase array:\n",
            "['python' 'numpy' 'pandas']\n",
            "\n",
            "Titlecase array:\n",
            "['Python' 'Numpy' 'Pandas']\n",
            "\n",
            "Capitalize array:\n",
            "['Python' 'Numpy' 'Pandas']\n",
            "\n",
            "Swapcase array:\n",
            "['PYTHON' 'NUMPY' 'PANDAS']\n"
          ]
        }
      ]
    },
    {
      "cell_type": "markdown",
      "source": [
        "___________________________________________________________________________"
      ],
      "metadata": {
        "id": "4oAEQXpMdopN"
      }
    },
    {
      "cell_type": "markdown",
      "source": [
        "# **Q.6. Generate a NumPy array of words. Insert a space between each character of every word in the array.**\n",
        "Ans."
      ],
      "metadata": {
        "id": "nnMnv7KjbSEU"
      }
    },
    {
      "cell_type": "code",
      "source": [
        "import numpy as np\n",
        "\n",
        "# Generate a NumPy array of words\n",
        "words = np.array(['apple', 'banana', 'cherry'])\n",
        "\n",
        "# Insert a space between each character of every word\n",
        "spaced_words = np.char.join(' ', words)\n",
        "\n",
        "print(\"Original array:\")\n",
        "print(words)\n",
        "\n",
        "print(\"\\nArray with spaces between characters:\")\n",
        "print(spaced_words)"
      ],
      "metadata": {
        "colab": {
          "base_uri": "https://localhost:8080/"
        },
        "id": "9FAmLQlublMd",
        "outputId": "f2f6a049-a979-4398-b9e7-a7e769fa869b"
      },
      "execution_count": null,
      "outputs": [
        {
          "output_type": "stream",
          "name": "stdout",
          "text": [
            "Original array:\n",
            "['apple' 'banana' 'cherry']\n",
            "\n",
            "Array with spaces between characters:\n",
            "['a p p l e' 'b a n a n a' 'c h e r r y']\n"
          ]
        }
      ]
    },
    {
      "cell_type": "markdown",
      "source": [
        "__________________________________________________________________________"
      ],
      "metadata": {
        "id": "nQHR_YgFdqto"
      }
    },
    {
      "cell_type": "markdown",
      "source": [
        "# **Q.7.  Create two 2D NumPy arrays and perform element-wise addition, subtraction, multiplication, and division.**\n",
        "Ans."
      ],
      "metadata": {
        "id": "TfqXusPMbpOK"
      }
    },
    {
      "cell_type": "code",
      "source": [
        "import numpy as np\n",
        "\n",
        "# Create two 2D NumPy arrays\n",
        "array1 = np.array([[1, 2], [3, 4]])\n",
        "array2 = np.array([[5, 6], [7, 8]])\n",
        "\n",
        "print(\"Array 1:\")\n",
        "print(array1)\n",
        "\n",
        "print(\"\\nArray 2:\")\n",
        "print(array2)\n",
        "\n",
        "# Element-wise addition\n",
        "addition_result = np.add(array1, array2)\n",
        "print(\"\\nElement-wise addition:\")\n",
        "print(addition_result)\n",
        "\n",
        "# Element-wise subtraction\n",
        "subtraction_result = np.subtract(array1, array2)\n",
        "print(\"\\nElement-wise subtraction:\")\n",
        "print(subtraction_result)\n",
        "\n",
        "# Element-wise multiplication\n",
        "multiplication_result = np.multiply(array1, array2)\n",
        "print(\"\\nElement-wise multiplication:\")\n",
        "print(multiplication_result)\n",
        "\n",
        "# Element-wise division\n",
        "division_result = np.divide(array1, array2)\n",
        "print(\"\\nElement-wise division:\")\n",
        "print(division_result)\n"
      ],
      "metadata": {
        "colab": {
          "base_uri": "https://localhost:8080/"
        },
        "id": "sShfMluXb9rj",
        "outputId": "2e040592-d350-4c83-d388-ca8e4b6250b2"
      },
      "execution_count": null,
      "outputs": [
        {
          "output_type": "stream",
          "name": "stdout",
          "text": [
            "Array 1:\n",
            "[[1 2]\n",
            " [3 4]]\n",
            "\n",
            "Array 2:\n",
            "[[5 6]\n",
            " [7 8]]\n",
            "\n",
            "Element-wise addition:\n",
            "[[ 6  8]\n",
            " [10 12]]\n",
            "\n",
            "Element-wise subtraction:\n",
            "[[-4 -4]\n",
            " [-4 -4]]\n",
            "\n",
            "Element-wise multiplication:\n",
            "[[ 5 12]\n",
            " [21 32]]\n",
            "\n",
            "Element-wise division:\n",
            "[[0.2        0.33333333]\n",
            " [0.42857143 0.5       ]]\n"
          ]
        }
      ]
    },
    {
      "cell_type": "markdown",
      "source": [
        "___________________________________________________________________________"
      ],
      "metadata": {
        "id": "2aAbh4FIds6q"
      }
    },
    {
      "cell_type": "markdown",
      "source": [
        "# **Q.8.  Use NumPy to create a 5x5 identity matrix, then extract its diagonal elements.**\n",
        "Ans."
      ],
      "metadata": {
        "id": "l9U4TP6gcCbJ"
      }
    },
    {
      "cell_type": "code",
      "source": [
        "import numpy as np\n",
        "\n",
        "# Create a 5x5 identity matrix\n",
        "identity_matrix = np.identity(5)\n",
        "\n",
        "print(\"Identity matrix:\")\n",
        "print(identity_matrix)\n",
        "\n",
        "# Extract the diagonal elements\n",
        "diagonal_elements = np.diag(identity_matrix)\n",
        "\n",
        "print(\"\\nDiagonal elements:\")\n",
        "print(diagonal_elements)\n"
      ],
      "metadata": {
        "colab": {
          "base_uri": "https://localhost:8080/"
        },
        "id": "0wtLr2_CcfQI",
        "outputId": "9817a977-5044-4608-ff19-a496c9b7e1f9"
      },
      "execution_count": null,
      "outputs": [
        {
          "output_type": "stream",
          "name": "stdout",
          "text": [
            "Identity matrix:\n",
            "[[1. 0. 0. 0. 0.]\n",
            " [0. 1. 0. 0. 0.]\n",
            " [0. 0. 1. 0. 0.]\n",
            " [0. 0. 0. 1. 0.]\n",
            " [0. 0. 0. 0. 1.]]\n",
            "\n",
            "Diagonal elements:\n",
            "[1. 1. 1. 1. 1.]\n"
          ]
        }
      ]
    },
    {
      "cell_type": "markdown",
      "source": [
        "___________________________________________________________________________"
      ],
      "metadata": {
        "id": "K_apu5gSdvWy"
      }
    },
    {
      "cell_type": "markdown",
      "source": [
        "# **Q.9.  Generate a NumPy array of 100 random integers between 0 and 1000. Find and display all prime numbers in this array**\n",
        "Ans."
      ],
      "metadata": {
        "id": "ps2zp9eIci1v"
      }
    },
    {
      "cell_type": "code",
      "source": [
        "import numpy as np\n",
        "\n",
        "def is_prime(n):\n",
        "  \"\"\"Checks if a number is prime.\"\"\"\n",
        "  if n <= 1:\n",
        "    return False\n",
        "  for i in range(2, int(n**0.5) + 1):\n",
        "    if n % i == 0:\n",
        "      return False\n",
        "  return True\n",
        "\n",
        "# Generate a NumPy array of 100 random integers between 0 and 1000\n",
        "array = np.random.randint(0, 1001, size=100)\n",
        "\n",
        "print(\"Original array:\")\n",
        "print(array)\n",
        "\n",
        "# Find and display all prime numbers in the array\n",
        "prime_numbers = [num for num in array if is_prime(num)]\n",
        "\n",
        "print(\"\\nPrime numbers in the array:\")\n",
        "print(prime_numbers)\n"
      ],
      "metadata": {
        "colab": {
          "base_uri": "https://localhost:8080/"
        },
        "id": "YLI0AlVnc8Yr",
        "outputId": "be90daf1-3f97-4cf4-cd52-cd371eea16cd"
      },
      "execution_count": null,
      "outputs": [
        {
          "output_type": "stream",
          "name": "stdout",
          "text": [
            "Original array:\n",
            "[270 705 146 458 495 613 753 757 597 518 256 788  57 424 613  37 845 112\n",
            " 674 429 581 275 889 947 339 198 216 209 799 217 768  75 838 881 211 967\n",
            " 179 627 252 797 323 273 678 389 808 982 348 989 784 217 608 461 879 211\n",
            " 546 800 115  32 227 727 126 135 607 229  30 787  59 646 487 538 781 210\n",
            "  59 659 865   4 624 730 510 748 614  91  20 854 296 150 466 828 947 907\n",
            " 541  38 716 249 498 836 742 331 943 765]\n",
            "\n",
            "Prime numbers in the array:\n",
            "[613, 757, 613, 37, 947, 881, 211, 967, 179, 797, 389, 461, 211, 227, 727, 607, 229, 787, 59, 487, 59, 659, 947, 907, 541, 331]\n"
          ]
        }
      ]
    },
    {
      "cell_type": "markdown",
      "source": [
        "__________________________________________________________________________"
      ],
      "metadata": {
        "id": "BJKhJLsndx7n"
      }
    },
    {
      "cell_type": "markdown",
      "source": [
        "# **Q.10. . Create a NumPy array representing daily temperatures for a month. Calculate and display the weekly averages.**\n",
        "Ans."
      ],
      "metadata": {
        "id": "uga4xeKDc_ua"
      }
    },
    {
      "cell_type": "code",
      "source": [
        "import numpy as np\n",
        "\n",
        "# Create a NumPy array representing daily temperatures for a month (30 days)\n",
        "temperatures = np.random.randint(15, 35, size=30)\n",
        "\n",
        "print(\"Daily temperatures:\")\n",
        "print(temperatures)\n",
        "\n",
        "# Calculate weekly averages\n",
        "weekly_averages = []\n",
        "for i in range(0, len(temperatures), 7):\n",
        "  week_temps = temperatures[i:i+7]\n",
        "  if len(week_temps) > 0:\n",
        "    weekly_average = np.mean(week_temps)\n",
        "    weekly_averages.append(weekly_average)\n",
        "\n",
        "print(\"\\nWeekly average temperatures:\")\n",
        "print(weekly_averages)\n"
      ],
      "metadata": {
        "colab": {
          "base_uri": "https://localhost:8080/"
        },
        "id": "AtauSNUmdWfE",
        "outputId": "ef1ba230-2357-4cf1-cee5-5e505be54329"
      },
      "execution_count": null,
      "outputs": [
        {
          "output_type": "stream",
          "name": "stdout",
          "text": [
            "Daily temperatures:\n",
            "[17 21 19 17 19 30 33 33 26 17 33 33 29 32 31 16 24 24 31 29 20 18 34 18\n",
            " 28 22 27 24 33 25]\n",
            "\n",
            "Weekly average temperatures:\n",
            "[22.285714285714285, 29.0, 25.0, 24.428571428571427, 29.0]\n"
          ]
        }
      ]
    },
    {
      "cell_type": "markdown",
      "source": [
        "___________________________________________________________________________"
      ],
      "metadata": {
        "id": "APIA1ynldaRf"
      }
    }
  ]
}