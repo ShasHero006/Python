{
  "nbformat": 4,
  "nbformat_minor": 0,
  "metadata": {
    "colab": {
      "provenance": [],
      "authorship_tag": "ABX9TyOwjHUzTon2YFiRS73KX+jf",
      "include_colab_link": true
    },
    "kernelspec": {
      "name": "python3",
      "display_name": "Python 3"
    },
    "language_info": {
      "name": "python"
    }
  },
  "cells": [
    {
      "cell_type": "markdown",
      "metadata": {
        "id": "view-in-github",
        "colab_type": "text"
      },
      "source": [
        "<a href=\"https://colab.research.google.com/github/ShasHero006/Python/blob/main/NumPy_(Theory_Questions_)Assignment.ipynb\" target=\"_parent\"><img src=\"https://colab.research.google.com/assets/colab-badge.svg\" alt=\"Open In Colab\"/></a>"
      ]
    },
    {
      "cell_type": "markdown",
      "source": [
        "# **Theory Questions**"
      ],
      "metadata": {
        "id": "8lizLJUOLOGP"
      }
    },
    {
      "cell_type": "markdown",
      "source": [
        "# **Q.1. Explain the purpose and advantages of NumPy in scientific computing and data analysis. How does it enhance Python's capabilities for numerical operations.**\n",
        "Ans. NumPy (short for Numerical Python) is a powerful library in Python that provides support for large, multi-dimensional arrays and matrices, along with a collection of mathematical functions to operate on these arrays efficiently. NumPy is fundamental in scientific computing and data analysis due to its speed, flexibility, and ability to handle large data sets, making it an essential building block for more advanced libraries like Pandas, SciPy, scikit-learn, and TensorFlow.\n",
        "\n",
        "**How NumPy Enhances Python's Capabilities for Numerical Operations:-**\n",
        "\n",
        "Python by itself is a general-purpose programming language that is not optimized for numerical computation. Here’s how NumPy enhances Python’s capabilities in scientific computing and data analysis:\n",
        "\n",
        "1. Efficient Memory Use and Performance:- Python lists are flexible but consume more memory because they store objects, which can be of varying types. In contrast, NumPy arrays are more memory-efficient because they store elements of the same type in contiguous blocks of memory.\n",
        "\n",
        "Vectorized operations in NumPy eliminate the need for slow Python loops by utilizing fast, compiled C/C++ implementations. This results in significant performance boosts, especially when working with large datasets.\n",
        "\n",
        "Example: Compare the speed of summing two large lists using NumPy versus Python lists -  "
      ],
      "metadata": {
        "id": "xbmTNeTs9Ubc"
      }
    },
    {
      "cell_type": "code",
      "source": [
        "import numpy as np\n",
        "import time\n",
        "\n",
        "# Python lists\n",
        "list1 = range(1000000)\n",
        "list2 = range(1000000)\n",
        "\n",
        "start = time.time()\n",
        "result = [x + y for x, y in zip(list1, list2)]\n",
        "end = time.time()\n",
        "print(\"Time taken using Python lists:\", end - start)\n",
        "\n",
        "# NumPy arrays\n",
        "arr1 = np.arange(1000000)\n",
        "arr2 = np.arange(1000000)\n",
        "\n",
        "start = time.time()\n",
        "result = arr1 + arr2  # Vectorized addition\n",
        "end = time.time()\n",
        "print(\"Time taken using NumPy arrays:\", end - start)"
      ],
      "metadata": {
        "colab": {
          "base_uri": "https://localhost:8080/"
        },
        "id": "b8SRydnd_9NU",
        "outputId": "06ce570f-ff5f-49a7-fec4-59bf531264e2"
      },
      "execution_count": null,
      "outputs": [
        {
          "output_type": "stream",
          "name": "stdout",
          "text": [
            "Time taken using Python lists: 0.40973877906799316\n",
            "Time taken using NumPy arrays: 0.032056331634521484\n"
          ]
        }
      ]
    },
    {
      "cell_type": "markdown",
      "source": [
        "In this example, NumPy arrays are much faster due to vectorized operations that execute in compiled code.\n",
        "\n",
        "2. Mathematical and Statistical Operations:-\n",
        " NumPy offers many built-in mathematical, logical, and statistical functions, which can operate efficiently on whole arrays at once. These include operations like:\n",
        "\n",
        "`np.sum()`,`np.mean()`,`np.median()`,`np.std()`,`np.dot()` (dot product for matrices), etc.\n",
        "\n",
        "Without NumPy, you’d need to write your own loops and logic for performing these operations on Python lists, which would be significantly slower and less readable.\n",
        "\n",
        "3. Support for Multi-dimensional Arrays and Matrices:-\n",
        " Unlike Python lists, which are inherently one-dimensional, NumPy provides multi-dimensional arrays (up to N dimensions) and supports matrix operations. These arrays are essential in fields like machine learning, data science, and scientific simulations.\n",
        "\n",
        "Example: Creating and manipulating a 2D array (matrix):\n",
        "\n",
        "\n",
        "\n"
      ],
      "metadata": {
        "id": "RC4-3VcQAwAL"
      }
    },
    {
      "cell_type": "code",
      "source": [
        "# Creating a 2D array (matrix)\n",
        "matrix = np.array([[1, 2, 3], [4, 5, 6]])\n",
        "\n",
        "# Transposing the matrix\n",
        "transposed_matrix = matrix.T\n",
        "\n",
        "# Performing matrix multiplication\n",
        "result = np.dot(matrix, transposed_matrix)\n",
        "\n",
        "print(\"Original matrix:\\n\", matrix)\n",
        "print(\"Transposed matrix:\\n\", transposed_matrix)\n",
        "print(\"Matrix multiplication result:\\n\", result)"
      ],
      "metadata": {
        "colab": {
          "base_uri": "https://localhost:8080/"
        },
        "id": "ArNJkIVFHCi-",
        "outputId": "c51bdf3d-f9d9-42d6-9573-312ea4ac42ce"
      },
      "execution_count": null,
      "outputs": [
        {
          "output_type": "stream",
          "name": "stdout",
          "text": [
            "Original matrix:\n",
            " [[1 2 3]\n",
            " [4 5 6]]\n",
            "Transposed matrix:\n",
            " [[1 4]\n",
            " [2 5]\n",
            " [3 6]]\n",
            "Matrix multiplication result:\n",
            " [[14 32]\n",
            " [32 77]]\n"
          ]
        }
      ]
    },
    {
      "cell_type": "markdown",
      "source": [
        "4. Broadcasting for Array Operations:-\n",
        "  Broadcasting allows NumPy to perform operations on arrays of different shapes without needing to explicitly reshape or replicate data. This is extremely useful in data analysis and scientific computing for element-wise operations, and it avoids the need for manual loops.\n",
        "\n",
        "Example: Adding a scalar to a matrix:"
      ],
      "metadata": {
        "id": "HRuxhQ_VHSpO"
      }
    },
    {
      "cell_type": "code",
      "source": [
        "matrix = np.array([[1, 2, 3], [4, 5, 6]])\n",
        "scalar = 10\n",
        "\n",
        "result = matrix + scalar  # Broadcasting adds scalar to every element\n",
        "print(result)\n"
      ],
      "metadata": {
        "colab": {
          "base_uri": "https://localhost:8080/"
        },
        "id": "7NKTrrYkIU6K",
        "outputId": "4081e413-668c-4075-d179-6c75a31a6259"
      },
      "execution_count": null,
      "outputs": [
        {
          "output_type": "stream",
          "name": "stdout",
          "text": [
            "[[11 12 13]\n",
            " [14 15 16]]\n"
          ]
        }
      ]
    },
    {
      "cell_type": "markdown",
      "source": [
        "5. Integration with Other Libraries:-\n",
        " Many other libraries in Python for data analysis, machine learning, and visualization are built on top of NumPy, such as:\n",
        "\n",
        "Pandas (for data manipulation and analysis)\n",
        "\n",
        "SciPy (for scientific computing)\n",
        "\n",
        "Matplotlib (for data visualization)\n",
        "\n",
        "scikit-learn (for machine learning)\n",
        "\n",
        "TensorFlow and PyTorch (for deep learning)\n",
        "\n",
        "These libraries rely on NumPy arrays as their primary data structure, making NumPy a central component in the Python data ecosystem.\n",
        "\n",
        "In conclusion, NumPy greatly enhances Python’s capabilities for numerical operations, enabling efficient handling of large datasets and complex mathematical operations, which is critical for scientific computing and data analysis.\n",
        "\n",
        "\n",
        "\n",
        "\n",
        "___________________________________________________________________________"
      ],
      "metadata": {
        "id": "Z1c9I9HVIbLl"
      }
    },
    {
      "cell_type": "markdown",
      "source": [
        "# **Q.2.  Compare and contrast np.mean() and np.average() functions in NumPy. When would you use one over the other?**\n",
        "Ans.In NumPy, both `np.mean()` and `np.average()` are used to compute the central tendency of an array, but there are some important differences between the two, especially when it comes to handling weights. Let’s compare and contrast these two functions, along with an explanation of when one might be preferred over the other.\n",
        "\n",
        "1. `np.mean()` :-  \n",
        "The np.mean() function computes the arithmetic mean (average) of the elements along the specified axis or of the flattened array if no axis is provided.\n",
        "\n",
        "**Key Features of `np.mean( )`:**\n",
        "\n",
        "No weights:  It calculates the simple average, i.e., the sum of all elements divided by the number of elements.\n",
        "Shape:  You can calculate the mean across a specific axis of a multi-dimensional array by specifying the axis parameter.\n",
        "Return type:  The output is a single value for 1D arrays or an array of mean values along the specified axis for multi-dimensional arrays.\n",
        "\n",
        "Syntax:\n",
        "\n",
        "`np.mean(a, axis=None, dtype=None, out=None, keepdims=False)`\n",
        "\n",
        "`a`:  Input array or data.\n",
        "\n",
        "`axis`: Axis along which the mean is computed. If not specified, the mean is computed for the flattened array.\n",
        "\n",
        "`dtype`: The data type of the result.\n",
        "\n",
        "`out`: Optional; stores the output in an alternative array.\n",
        "\n",
        "`keepdims`: If True, keeps the reduced axes as dimensions with size 1.\n",
        "\n",
        "Example:\n"
      ],
      "metadata": {
        "id": "zHG0MUWIJZJ7"
      }
    },
    {
      "cell_type": "code",
      "source": [
        "import numpy as np\n",
        "\n",
        "data = np.array([1, 2, 3, 4, 5])\n",
        "mean_value = np.mean(data)\n",
        "print(mean_value)\n"
      ],
      "metadata": {
        "colab": {
          "base_uri": "https://localhost:8080/"
        },
        "id": "ke3lzdSGMn8Z",
        "outputId": "e366eed0-d41e-441e-dcd5-7779bc02da3f"
      },
      "execution_count": null,
      "outputs": [
        {
          "output_type": "stream",
          "name": "stdout",
          "text": [
            "3.0\n"
          ]
        }
      ]
    },
    {
      "cell_type": "markdown",
      "source": [
        "2. `np.average()`\n",
        "\n",
        "The `np.average()` function is more flexible because it can compute a weighted average, meaning each element in the array can have a different contribution to the average based on a given set of weights. When no weights are provided, `np.average()` behaves just like `np.mean()`.\n",
        "\n",
        "Key Features of `np.average()`:\n",
        "\n",
        "Weighted average:  Allows you to supply a `weights` parameter, which assigns relative importance to each element in the array. This means that elements can have varying contributions to the average calculation.\n",
        "\n",
        "Shape: Like `np.mean()`, it can compute averages along a specified axis for multi-dimensional arrays.\n",
        "\n",
        "Return type: In addition to the weighted average, it can return the sum of the weights if requested (using the `returned` parameter).\n",
        "\n",
        "Syntax:\n",
        "\n",
        "`np.average(a, axis=None, weights=None, returned=False)`\n",
        "\n",
        "`a`: Input array or data.\n",
        "\n",
        "`axis`: Axis along which to average.\n",
        "\n",
        "`weights`: An array of weights associated with the values in `a`. Must have the same shape as `a` or be broadcastable to the shape of `a`.\n",
        "\n",
        "`returned`: If `True`, returns a tuple containing the weighted average and the sum of the weights.\n",
        "\n",
        "Example:-\n",
        "\n",
        "\n"
      ],
      "metadata": {
        "id": "MgzNkuHDM6tZ"
      }
    },
    {
      "cell_type": "code",
      "source": [
        "weights = np.array([1, 1, 2, 3, 5])  # Higher weight on later elements\n",
        "weighted_average = np.average(data, weights=weights)\n",
        "print(weighted_average)\n"
      ],
      "metadata": {
        "colab": {
          "base_uri": "https://localhost:8080/"
        },
        "id": "aQ2WleCHO939",
        "outputId": "db79f025-356b-4ff7-9a47-77166ea1542a"
      },
      "execution_count": null,
      "outputs": [
        {
          "output_type": "stream",
          "name": "stdout",
          "text": [
            "3.8333333333333335\n"
          ]
        }
      ]
    },
    {
      "cell_type": "markdown",
      "source": [
        "**When to use `np.mean()` vs. `np.average()`:**\n",
        "\n",
        "Use `np.mean()`:\n",
        "\n",
        "When you just need the simple arithmetic mean of a dataset.\n",
        "\n",
        "When no specific weighting of the elements is required.\n",
        "\n",
        "If you need slightly better performance, as `np.mean()` is generally faster.\n",
        "\n",
        "Use `np.average()`:\n",
        "\n",
        "When you need a weighted average where certain elements contribute more (or less) to the final average.\n",
        "\n",
        "For example, in weighted grading systems where some assignments have more weight than others.\n",
        "\n",
        "When you want to calculate both the weighted average and the sum of weights in one call (using the `returned=True` option).\n",
        "\n",
        "Example: When to use `np.average()` over `np.mean()` :-   \n",
        "\n",
        "Let’s say you have test scores for students, but not all tests are equally important. You could use `np.average()` with weights to account for the varying importance of each test."
      ],
      "metadata": {
        "id": "ayTq_cjJPKFH"
      }
    },
    {
      "cell_type": "code",
      "source": [
        "scores = np.array([80, 90, 85])\n",
        "weights = np.array([0.2, 0.3, 0.5])  # Final exam is 50% of the grade\n",
        "weighted_average = np.average(scores, weights=weights)\n",
        "print(weighted_average)\n"
      ],
      "metadata": {
        "colab": {
          "base_uri": "https://localhost:8080/"
        },
        "id": "aVeYCEF_Re0Z",
        "outputId": "20d11196-613c-483c-be8d-97681196f3d1"
      },
      "execution_count": null,
      "outputs": [
        {
          "output_type": "stream",
          "name": "stdout",
          "text": [
            "85.5\n"
          ]
        }
      ]
    },
    {
      "cell_type": "markdown",
      "source": [
        "In this example, the final exam (85) contributes more to the overall average due to its higher weight (0.5), compared to the other scores.\n",
        "\n",
        "\n",
        "\n",
        "___________________________________________________________________________"
      ],
      "metadata": {
        "id": "kMEjAxmcRlt3"
      }
    },
    {
      "cell_type": "markdown",
      "source": [
        "# **Q.3.  Describe the methods for reversing a NumPy array along different axes. Provide examples for 1D and 2D arrays.**\n",
        "Ans. In NumPy, you can reverse arrays along different axes using various techniques. These methods allow you to reverse the order of elements in a 1D array or flip elements along specific axes in a multi-dimensional array (such as 2D arrays).\n",
        "\n",
        "Here are the common methods to reverse a NumPy array:\n",
        "\n",
        "1. Using Slicing ([::-1])\n",
        "\n",
        "You can reverse a NumPy array by using Python's slicing technique. The [::-1] slice notation reverses the array along the specified axis.\n",
        "\n",
        "Example for 1D Array:\n"
      ],
      "metadata": {
        "id": "yQk6AEkPUJJq"
      }
    },
    {
      "cell_type": "code",
      "source": [
        "import numpy as np\n",
        "\n",
        "# 1D array\n",
        "arr = np.array([1, 2, 3, 4, 5])\n",
        "reversed_arr = arr[::-1]\n",
        "print(\"Original 1D Array:\", arr)\n",
        "print(\"Reversed 1D Array:\", reversed_arr)\n"
      ],
      "metadata": {
        "colab": {
          "base_uri": "https://localhost:8080/"
        },
        "id": "bug06nXk4V7g",
        "outputId": "da0e10ba-d6e8-43cb-f569-4e8985ca5e48"
      },
      "execution_count": null,
      "outputs": [
        {
          "output_type": "stream",
          "name": "stdout",
          "text": [
            "Original 1D Array: [1 2 3 4 5]\n",
            "Reversed 1D Array: [5 4 3 2 1]\n"
          ]
        }
      ]
    },
    {
      "cell_type": "markdown",
      "source": [
        "Example for 2D Array:\n",
        "For a 2D array, you can reverse rows, columns, or both using slicing.\n",
        "\n",
        "Reverse rows (axis 0):\n"
      ],
      "metadata": {
        "id": "0fISPJPu4ngC"
      }
    },
    {
      "cell_type": "code",
      "source": [
        "arr_2d = np.array([[1, 2, 3], [4, 5, 6], [7, 8, 9]])\n",
        "reversed_rows = arr_2d[::-1]\n",
        "print(\"Original 2D Array:\\n\", arr_2d)\n",
        "print(\"Reversed rows:\\n\", reversed_rows)\n"
      ],
      "metadata": {
        "colab": {
          "base_uri": "https://localhost:8080/"
        },
        "id": "GmmY8NYy4ua6",
        "outputId": "a58418a4-7011-40cc-fc62-ce1e7ff9839e"
      },
      "execution_count": null,
      "outputs": [
        {
          "output_type": "stream",
          "name": "stdout",
          "text": [
            "Original 2D Array:\n",
            " [[1 2 3]\n",
            " [4 5 6]\n",
            " [7 8 9]]\n",
            "Reversed rows:\n",
            " [[7 8 9]\n",
            " [4 5 6]\n",
            " [1 2 3]]\n"
          ]
        }
      ]
    },
    {
      "cell_type": "markdown",
      "source": [
        "2. Using np.flip()\n",
        "\n",
        "NumPy provides the np.flip() function, which reverses the elements of an array along a specified axis.\n",
        "\n",
        "Syntax:\n",
        "\n",
        "`np.flip(arr, axis=None)`\n",
        "\n",
        "arr: The input array.\n",
        "\n",
        "axis: The axis or axes along which to flip the array. If not provided, the array is flipped along all axes.\n",
        "\n",
        "Example for 1D Array:\n"
      ],
      "metadata": {
        "id": "iIYN93RN40E2"
      }
    },
    {
      "cell_type": "code",
      "source": [
        "arr = np.array([1, 2, 3, 4, 5])\n",
        "reversed_arr = np.flip(arr)\n",
        "print(\"Reversed 1D Array using np.flip():\", reversed_arr)\n"
      ],
      "metadata": {
        "colab": {
          "base_uri": "https://localhost:8080/"
        },
        "id": "XQnqzx7k5bH6",
        "outputId": "8cbd126e-f3fe-49f2-d70b-b80135c23320"
      },
      "execution_count": null,
      "outputs": [
        {
          "output_type": "stream",
          "name": "stdout",
          "text": [
            "Reversed 1D Array using np.flip(): [5 4 3 2 1]\n"
          ]
        }
      ]
    },
    {
      "cell_type": "markdown",
      "source": [
        "Example for 2D Array:\n",
        "\n",
        "Flip along rows (axis 0):\n"
      ],
      "metadata": {
        "id": "2Pm8rW3y5hmQ"
      }
    },
    {
      "cell_type": "code",
      "source": [
        "reversed_rows = np.flip(arr_2d, axis=0)\n",
        "print(\"Flip along rows (axis 0):\\n\", reversed_rows)\n"
      ],
      "metadata": {
        "colab": {
          "base_uri": "https://localhost:8080/"
        },
        "id": "fyPizzHy5nT5",
        "outputId": "e921dd3f-8cbc-4e69-b321-1048b5ae4a20"
      },
      "execution_count": null,
      "outputs": [
        {
          "output_type": "stream",
          "name": "stdout",
          "text": [
            "Flip along rows (axis 0):\n",
            " [[7 8 9]\n",
            " [4 5 6]\n",
            " [1 2 3]]\n"
          ]
        }
      ]
    },
    {
      "cell_type": "markdown",
      "source": [
        "3. Using np.fliplr() and np.flipud() for 2D Arrays\n",
        "NumPy provides specialized functions for reversing along specific axes in 2D arrays:\n",
        "\n",
        "np.fliplr(): Flips the array left to right (reverses columns).\n",
        "\n",
        "np.flipud(): Flips the array upside down (reverses rows).\n",
        "\n",
        "Example using np.fliplr() (Flip Left to Right):\n"
      ],
      "metadata": {
        "id": "giTLBcRQ5vNF"
      }
    },
    {
      "cell_type": "code",
      "source": [
        "flipped_lr = np.fliplr(arr_2d)\n",
        "print(\"Flip left to right (fliplr):\\n\", flipped_lr)\n"
      ],
      "metadata": {
        "colab": {
          "base_uri": "https://localhost:8080/"
        },
        "id": "084xQOmx53pe",
        "outputId": "c13204bf-3a96-4668-ca4d-0dece93780f7"
      },
      "execution_count": null,
      "outputs": [
        {
          "output_type": "stream",
          "name": "stdout",
          "text": [
            "Flip left to right (fliplr):\n",
            " [[3 2 1]\n",
            " [6 5 4]\n",
            " [9 8 7]]\n"
          ]
        }
      ]
    },
    {
      "cell_type": "markdown",
      "source": [
        "Example using np.flipud() (Flip Upside Down):\n"
      ],
      "metadata": {
        "id": "4S6d5hUc6BSm"
      }
    },
    {
      "cell_type": "code",
      "source": [
        "flipped_ud = np.flipud(arr_2d)\n",
        "print(\"Flip upside down (flipud):\\n\", flipped_ud)\n"
      ],
      "metadata": {
        "colab": {
          "base_uri": "https://localhost:8080/"
        },
        "id": "AGPurOUb6HjX",
        "outputId": "8f694e8b-8f9b-43cb-b93e-e360e075e772"
      },
      "execution_count": null,
      "outputs": [
        {
          "output_type": "stream",
          "name": "stdout",
          "text": [
            "Flip upside down (flipud):\n",
            " [[7 8 9]\n",
            " [4 5 6]\n",
            " [1 2 3]]\n"
          ]
        }
      ]
    },
    {
      "cell_type": "markdown",
      "source": [
        "4. Using np.rot90() to Rotate the Array\n",
        "\n",
        "Although np.rot90() is primarily for rotation, rotating by 180° can achieve the effect of reversing both axes.\n",
        "\n",
        "Example using np.rot90() (180-degree rotation):\n"
      ],
      "metadata": {
        "id": "K_yku1fV6L8s"
      }
    },
    {
      "cell_type": "code",
      "source": [
        "rotated_180 = np.rot90(arr_2d, 2)  # Rotates 180 degrees\n",
        "print(\"Rotate 180 degrees (rot90):\\n\", rotated_180)\n"
      ],
      "metadata": {
        "colab": {
          "base_uri": "https://localhost:8080/"
        },
        "id": "CYgvJ4jr6Unx",
        "outputId": "9ede782e-942c-4557-ed3d-e8189690b9c7"
      },
      "execution_count": null,
      "outputs": [
        {
          "output_type": "stream",
          "name": "stdout",
          "text": [
            "Rotate 180 degrees (rot90):\n",
            " [[9 8 7]\n",
            " [6 5 4]\n",
            " [3 2 1]]\n"
          ]
        }
      ]
    },
    {
      "cell_type": "markdown",
      "source": [
        "These methods offer flexibility for reversing NumPy arrays depending on your use case and desired behavior.\n",
        "\n",
        "\n",
        "\n",
        "___________________________________________________________________________"
      ],
      "metadata": {
        "id": "pVfX7e1H6b_3"
      }
    },
    {
      "cell_type": "markdown",
      "source": [
        "# **Q.4.  How can you determine the data type of elements in a NumPy array? Discuss the importance of data types in memory management and performance.**\n",
        "Ans. To determine the data type of elements in a NumPy array, you can use the dtype attribute. The data type (or dtype) describes how the elements of the array are stored in memory, including their precision and the amount of memory required.\n",
        "\n",
        "Determining the Data Type of Elements in a NumPy Array:\n"
      ],
      "metadata": {
        "id": "N4GFAZwb6jhZ"
      }
    },
    {
      "cell_type": "code",
      "source": [
        "import numpy as np\n",
        "\n",
        "# Example array\n",
        "arr = np.array([1, 2, 3])\n",
        "\n",
        "# Get the data type of elements in the array\n",
        "data_type = arr.dtype\n",
        "print(\"Data type of elements:\", data_type)\n"
      ],
      "metadata": {
        "colab": {
          "base_uri": "https://localhost:8080/"
        },
        "id": "kihjQx277gJi",
        "outputId": "c4966144-f8fa-4f13-f5c7-396ce25611da"
      },
      "execution_count": null,
      "outputs": [
        {
          "output_type": "stream",
          "name": "stdout",
          "text": [
            "Data type of elements: int64\n"
          ]
        }
      ]
    },
    {
      "cell_type": "markdown",
      "source": [
        "In this example, the data type is int64, meaning that each element in the array is a 64-bit integer.\n",
        "\n",
        "Importance of Data Types in NumPy:\n",
        "\n",
        "NumPy arrays are homogeneous, meaning all elements in an array must have the same data type. This consistency allows NumPy to optimize memory management and performance. Here are some reasons why understanding and controlling data types is crucial:\n",
        "\n",
        "1. Memory Management\n",
        "\n",
        "Data types directly affect the memory consumption of a NumPy array. Each data type requires a specific amount of memory to store each element. Choosing an appropriate data type can save memory, especially when working with large datasets.\n",
        "\n",
        "For example:\n",
        "\n",
        "int8 (8-bit signed integer) requires 1 byte per element.\n",
        "\n",
        "int32 (32-bit signed integer) requires 4 bytes per element.\n",
        "\n",
        "float64 (64-bit floating point) requires 8 bytes per element.\n",
        "By selecting a smaller data type, you can significantly reduce memory usage when working with large arrays.\n",
        "\n",
        "Example:\n",
        "\n"
      ],
      "metadata": {
        "id": "Sf9eAHnb7noj"
      }
    },
    {
      "cell_type": "code",
      "source": [
        "arr_int8 = np.array([1, 2, 3], dtype=np.int8)\n",
        "arr_int32 = np.array([1, 2, 3], dtype=np.int32)\n",
        "\n",
        "print(\"Memory used by int8 array:\", arr_int8.nbytes, \"bytes\")\n",
        "print(\"Memory used by int32 array:\", arr_int32.nbytes, \"bytes\")\n"
      ],
      "metadata": {
        "colab": {
          "base_uri": "https://localhost:8080/"
        },
        "id": "xAKMYyjZ7-5h",
        "outputId": "b7203cb4-b394-4b37-fb4b-c48f5eac14f8"
      },
      "execution_count": null,
      "outputs": [
        {
          "output_type": "stream",
          "name": "stdout",
          "text": [
            "Memory used by int8 array: 3 bytes\n",
            "Memory used by int32 array: 12 bytes\n"
          ]
        }
      ]
    },
    {
      "cell_type": "markdown",
      "source": [
        "This shows that the same array consumes more memory with a higher precision data type.\n",
        "\n",
        "2. Performance Optimization\n",
        "Data types also affect the speed of computations. Smaller data types (e.g., int8 or float32) typically allow faster operations compared to larger ones (e.g., int64 or float64), as smaller types require fewer CPU cycles to process.\n",
        "\n",
        "Faster processing: Using lower precision data types when high precision is unnecessary can speed up calculations.\n",
        "\n",
        "Vectorized operations: NumPy leverages vectorized operations that can process entire arrays without Python loops. Operations on smaller data types are faster because they allow more data to fit into CPU caches.\n",
        "\n",
        "Example (comparing performance):\n",
        "\n"
      ],
      "metadata": {
        "id": "jfy4Dlra8ISA"
      }
    },
    {
      "cell_type": "code",
      "source": [
        "import time\n",
        "\n",
        "# Create large arrays with different data types\n",
        "arr_float32 = np.ones(10**6, dtype=np.float32)\n",
        "arr_float64 = np.ones(10**6, dtype=np.float64)\n",
        "\n",
        "# Time the operation on float32 array\n",
        "start = time.time()\n",
        "arr_float32 * 2\n",
        "print(\"Time for float32:\", time.time() - start)\n",
        "\n",
        "# Time the operation on float64 array\n",
        "start = time.time()\n",
        "arr_float64 * 2\n",
        "print(\"Time for float64:\", time.time() - start)\n"
      ],
      "metadata": {
        "colab": {
          "base_uri": "https://localhost:8080/"
        },
        "id": "uXUtWrHP8OS0",
        "outputId": "613d146c-7240-4971-e33b-73bf0d025929"
      },
      "execution_count": null,
      "outputs": [
        {
          "output_type": "stream",
          "name": "stdout",
          "text": [
            "Time for float32: 0.0036530494689941406\n",
            "Time for float64: 0.004050731658935547\n"
          ]
        }
      ]
    },
    {
      "cell_type": "markdown",
      "source": [
        "Here, the float32 operation will generally take less time than the float64 operation due to smaller data types being more efficient to handle.\n",
        "\n",
        "3. Precision Control\n",
        "\n",
        "The precision of computations is determined by the data type. When performing mathematical calculations, a higher-precision data type such as float64 will produce more accurate results than float32. However, this comes at the cost of increased memory usage and slower computation.\n",
        "\n",
        "Low precision types like float32 can result in rounding errors in complex calculations due to limited precision.\n",
        "\n",
        "High precision types like float64 provide more accuracy but require more memory and processing power.\n",
        "\n",
        "Example (illustrating precision issues):\n"
      ],
      "metadata": {
        "id": "nn5x-OH_8V8e"
      }
    },
    {
      "cell_type": "code",
      "source": [
        "# Low precision (float32) calculation\n",
        "arr_low = np.array([1e10, 1e10], dtype=np.float32)\n",
        "print(\"Sum with float32:\", np.sum(arr_low))  # Potential precision loss\n",
        "\n",
        "# High precision (float64) calculation\n",
        "arr_high = np.array([1e10, 1e10], dtype=np.float64)\n",
        "print(\"Sum with float64:\", np.sum(arr_high))  # More accurate\n"
      ],
      "metadata": {
        "colab": {
          "base_uri": "https://localhost:8080/"
        },
        "id": "F-9l5v578iUj",
        "outputId": "ed6e8d27-8cc3-444d-a686-36dde9a9814f"
      },
      "execution_count": null,
      "outputs": [
        {
          "output_type": "stream",
          "name": "stdout",
          "text": [
            "Sum with float32: 20000000000.0\n",
            "Sum with float64: 20000000000.0\n"
          ]
        }
      ]
    },
    {
      "cell_type": "markdown",
      "source": [
        "In high-precision scenarios like scientific computing or financial calculations, using float64 can avoid precision issues.\n",
        "\n",
        "4. Compatibility with External Libraries and Systems\n",
        "\n",
        "Choosing the right data type ensures that NumPy arrays are compatible with other libraries and systems. Some external systems, like databases or hardware-specific APIs, require data to be in specific formats (e.g., 32-bit or 64-bit integers, or specific byte orders). In such cases, controlling the data type in NumPy arrays is crucial for seamless integration.\n",
        "\n",
        "Commonly Used Data Types in NumPy:\n",
        "\n",
        "Integer types: int8, int16, int32, int64\n",
        "\n",
        "Unsigned integer types: uint8, uint16, uint32, uint64\n",
        "\n",
        "Floating-point types: float16, float32, float64, float128\n",
        "\n",
        "Complex types: complex64, complex128\n",
        "\n",
        "Boolean type: bool_\n",
        "\n",
        "Object type: object_ (for arbitrary Python objects)\n",
        "\n",
        "\n",
        "\n",
        "___________________________________________________________________________\n"
      ],
      "metadata": {
        "id": "jBAfWjc98o6_"
      }
    },
    {
      "cell_type": "markdown",
      "source": [
        "# **Q.5. Define ndarrays in NumPy and explain their key features. How do they differ from standard Python lists?**\n",
        "Ans. In NumPy, an ndarray (short for N-dimensional array) is the fundamental data structure used to store and manipulate multi-dimensional arrays efficiently. It is a homogeneous, grid-like collection of elements (numbers, strings, etc.), all of the same data type, and can have any number of dimensions. This makes ndarray central to scientific computing in Python.\n",
        "\n",
        "**Key Features of ndarray in NumPy:**\n",
        "\n",
        "1. Homogeneous Data Type:\n",
        "\n",
        "All elements in an ndarray must have the same data type (dtype), such as integers, floats, etc.\n",
        "This uniformity allows for highly optimized memory usage and fast mathematical operations, unlike Python lists where elements can have different types.\n",
        "\n",
        "2. Multidimensional Support:\n",
        "\n",
        "While Python lists are limited to 1D or manual construction of 2D/3D arrays (like lists of lists), ndarray can store data in multiple dimensions automatically (1D, 2D, 3D, or higher). You can easily work with n-dimensional data using NumPy's built-in functions.\n",
        "The number of dimensions (axes) is called the rank of the array, and the shape of the array refers to the size of the array along each dimension.\n",
        "\n",
        "Example:\n",
        "\n"
      ],
      "metadata": {
        "id": "DVhtcbqN9BHi"
      }
    },
    {
      "cell_type": "code",
      "source": [
        "import numpy as np\n",
        "arr = np.array([[1, 2, 3], [4, 5, 6]])  # 2D array\n",
        "print(arr.shape)\n"
      ],
      "metadata": {
        "colab": {
          "base_uri": "https://localhost:8080/"
        },
        "id": "ej5R4TLS917C",
        "outputId": "4c60be45-2728-4ee5-bf08-99cdfb377fbc"
      },
      "execution_count": null,
      "outputs": [
        {
          "output_type": "stream",
          "name": "stdout",
          "text": [
            "(2, 3)\n"
          ]
        }
      ]
    },
    {
      "cell_type": "markdown",
      "source": [
        "3. Fast and Efficient Operations:\n",
        "\n",
        "ndarray is implemented in C, making element-wise operations like addition, multiplication, etc., much faster compared to Python lists. NumPy arrays support vectorized operations, meaning the same operation can be performed on all elements at once without using explicit loops.\n",
        "\n",
        "Example (vectorized addition):\n",
        "\n"
      ],
      "metadata": {
        "id": "LuFOb5mM-MrL"
      }
    },
    {
      "cell_type": "code",
      "source": [
        "arr1 = np.array([1, 2, 3])\n",
        "arr2 = np.array([4, 5, 6])\n",
        "result = arr1 + arr2  # Element-wise addition\n",
        "print(result)\n"
      ],
      "metadata": {
        "colab": {
          "base_uri": "https://localhost:8080/"
        },
        "id": "KsnUr90o-XKK",
        "outputId": "9bb1dbfe-720b-420b-e26d-1c0f4901d045"
      },
      "execution_count": null,
      "outputs": [
        {
          "output_type": "stream",
          "name": "stdout",
          "text": [
            "[5 7 9]\n"
          ]
        }
      ]
    },
    {
      "cell_type": "markdown",
      "source": [
        "4. Memory Efficiency:\n",
        "\n",
        "ndarray objects are more memory-efficient than Python lists. While Python lists are flexible, they store pointers to objects and require more memory overhead. NumPy's ndarray allocates memory in contiguous blocks and stores raw data in a compact form, resulting in lower memory usage.\n",
        "\n",
        "5. Advanced Indexing and Slicing:\n",
        "\n",
        "ndarray supports advanced slicing and indexing mechanisms. You can extract, modify, or manipulate specific parts of an array more efficiently than with Python lists.\n",
        "\n",
        "Example (slicing):"
      ],
      "metadata": {
        "id": "p1fPiCf--cJ4"
      }
    },
    {
      "cell_type": "code",
      "source": [
        "arr = np.array([[1, 2, 3], [4, 5, 6], [7, 8, 9]])\n",
        "sliced = arr[1:, :2]  # Extracts rows 1 onwards, columns 0 and 1\n",
        "print(sliced)\n"
      ],
      "metadata": {
        "colab": {
          "base_uri": "https://localhost:8080/"
        },
        "id": "KRmudFJ9-qM6",
        "outputId": "51c4b23a-91d0-46f9-e701-9864481379eb"
      },
      "execution_count": null,
      "outputs": [
        {
          "output_type": "stream",
          "name": "stdout",
          "text": [
            "[[4 5]\n",
            " [7 8]]\n"
          ]
        }
      ]
    },
    {
      "cell_type": "markdown",
      "source": [
        "**How ndarray Differs from Standard Python Lists:**\n",
        "\n",
        "1. Homogeneity:\n",
        "\n",
        "NumPy ndarray: All elements must be of the same type (int, float, etc.), providing uniformity and enabling efficient operations.\n",
        "\n",
        "Python Lists: Can hold elements of different data types (e.g., integers, floats, strings, objects).\n",
        "\n",
        "2. Memory Efficiency:\n",
        "\n",
        "NumPy ndarray: Memory is allocated contiguously in a single block, making arrays much more compact and faster to access.\n",
        "\n",
        "Python Lists: Store pointers to each object in the list, which leads to memory overhead.\n",
        "\n",
        "3. Performance:\n",
        "\n",
        "NumPy ndarray: Supports vectorized operations, allowing for efficient bulk processing without loops, leading to significantly faster execution times for large datasets.\n",
        "\n",
        "Python Lists: Require element-by-element iteration with loops (slower for large-scale data).\n",
        "\n",
        "4. Multidimensional Arrays:\n",
        "\n",
        "NumPy ndarray: Supports multi-dimensional arrays natively (2D, 3D, etc.), with methods for slicing and reshaping.\n",
        "\n",
        "Python Lists: Can simulate multi-dimensional arrays using nested lists, but this is less efficient and lacks built-in functions to handle operations.\n",
        "\n",
        "5. Mathematical Operations:\n",
        "\n",
        "NumPy ndarray: Provides a wide range of built-in mathematical operations (element-wise addition, multiplication, matrix operations) directly on arrays.\n",
        "\n",
        "Python Lists: Require manual loops and use of for or map() to perform operations element by element.\n",
        "\n",
        "Example Comparing NumPy Array and Python List:\n"
      ],
      "metadata": {
        "id": "gX2kB50m-vvB"
      }
    },
    {
      "cell_type": "code",
      "source": [
        "import numpy as np\n",
        "import time\n",
        "\n",
        "# Python List\n",
        "list_data = list(range(1000000))\n",
        "start_time = time.time()\n",
        "list_result = [x * 2 for x in list_data]\n",
        "print(\"Time taken by Python list:\", time.time() - start_time)\n",
        "\n",
        "# NumPy Array\n",
        "array_data = np.array(list_data)\n",
        "start_time = time.time()\n",
        "array_result = array_data * 2\n",
        "print(\"Time taken by NumPy array:\", time.time() - start_time)\n"
      ],
      "metadata": {
        "colab": {
          "base_uri": "https://localhost:8080/"
        },
        "id": "Nl7mTmG6_ndV",
        "outputId": "df2418c8-ce09-42a6-8d75-c15a8d4361a3"
      },
      "execution_count": null,
      "outputs": [
        {
          "output_type": "stream",
          "name": "stdout",
          "text": [
            "Time taken by Python list: 0.09476995468139648\n",
            "Time taken by NumPy array: 0.006586551666259766\n"
          ]
        }
      ]
    },
    {
      "cell_type": "markdown",
      "source": [
        "This example illustrates that operations on NumPy arrays are much faster compared to Python lists, especially with large datasets.\n",
        "\n",
        "\n",
        "\n",
        "\n",
        "___________________________________________________________________________"
      ],
      "metadata": {
        "id": "baLLnHFw_s5k"
      }
    },
    {
      "cell_type": "markdown",
      "source": [
        "# **Q.6.  Analyze the performance benefits of NumPy arrays over Python lists for large-scale numerical operations.**\n",
        "Ans. NumPy arrays (ndarrays) provide significant performance benefits over Python lists, especially for large-scale numerical operations. These benefits stem from NumPy's efficient memory management, vectorized operations, and optimized algorithms implemented in low-level languages like C and Fortran. Let's explore the key reasons why NumPy arrays outperform Python lists in numerical operations:\n",
        "\n",
        "1. Memory Efficiency\n",
        "\n",
        "NumPy arrays are more memory-efficient than Python lists because they store data in contiguous memory blocks. This allows NumPy to:\n",
        "\n",
        "Use a single data type for all elements in the array, reducing memory overhead.\n",
        "\n",
        "Store raw values directly rather than references to objects, as in Python lists.\n",
        "\n",
        "In contrast, Python lists store each element as an object, with additional memory overhead for the object itself and pointers to it. The uniformity of data in NumPy arrays allows them to occupy much less space in memory.\n",
        "\n",
        "Example: Memory Usage\n"
      ],
      "metadata": {
        "id": "NWX1f6sh_zuX"
      }
    },
    {
      "cell_type": "code",
      "source": [
        "import numpy as np\n",
        "import sys\n",
        "\n",
        "# Create a Python list and a NumPy array with the same data\n",
        "py_list = list(range(1000))\n",
        "np_array = np.arange(1000)\n",
        "\n",
        "print(\"Memory size of Python list:\", sys.getsizeof(py_list), \"bytes\")\n",
        "print(\"Memory size of NumPy array:\", np_array.nbytes, \"bytes\")\n"
      ],
      "metadata": {
        "colab": {
          "base_uri": "https://localhost:8080/"
        },
        "id": "ohxsW9t7Azxx",
        "outputId": "624962fc-375e-411a-ee3a-d3f44d2f1c15"
      },
      "execution_count": null,
      "outputs": [
        {
          "output_type": "stream",
          "name": "stdout",
          "text": [
            "Memory size of Python list: 8056 bytes\n",
            "Memory size of NumPy array: 8000 bytes\n"
          ]
        }
      ]
    },
    {
      "cell_type": "markdown",
      "source": [
        "Even for a small array of 1,000 integers, NumPy is more memory efficient, and this advantage becomes more pronounced as the data grows larger.\n",
        "\n",
        "2. Vectorized Operations\n",
        "\n",
        "NumPy allows for vectorized operations, meaning that you can perform element-wise computations on arrays without using explicit loops. This is one of the primary performance advantages of NumPy arrays. Vectorization leverages SIMD (Single Instruction, Multiple Data), where operations are performed simultaneously on multiple data points, leading to faster execution.\n",
        "\n",
        "In contrast, Python lists require explicit loops (or list comprehensions), which are slower because they involve more overhead due to Python's dynamic typing and interpreted nature.\n",
        "\n",
        "Example: Vectorized Addition\n"
      ],
      "metadata": {
        "id": "Zo0GCdCnA4ur"
      }
    },
    {
      "cell_type": "code",
      "source": [
        "import numpy as np\n",
        "import time\n",
        "\n",
        "# Python list addition (with loop)\n",
        "py_list1 = list(range(1000000))\n",
        "py_list2 = list(range(1000000))\n",
        "\n",
        "start_time = time.time()\n",
        "py_result = [x + y for x, y in zip(py_list1, py_list2)]\n",
        "print(\"Python list addition time:\", time.time() - start_time)\n",
        "\n",
        "# NumPy array addition (vectorized)\n",
        "np_array1 = np.arange(1000000)\n",
        "np_array2 = np.arange(1000000)\n",
        "\n",
        "start_time = time.time()\n",
        "np_result = np_array1 + np_array2\n",
        "print(\"NumPy array addition time:\", time.time() - start_time)\n"
      ],
      "metadata": {
        "colab": {
          "base_uri": "https://localhost:8080/"
        },
        "id": "TH0oB8FDBCYg",
        "outputId": "0690f07f-0f26-405c-ef7f-cee88c45cfee"
      },
      "execution_count": null,
      "outputs": [
        {
          "output_type": "stream",
          "name": "stdout",
          "text": [
            "Python list addition time: 0.14587926864624023\n",
            "NumPy array addition time: 0.006099224090576172\n"
          ]
        }
      ]
    },
    {
      "cell_type": "markdown",
      "source": [
        "The NumPy array operation is orders of magnitude faster because the operation is performed at the C level in a single instruction for the entire array, whereas Python list addition requires iteration and overhead for each element.\n",
        "\n",
        "3. Faster Mathematical Operations\n",
        "\n",
        "NumPy is specifically designed for numerical computations and provides a wide range of built-in mathematical functions (e.g., sum, mean, dot product, etc.) that are implemented in highly optimized C code. These operations are much faster than their Python list counterparts.\n",
        "\n",
        "For instance, performing matrix multiplication with Python lists requires nested loops and is very slow, while NumPy provides the dot() function that performs this operation efficiently.\n",
        "\n",
        "Example: Matrix Multiplication"
      ],
      "metadata": {
        "id": "xurN-0tbBHHM"
      }
    },
    {
      "cell_type": "code",
      "source": [
        "import numpy as np\n",
        "import time\n",
        "\n",
        "# Creating a large matrix using Python lists\n",
        "matrix_size = 1000\n",
        "py_matrix1 = [[i for i in range(matrix_size)] for j in range(matrix_size)]\n",
        "py_matrix2 = [[i for i in range(matrix_size)] for j in range(matrix_size)]\n",
        "\n",
        "# Matrix multiplication using Python lists (with nested loops)\n",
        "start_time = time.time()\n",
        "py_result = [[sum(a * b for a, b in zip(row, col)) for col in zip(*py_matrix2)] for row in py_matrix1]\n",
        "print(\"Python list matrix multiplication time:\", time.time() - start_time)\n",
        "\n",
        "# Matrix multiplication using NumPy arrays\n",
        "np_matrix1 = np.array(py_matrix1)\n",
        "np_matrix2 = np.array(py_matrix2)\n",
        "\n",
        "start_time = time.time()\n",
        "np_result = np.dot(np_matrix1, np_matrix2)\n",
        "print(\"NumPy matrix multiplication time:\", time.time() - start_time)\n"
      ],
      "metadata": {
        "colab": {
          "base_uri": "https://localhost:8080/"
        },
        "id": "W91hSbzfBPRK",
        "outputId": "b9fc8d81-1876-4858-841b-5705349445ed"
      },
      "execution_count": null,
      "outputs": [
        {
          "output_type": "stream",
          "name": "stdout",
          "text": [
            "Python list matrix multiplication time: 210.29262161254883\n",
            "NumPy matrix multiplication time: 3.026923179626465\n"
          ]
        }
      ]
    },
    {
      "cell_type": "markdown",
      "source": [
        "The NumPy matrix multiplication is 100x faster than the Python list equivalent because it leverages highly optimized low-level libraries (e.g., BLAS and LAPACK) for such operations.\n",
        "\n",
        "4. Broadcasting\n",
        "\n",
        "NumPy arrays support broadcasting, which allows operations between arrays of different shapes and sizes without the need to explicitly resize or reshape them. This makes operations both more efficient and convenient. Broadcasting enables operations on arrays of different dimensions by expanding the smaller array to match the shape of the larger one without actually copying data.\n",
        "\n",
        "In Python lists, you would need to manually resize lists and use loops to achieve the same effect, which is slow and cumbersome.\n",
        "\n",
        "Example: Broadcasting"
      ],
      "metadata": {
        "id": "w6wr4QxvBkvM"
      }
    },
    {
      "cell_type": "code",
      "source": [
        "import numpy as np\n",
        "\n",
        "# Broadcasting in NumPy\n",
        "arr = np.array([1, 2, 3])\n",
        "scalar = 5\n",
        "\n",
        "# Add scalar to array\n",
        "result = arr + scalar\n",
        "print(result)\n"
      ],
      "metadata": {
        "colab": {
          "base_uri": "https://localhost:8080/"
        },
        "id": "8xTk2GfWBsdX",
        "outputId": "d3a0d088-77b9-4aff-8b7e-b17d7e0e4298"
      },
      "execution_count": null,
      "outputs": [
        {
          "output_type": "stream",
          "name": "stdout",
          "text": [
            "[6 7 8]\n"
          ]
        }
      ]
    },
    {
      "cell_type": "markdown",
      "source": [
        "The scalar 5 is broadcast across the array, and the operation is done efficiently in a single step. With Python lists, you would have to use a loop to achieve the same result.\n",
        "\n",
        "5. Efficient Memory Layout and Cache Utilization\n",
        "\n",
        "NumPy arrays are stored in contiguous blocks of memory, which ensures efficient memory access and better cache utilization. This allows the CPU to fetch data faster from memory. In contrast, Python lists are arrays of pointers to objects, leading to fragmented memory access, which can slow down large-scale numerical operations.\n",
        "\n",
        "Because NumPy arrays use contiguous memory, they take advantage of CPU caches and vectorized instructions, which greatly accelerates computation, especially when handling large datasets.\n",
        "\n",
        "6. Typed Arrays for Optimized Performance\n",
        "\n",
        "NumPy arrays have a fixed data type (e.g., int32, float64), allowing them to allocate memory precisely based on the type and size of the data. This makes NumPy arrays more efficient in memory usage compared to Python lists, where each element is a Python object with extra metadata (e.g., type information).\n",
        "\n",
        "This fixed typing allows NumPy to avoid type-checking overhead at runtime, which is a major performance bottleneck for Python lists.\n",
        "\n",
        "Example: Typed Arrays"
      ],
      "metadata": {
        "id": "nZU14zT0CMLX"
      }
    },
    {
      "cell_type": "code",
      "source": [
        "import numpy as np\n",
        "\n",
        "# Integer array (int32)\n",
        "arr_int = np.array([1, 2, 3], dtype=np.int32)\n",
        "print(arr_int.dtype)  # Output: int32\n",
        "\n",
        "# Float array (float64)\n",
        "arr_float = np.array([1.1, 2.2, 3.3], dtype=np.float64)\n",
        "print(arr_float.dtype)\n"
      ],
      "metadata": {
        "colab": {
          "base_uri": "https://localhost:8080/"
        },
        "id": "aM3fm0lGCbsP",
        "outputId": "b01aa435-1c85-4667-ad82-8b7791ca785c"
      },
      "execution_count": null,
      "outputs": [
        {
          "output_type": "stream",
          "name": "stdout",
          "text": [
            "int32\n",
            "float64\n"
          ]
        }
      ]
    },
    {
      "cell_type": "markdown",
      "source": [
        "___________________________________________________________________________"
      ],
      "metadata": {
        "id": "RaNAEykXCjXp"
      }
    },
    {
      "cell_type": "markdown",
      "source": [
        "# **Q.7.  Compare vstack() and hstack() functions in NumPy. Provide examples demonstrating their usage and output.**\n",
        "Ans. In NumPy, the vstack() and hstack() functions are used to stack arrays vertically and horizontally, respectively. Both functions are useful for combining arrays along different axes, but they operate in distinct ways:\n",
        "\n",
        "vstack(): Stacks arrays vertically (row-wise).\n",
        "\n",
        "hstack(): Stacks arrays horizontally (column-wise).\n",
        "\n",
        "Let's break down their functionality, usage, and differences with examples.\n",
        "\n",
        "1. vstack() (Vertical Stack)\n",
        "\n",
        "Functionality:\n",
        "The vstack() function stacks arrays along the vertical axis (axis 0), meaning it stacks them row-wise.\n",
        "\n",
        "This requires the arrays to have the same number of columns (i.e., the same second dimension).\n",
        "\n",
        "Example:\n"
      ],
      "metadata": {
        "id": "tFAOJZ-qCl5H"
      }
    },
    {
      "cell_type": "code",
      "source": [
        "import numpy as np\n",
        "\n",
        "# Creating two 1D arrays\n",
        "arr1 = np.array([1, 2, 3])\n",
        "arr2 = np.array([4, 5, 6])\n",
        "\n",
        "# Vertical stacking\n",
        "result = np.vstack((arr1, arr2))\n",
        "print(result)\n"
      ],
      "metadata": {
        "colab": {
          "base_uri": "https://localhost:8080/"
        },
        "id": "FO1WpSFDDgHP",
        "outputId": "f9bf18d1-e246-4708-8a30-19eaf60d2e5e"
      },
      "execution_count": null,
      "outputs": [
        {
          "output_type": "stream",
          "name": "stdout",
          "text": [
            "[[1 2 3]\n",
            " [4 5 6]]\n"
          ]
        }
      ]
    },
    {
      "cell_type": "markdown",
      "source": [
        "2. hstack() (Horizontal Stack)\n",
        "\n",
        "Functionality:\n",
        "The hstack() function stacks arrays along the horizontal axis (axis 1), meaning it stacks them column-wise.\n",
        "\n",
        "This requires the arrays to have the same number of rows (i.e., the same first dimension).\n",
        "\n",
        "Example:\n"
      ],
      "metadata": {
        "id": "JBsJU0VYDlny"
      }
    },
    {
      "cell_type": "code",
      "source": [
        "import numpy as np\n",
        "\n",
        "# Creating two 1D arrays\n",
        "arr1 = np.array([1, 2, 3])\n",
        "arr2 = np.array([4, 5, 6])\n",
        "\n",
        "# Horizontal stacking\n",
        "result = np.hstack((arr1, arr2))\n",
        "print(result)\n"
      ],
      "metadata": {
        "colab": {
          "base_uri": "https://localhost:8080/"
        },
        "id": "fDbr1hFvDxEJ",
        "outputId": "8ba60f8f-12f2-4c4f-e662-1da64eb8a262"
      },
      "execution_count": null,
      "outputs": [
        {
          "output_type": "stream",
          "name": "stdout",
          "text": [
            "[1 2 3 4 5 6]\n"
          ]
        }
      ]
    },
    {
      "cell_type": "markdown",
      "source": [
        "Usage Scenarios:\n",
        "\n",
        "vstack() is typically used when you want to combine arrays row-wise. For example, adding new data points (rows) to an existing dataset.\n",
        "\n",
        "hstack() is useful when you want to combine arrays column-wise. For example, appending new features (columns) to an existing dataset.\n",
        "\n",
        "Examples with Mixed Array Sizes\n",
        "\n",
        "vstack() with 1D and 2D Arrays\n"
      ],
      "metadata": {
        "id": "5KcMsKIFD7ly"
      }
    },
    {
      "cell_type": "code",
      "source": [
        "arr1 = np.array([1, 2, 3])\n",
        "arr2 = np.array([[4, 5, 6]])\n",
        "\n",
        "# Vertical stacking\n",
        "result = np.vstack((arr1, arr2))\n",
        "print(result)\n"
      ],
      "metadata": {
        "colab": {
          "base_uri": "https://localhost:8080/"
        },
        "id": "Fng96myMEDu2",
        "outputId": "12a9234a-a443-4eaa-ea5f-46159f851791"
      },
      "execution_count": null,
      "outputs": [
        {
          "output_type": "stream",
          "name": "stdout",
          "text": [
            "[[1 2 3]\n",
            " [4 5 6]]\n"
          ]
        }
      ]
    },
    {
      "cell_type": "markdown",
      "source": [
        "hstack() with 1D and 2D Arrays\n"
      ],
      "metadata": {
        "id": "JVvuN46kEKcq"
      }
    },
    {
      "cell_type": "code",
      "source": [
        "arr1 = np.array([[1], [2], [3]])\n",
        "arr2 = np.array([[4], [5], [6]])\n",
        "\n",
        "# Horizontal stacking\n",
        "result = np.hstack((arr1, arr2))\n",
        "print(result)\n"
      ],
      "metadata": {
        "colab": {
          "base_uri": "https://localhost:8080/"
        },
        "id": "q7sOe23FERUd",
        "outputId": "5f9de353-e175-4c23-a034-830bbb6bf010"
      },
      "execution_count": null,
      "outputs": [
        {
          "output_type": "stream",
          "name": "stdout",
          "text": [
            "[[1 4]\n",
            " [2 5]\n",
            " [3 6]]\n"
          ]
        }
      ]
    },
    {
      "cell_type": "markdown",
      "source": [
        "**Conclusion:**\n",
        "\n",
        "vstack(): Stacks arrays vertically, adding rows.\n",
        "\n",
        "hstack(): Stacks arrays horizontally, adding columns.\n",
        "\n",
        "Both functions are highly useful for manipulating arrays in data science and numerical computations. You choose between them based on whether you need to add rows or columns to your arrays.\n",
        "\n",
        "\n",
        "\n",
        "\n",
        "\n",
        "___________________________________________________________________________\n",
        "\n",
        "\n",
        "\n",
        "\n",
        "\n",
        "\n"
      ],
      "metadata": {
        "id": "nxlYbcyxEV3H"
      }
    },
    {
      "cell_type": "markdown",
      "source": [
        "# **Q.8.  Explain the differences between fliplr() and flipud() methods in NumPy, including their effects on various array dimensions.**\n",
        "Ans. In NumPy, the functions fliplr() and flipud() are used to flip arrays along different axes. Here’s a breakdown of the differences between the two, how they work, and their effects on arrays of various dimensions:\n",
        "\n",
        "1. fliplr() (Flip Left to Right)\n",
        "\n",
        "Functionality:\n",
        "fliplr() flips an array horizontally, meaning it reverses the order of the columns.\n",
        "\n",
        "It works on 2D arrays and higher-dimensional arrays. However, the array must have at least two dimensions (i.e., it requires that the array has rows and columns).\n",
        "\n",
        "Effect:\n",
        "For a 2D array, the leftmost column becomes the rightmost column, and the rightmost column becomes the leftmost.\n",
        "\n",
        "Example:"
      ],
      "metadata": {
        "id": "WSPHlRnNEi1W"
      }
    },
    {
      "cell_type": "code",
      "source": [
        "import numpy as np\n",
        "\n",
        "# 2D array\n",
        "arr = np.array([[1, 2, 3],\n",
        "                [4, 5, 6],\n",
        "                [7, 8, 9]])\n",
        "\n",
        "# Flip horizontally (left to right)\n",
        "result = np.fliplr(arr)\n",
        "print(result)\n"
      ],
      "metadata": {
        "colab": {
          "base_uri": "https://localhost:8080/"
        },
        "id": "NIU6dZc-FlbW",
        "outputId": "c398d141-fabb-4302-ac17-30bfd7371023"
      },
      "execution_count": null,
      "outputs": [
        {
          "output_type": "stream",
          "name": "stdout",
          "text": [
            "[[3 2 1]\n",
            " [6 5 4]\n",
            " [9 8 7]]\n"
          ]
        }
      ]
    },
    {
      "cell_type": "markdown",
      "source": [
        "As you can see, fliplr() reversed the order of columns while keeping the row order intact.\n",
        "\n",
        "2. flipud() (Flip Up to Down)\n",
        "\n",
        "Functionality:\n",
        "flipud() flips an array vertically, meaning it reverses the order of the rows.\n",
        "\n",
        "It works on arrays of any dimensionality. Even a 1D array can be flipped along its single axis (which is just reversing the order of elements in that case).\n",
        "\n",
        "Effect:\n",
        "\n",
        "For a 2D array, the top row becomes the bottom row, and the bottom row becomes the top.\n",
        "\n",
        "Example:\n",
        "\n"
      ],
      "metadata": {
        "id": "prtg-QEpFp7D"
      }
    },
    {
      "cell_type": "code",
      "source": [
        "import numpy as np\n",
        "\n",
        "# 2D array\n",
        "arr = np.array([[1, 2, 3],\n",
        "                [4, 5, 6],\n",
        "                [7, 8, 9]])\n",
        "\n",
        "# Flip vertically (up to down)\n",
        "result = np.flipud(arr)\n",
        "print(result)\n"
      ],
      "metadata": {
        "colab": {
          "base_uri": "https://localhost:8080/"
        },
        "id": "x4jFMCYaF8a2",
        "outputId": "c85779bb-2280-4f28-ab7c-df9076ed3424"
      },
      "execution_count": null,
      "outputs": [
        {
          "output_type": "stream",
          "name": "stdout",
          "text": [
            "[[7 8 9]\n",
            " [4 5 6]\n",
            " [1 2 3]]\n"
          ]
        }
      ]
    },
    {
      "cell_type": "markdown",
      "source": [
        "In this case, the rows have been reversed, while the order of the columns stays the same.\n",
        "\n",
        "For a 1D array, flipud() simply reverses the array because there is only one axis (i.e., it's equivalent to using np.flip()).\n",
        "\n",
        "**Effects on Different Dimensional Arrays**\n",
        "\n",
        "1D Arrays:\n",
        "\n",
        "fliplr() does not work on 1D arrays and will raise an error.\n",
        "\n",
        "flipud() works on 1D arrays and simply reverses the elements.\n",
        "\n",
        "2D Arrays:\n",
        "\n",
        "fliplr() reverses the order of columns (flips the array horizontally).\n",
        "\n",
        "flipud() reverses the order of rows (flips the array vertically).\n",
        "\n",
        "Higher-Dimensional Arrays:\n",
        "Both fliplr() and flipud() work on higher-dimensional arrays. For a 3D array, for example, they operate on the last two dimensions (rows and columns), keeping the rest of the array intact.\n",
        "\n",
        "Example with a 3D Array:\n",
        "\n"
      ],
      "metadata": {
        "id": "HfJj_LVkGFh4"
      }
    },
    {
      "cell_type": "code",
      "source": [
        "arr_3d = np.array([[[1, 2], [3, 4]],\n",
        "                   [[5, 6], [7, 8]]])\n",
        "\n",
        "# Flip horizontally\n",
        "result_lr = np.fliplr(arr_3d)\n",
        "print(\"Flipped horizontally:\\n\", result_lr)\n",
        "\n",
        "# Flip vertically\n",
        "result_ud = np.flipud(arr_3d)\n",
        "print(\"Flipped vertically:\\n\", result_ud)\n"
      ],
      "metadata": {
        "colab": {
          "base_uri": "https://localhost:8080/"
        },
        "id": "MhU7FJ7QGeCt",
        "outputId": "879a5d18-33f7-4a3f-9066-bb7b7ecf90a9"
      },
      "execution_count": null,
      "outputs": [
        {
          "output_type": "stream",
          "name": "stdout",
          "text": [
            "Flipped horizontally:\n",
            " [[[3 4]\n",
            "  [1 2]]\n",
            "\n",
            " [[7 8]\n",
            "  [5 6]]]\n",
            "Flipped vertically:\n",
            " [[[5 6]\n",
            "  [7 8]]\n",
            "\n",
            " [[1 2]\n",
            "  [3 4]]]\n"
          ]
        }
      ]
    },
    {
      "cell_type": "markdown",
      "source": [
        "In the case of 3D arrays:\n",
        "\n",
        "fliplr() flips along the second dimension (reversing columns), affecting the first and second \"slices\" of the array.\n",
        "\n",
        "flipud() flips along the first dimension (reversing rows), affecting the top and bottom slices.\n",
        "\n",
        "\n",
        "\n",
        "\n",
        "___________________________________________________________________________\n"
      ],
      "metadata": {
        "id": "670_LqUWGlqt"
      }
    },
    {
      "cell_type": "markdown",
      "source": [
        "# **Q.9.  Discuss the functionality of the array_split() method in NumPy. How does it handle uneven splits?**\n",
        "Ans. The array_split() method in NumPy is used to split an array into multiple sub-arrays. Unlike split(), which requires the divisions to be exactly equal, array_split() can handle uneven splits, making it more flexible.\n",
        "\n",
        "Functionality of array_split()\n",
        "\n",
        "Basic Usage: array_split() splits the array into a specified number of sub-arrays. If the array cannot be evenly divided, the function ensures that some sub-arrays will be slightly smaller or larger to accommodate the uneven split.\n"
      ],
      "metadata": {
        "id": "BFRUdvZ1Gsa1"
      }
    },
    {
      "cell_type": "code",
      "source": [
        "import numpy as np\n",
        "\n",
        "arr = np.array([1, 2, 3, 4, 5, 6, 7])\n",
        "\n",
        "# Split the array into 3 parts\n",
        "result = np.array_split(arr, 3)\n",
        "print(result)\n"
      ],
      "metadata": {
        "colab": {
          "base_uri": "https://localhost:8080/"
        },
        "id": "uPULa-b5HoFV",
        "outputId": "1789f4e1-fb22-4724-c2c5-c67273365528"
      },
      "execution_count": null,
      "outputs": [
        {
          "output_type": "stream",
          "name": "stdout",
          "text": [
            "[array([1, 2, 3]), array([4, 5]), array([6, 7])]\n"
          ]
        }
      ]
    },
    {
      "cell_type": "markdown",
      "source": [
        "Handling Uneven Splits:\n",
        "\n",
        "When the number of elements in the array doesn’t divide evenly into the requested number of sub-arrays, array_split() distributes the elements as evenly as possible.\n",
        "\n",
        "Larger chunks are assigned first, while smaller sub-arrays come at the end.\n",
        "\n",
        "For example, when splitting an array of 7 elements into 3 parts, array_split() creates sub-arrays of lengths 3, 2, and 2.\n",
        "\n",
        "Example: Uneven Split in 2D Arrays\n"
      ],
      "metadata": {
        "id": "NZTIjH6MHweS"
      }
    },
    {
      "cell_type": "code",
      "source": [
        "arr_2d = np.array([[1, 2, 3],\n",
        "                   [4, 5, 6],\n",
        "                   [7, 8, 9],\n",
        "                   [10, 11, 12]])\n",
        "\n",
        "# Split the 2D array into 3 parts\n",
        "result_2d = np.array_split(arr_2d, 3)\n",
        "for sub_array in result_2d:\n",
        "    print(sub_array)\n"
      ],
      "metadata": {
        "colab": {
          "base_uri": "https://localhost:8080/"
        },
        "id": "dmjBq0aJH7cj",
        "outputId": "4e4dc788-98dc-4f3c-fd74-5544a0c5f1e3"
      },
      "execution_count": null,
      "outputs": [
        {
          "output_type": "stream",
          "name": "stdout",
          "text": [
            "[[1 2 3]\n",
            " [4 5 6]]\n",
            "[[7 8 9]]\n",
            "[[10 11 12]]\n"
          ]
        }
      ]
    },
    {
      "cell_type": "markdown",
      "source": [
        "In this 2D example, the first sub-array contains two rows, while the others contain one row each, as the array couldn't be divided evenly.\n",
        "\n",
        "Custom Axis Splitting:\n",
        "\n",
        "By default, array_split() works along axis 0, but you can specify a different axis for splitting.\n",
        "\n",
        " For example:\n",
        "\n"
      ],
      "metadata": {
        "id": "YdGOWBFkIEYp"
      }
    },
    {
      "cell_type": "code",
      "source": [
        "result_axis1 = np.array_split(arr_2d, 2, axis=1)\n",
        "for sub_array in result_axis1:\n",
        "    print(sub_array)\n"
      ],
      "metadata": {
        "colab": {
          "base_uri": "https://localhost:8080/"
        },
        "id": "_9A-BdVVILjP",
        "outputId": "f7fbf12a-e9c8-4f8a-a551-a030267b6f09"
      },
      "execution_count": null,
      "outputs": [
        {
          "output_type": "stream",
          "name": "stdout",
          "text": [
            "[[ 1  2]\n",
            " [ 4  5]\n",
            " [ 7  8]\n",
            " [10 11]]\n",
            "[[ 3]\n",
            " [ 6]\n",
            " [ 9]\n",
            " [12]]\n"
          ]
        }
      ]
    },
    {
      "cell_type": "markdown",
      "source": [
        "Here, the array was split into two sub-arrays along the column axis (axis 1).\n",
        "\n",
        "\n",
        "\n",
        "___________________________________________________________________________"
      ],
      "metadata": {
        "id": "gdiHiuSbISgz"
      }
    },
    {
      "cell_type": "markdown",
      "source": [
        "# **Q.10.  Explain the concepts of vectorization and broadcasting in NumPy. How do they contribute to efficient array operations?**\n",
        "Ans. Vectorization in NumPy\n",
        "\n",
        "Vectorization in NumPy refers to the process of applying operations to entire arrays (or collections of data) without the need for explicit loops in Python. These operations are performed element-wise on the arrays using optimized C and Fortran implementations, making them faster than looping through elements one by one.\n",
        "\n",
        "Advantages of Vectorization:\n",
        "\n",
        "Speed: Since vectorized operations bypass the overhead of Python loops and use optimized lower-level code, they are much faster.\n",
        "\n",
        "Simpler Code: Operations on arrays can be written concisely without the need for explicit loops.\n",
        "\n",
        "Memory Efficiency: Vectorized operations are often more memory-efficient because they eliminate the need for intermediate Python objects.\n",
        "\n",
        "Example of Vectorization:\n"
      ],
      "metadata": {
        "id": "_PoFEtyrIVjT"
      }
    },
    {
      "cell_type": "code",
      "source": [
        "import numpy as np\n",
        "\n",
        "arr1 = np.array([1, 2, 3])\n",
        "arr2 = np.array([4, 5, 6])\n",
        "\n",
        "# Vectorized addition (element-wise)\n",
        "result = arr1 + arr2\n",
        "print(result)\n"
      ],
      "metadata": {
        "colab": {
          "base_uri": "https://localhost:8080/"
        },
        "id": "-bEU1yTsJaGD",
        "outputId": "1c8d8cec-3101-45c6-b48d-7fd029b2b379"
      },
      "execution_count": null,
      "outputs": [
        {
          "output_type": "stream",
          "name": "stdout",
          "text": [
            "[5 7 9]\n"
          ]
        }
      ]
    },
    {
      "cell_type": "markdown",
      "source": [
        "In this example, the addition is performed directly on the entire array in a single step, rather than using loops.\n",
        "\n",
        "Without vectorization, the same operation would require a loop, as shown below:\n",
        "\n"
      ],
      "metadata": {
        "id": "LBxHoLH2JekM"
      }
    },
    {
      "cell_type": "code",
      "source": [
        "result = []\n",
        "for i in range(len(arr1)):\n",
        "    result.append(arr1[i] + arr2[i])\n",
        "print(result)\n"
      ],
      "metadata": {
        "colab": {
          "base_uri": "https://localhost:8080/"
        },
        "id": "rOhfx4obJlZL",
        "outputId": "62cee6a2-f625-48f3-8d6a-7435de6d68c6"
      },
      "execution_count": null,
      "outputs": [
        {
          "output_type": "stream",
          "name": "stdout",
          "text": [
            "[5, 7, 9]\n"
          ]
        }
      ]
    },
    {
      "cell_type": "markdown",
      "source": [
        "Broadcasting in NumPy\n",
        "\n",
        "Broadcasting allows NumPy to perform operations on arrays of different shapes. When performing operations between arrays of unequal dimensions, NumPy tries to \"broadcast\" (expand) the smaller array across the larger one so that they have compatible shapes. Broadcasting avoids copying the smaller array multiple times, making operations memory-efficient.\n",
        "\n",
        "How Broadcasting Works:\n",
        "\n",
        "If the arrays do not have the same shape, NumPy compares their dimensions starting from the rightmost.\n",
        "\n",
        "Two dimensions are considered compatible if:\n",
        "\n",
        "They are equal, or\n",
        "One of them is 1, in which case that dimension can be \"stretched\" to match the other dimension.\n",
        "\n",
        "Example of Broadcasting:\n"
      ],
      "metadata": {
        "id": "YriNYud0Jpwl"
      }
    },
    {
      "cell_type": "code",
      "source": [
        "arr2d = np.array([[1, 2, 3],\n",
        "                  [4, 5, 6]])\n",
        "\n",
        "arr1d = np.array([10, 20, 30])\n",
        "\n",
        "# Broadcasting the 1D array to the 2D array\n",
        "result = arr2d + arr1d\n",
        "print(result)\n"
      ],
      "metadata": {
        "colab": {
          "base_uri": "https://localhost:8080/"
        },
        "id": "yMekspMlJ63D",
        "outputId": "c0e836d6-eb0a-45b5-cfc0-1327f2b2520d"
      },
      "execution_count": null,
      "outputs": [
        {
          "output_type": "stream",
          "name": "stdout",
          "text": [
            "[[11 22 33]\n",
            " [14 25 36]]\n"
          ]
        }
      ]
    },
    {
      "cell_type": "markdown",
      "source": [
        "In this case, the 1D array arr1d is broadcasted to match the shape of arr2d so that the addition can be performed element-wise. Broadcasting expands the smaller array along its missing dimensions without explicitly creating new copies.\n",
        "\n",
        "**How Vectorization and Broadcasting Contribute to Efficient Array Operations**\n",
        "Speed:\n",
        "\n",
        "Vectorization avoids Python loops and relies on highly optimized machine-level instructions (SIMD - Single Instruction, Multiple Data). This makes operations faster than looping in Python.\n",
        "\n",
        "Broadcasting allows operations on arrays of different shapes, avoiding the need to reshape or manually adjust the dimensions. This also speeds up operations by eliminating the need for manual looping and duplication of data.\n",
        "\n",
        "Memory Efficiency:\n",
        "\n",
        "Vectorization operates directly on arrays, which avoids creating intermediate Python objects or lists, thus conserving memory.\n",
        "Broadcasting enables operations on arrays of different shapes without copying or replicating data, reducing memory overhead and making large-scale operations possible.\n",
        "\n",
        "Readable Code:\n",
        "\n",
        "Both vectorization and broadcasting make code more concise and readable. They eliminate complex and error-prone loops, leading to clearer and more maintainable code.\n",
        "\n",
        "\n",
        "\n",
        "\n",
        "___________________________________________________________________________\n",
        "\n",
        "\n"
      ],
      "metadata": {
        "id": "JzMDce4TKCIl"
      }
    }
  ]
}