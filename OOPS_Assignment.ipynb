{
  "nbformat": 4,
  "nbformat_minor": 0,
  "metadata": {
    "colab": {
      "provenance": [],
      "authorship_tag": "ABX9TyOxoK6c8B3cDNDTAAze6nNY",
      "include_colab_link": true
    },
    "kernelspec": {
      "name": "python3",
      "display_name": "Python 3"
    },
    "language_info": {
      "name": "python"
    }
  },
  "cells": [
    {
      "cell_type": "markdown",
      "metadata": {
        "id": "view-in-github",
        "colab_type": "text"
      },
      "source": [
        "<a href=\"https://colab.research.google.com/github/ShasHero006/Python/blob/main/OOPS_Assignment.ipynb\" target=\"_parent\"><img src=\"https://colab.research.google.com/assets/colab-badge.svg\" alt=\"Open In Colab\"/></a>"
      ]
    },
    {
      "cell_type": "markdown",
      "source": [
        "# **Q.1. What are the five key concepts of Object-Oriented Programming (OOP)?**\n",
        "Ans.The five key concepts of Object- Oriented Programming are :-\n",
        "\n",
        "(a). Encapsulation - The process of bundling the data (attributes) and the methods (functions) that operate on the data into a single unit or class.It restricts access to some of object's components.\n",
        "\n",
        "**Example :-**\n",
        "\n",
        "\n",
        "\n",
        "___________________________________________________________________________"
      ],
      "metadata": {
        "id": "f9kO9JBgWszW"
      }
    },
    {
      "cell_type": "code",
      "source": [
        "class Car:\n",
        "    def __init__(self, make, model):\n",
        "        self.__make = make  # Encapsulated attribute\n",
        "        self.__model = model\n",
        "\n",
        "    def get_make(self):\n",
        "        return self.__make"
      ],
      "metadata": {
        "id": "uVK51HScW_bq"
      },
      "execution_count": null,
      "outputs": []
    },
    {
      "cell_type": "markdown",
      "source": [
        "(b). Abstraction - The process of hiding the complex implementation and showing only the essential features of an object.This simplifies the interaction with objects.\n",
        "\n",
        "**Example :-**\n",
        "\n",
        "Example: When you use a method like car.start_engine(), you don’t need to know how the engine starts internally—just that calling this method will start it."
      ],
      "metadata": {
        "id": "NJAq3Va8Xj9g"
      }
    },
    {
      "cell_type": "markdown",
      "source": [
        "(c). Inheritance - A mechanism where one class ( child or sub class ) inherits properties from another class ( parent or superclass ). It promotes code reuse.\n",
        "\n",
        "**Example :-**"
      ],
      "metadata": {
        "id": "qE17zKHqYXqd"
      }
    },
    {
      "cell_type": "code",
      "source": [
        "class Vehicle:\n",
        "    def __init__(self, speed):\n",
        "        self.speed = speed\n",
        "\n",
        "class Car(Vehicle):  # Car inherits from Vehicle\n",
        "    pass"
      ],
      "metadata": {
        "id": "zO9b4a9IYrOc"
      },
      "execution_count": null,
      "outputs": []
    },
    {
      "cell_type": "markdown",
      "source": [
        "(d). Polymorphism - The ability of different classes to respond to the same method call in different ways. It allows methods to be used interchangeably, often achieved through method overriding or overloading.\n",
        "\n",
        "**Example :-**"
      ],
      "metadata": {
        "id": "joEJPPHQZSWr"
      }
    },
    {
      "cell_type": "code",
      "source": [
        "class Car:\n",
        "    def move(self):\n",
        "        print(\"The car drives.\")\n",
        "\n",
        "class Bike:\n",
        "    def move(self):\n",
        "        print(\"The bike pedals.\")\n",
        "\n",
        "# Polymorphism in action\n",
        "for vehicle in (Car(), Bike()):\n",
        "    vehicle.move()  # Calls the respective move method"
      ],
      "metadata": {
        "colab": {
          "base_uri": "https://localhost:8080/"
        },
        "id": "gCRyexpcZxTU",
        "outputId": "6c362943-3fff-401f-9d01-360b68575769"
      },
      "execution_count": null,
      "outputs": [
        {
          "output_type": "stream",
          "name": "stdout",
          "text": [
            "The car drives.\n",
            "The bike pedals.\n"
          ]
        }
      ]
    },
    {
      "cell_type": "markdown",
      "source": [
        "(e). Composition - Composition involves building complex objects by combining simpler,reusable objects or components. It represents a \"has-a\" relationship, where one object contains or is composed of other objects.\n",
        "\n",
        "**Example :-**\n",
        "\n",
        "A `Car` class can be composed of an `Engine` object, `Wheel` objects, and a `Transmission` object, each responsible for their specific functionality.\n",
        "\n",
        "\n",
        "\n",
        "\n",
        "___________________________________________________________________________"
      ],
      "metadata": {
        "id": "KM-j-UPabMlJ"
      }
    },
    {
      "cell_type": "markdown",
      "source": [
        "# **Q.2.  Write a Python class for a `Car` with attributes for `make`, `model`, and `year`. Include a method to display the car's information.**\n",
        "Ans. A somple Python class for a `Car` with the attributes `make`, `model` and `year` , alongwith a method to display the car's information is given below :-    \n"
      ],
      "metadata": {
        "id": "56taHW2DdHyY"
      }
    },
    {
      "cell_type": "code",
      "source": [
        "class Car:\n",
        "    def __init__(self, make, model, year):\n",
        "        \"\"\"Initialize the Car object with make, model, and year.\"\"\"\n",
        "        self.make = make\n",
        "        self.model = model\n",
        "        self.year = year\n",
        "\n",
        "    def display_info(self):\n",
        "        \"\"\"Display the car's information.\"\"\"\n",
        "        print(f\"Car Information: {self.year} {self.make} {self.model}\")\n",
        "\n",
        "# Example usage\n",
        "my_car = Car(\"Tesla\", \"Model S\", 2022)\n",
        "my_car.display_info()"
      ],
      "metadata": {
        "colab": {
          "base_uri": "https://localhost:8080/"
        },
        "id": "UEmPr1T3egqR",
        "outputId": "e42430a9-2ea6-4c1b-8340-1f63e4830025"
      },
      "execution_count": null,
      "outputs": [
        {
          "output_type": "stream",
          "name": "stdout",
          "text": [
            "Car Information: 2022 Tesla Model S\n"
          ]
        }
      ]
    },
    {
      "cell_type": "markdown",
      "source": [
        "Points to remember in the above Python class :-    \n",
        "1. The `__init__` method initializes the car with the given `make`, `model` and `year`.\n",
        "\n",
        "2. The `display__info` method prints the car's information in a formatted string.\n",
        "\n",
        "3. An instance of `Car` is created with \"Tesla\",\"S\" and 2022 and the `display_info ()` method displays its details.\n",
        "\n",
        "This class is simple and demonstrates how to define a class with attributes and a method to display its information.\n",
        "\n",
        "\n",
        "\n",
        "___________________________________________________________________________"
      ],
      "metadata": {
        "id": "TJwTFQa4erku"
      }
    },
    {
      "cell_type": "markdown",
      "source": [
        "# **Q.3.  Explain the difference between instance methods and class methods. Provide an example of each**\n",
        "Ans. Methods are functions defined within a class that describe the behaviours of the objects created form that class.\n",
        "\n",
        "There are mainly two types of methods :-   \n",
        "\n",
        "**a. Instance Methods -** Instance methods are functions that operate on instances of a class ( or objects ). They can access and modify the instance attributes ( data ) unique to each object. To define an instance method, you use the `def` keyword and the first parameter is typically named `self` which refers to the specific instance calling the method.\n",
        "\n",
        "**Example :-**\n",
        "\n"
      ],
      "metadata": {
        "id": "6yYZIpQ_gGEb"
      }
    },
    {
      "cell_type": "code",
      "source": [
        "class Car:\n",
        "    def __init__(self, make, model, year):\n",
        "        self.make = make\n",
        "        self.model = model\n",
        "        self.year = year\n",
        "\n",
        "    def display_info(self):  # Instance method\n",
        "        print(f\"Car: {self.year} {self.make} {self.model}\")\n",
        "\n",
        "# Creating an instance (object) of the Car class\n",
        "my_car = Car(\"Toyota\", \"Camry\", 2020)\n",
        "my_car.display_info()  # Calls the instance method"
      ],
      "metadata": {
        "colab": {
          "base_uri": "https://localhost:8080/"
        },
        "id": "WYHWN0_fib7_",
        "outputId": "0a13da4f-6029-4cce-de41-627e4903e185"
      },
      "execution_count": null,
      "outputs": [
        {
          "output_type": "stream",
          "name": "stdout",
          "text": [
            "Car: 2020 Toyota Camry\n"
          ]
        }
      ]
    },
    {
      "cell_type": "markdown",
      "source": [
        "i. `__ init__` method initializes each new instance with `make`,`model` and `year`.\n",
        "\n",
        "ii. `display_ info` accesses instance attributes to display information about the car.\n",
        "\n",
        "iii. The instance method `display_info()` operates on an instance (`my_car`)."
      ],
      "metadata": {
        "id": "n85T4y8VinYO"
      }
    },
    {
      "cell_type": "markdown",
      "source": [
        "**b. Class Methods -** Class methods are functions that operate on the class itself, rather than instances of the class. They can access and modify class attributes that are shared among all instances of the class. To define a class method, you use the `@classmethod` decorator, and the first parameter is typically named `cls` which refers to the class.\n",
        "\n",
        "**Example :-**"
      ],
      "metadata": {
        "id": "DeS9XLORjdDw"
      }
    },
    {
      "cell_type": "code",
      "source": [
        "class Car:\n",
        "    # Class attribute shared by all instances\n",
        "    number_of_wheels = 4\n",
        "\n",
        "    def __init__(self, make, model, year):\n",
        "        self.make = make        # Instance attribute\n",
        "        self.model = model      # Instance attribute\n",
        "        self.year = year        # Instance attribute\n",
        "\n",
        "    @classmethod\n",
        "    def set_number_of_wheels(cls, wheels):\n",
        "        \"\"\"\n",
        "        Class method to set the number of wheels for all cars.\n",
        "        \"\"\"\n",
        "        cls.number_of_wheels = wheels\n",
        "        print(f\"Number of wheels set to {cls.number_of_wheels}\")\n",
        "\n",
        "    def display_info(self):\n",
        "        \"\"\"\n",
        "        Instance method to display the car's information, including class attribute.\n",
        "        \"\"\"\n",
        "        print(f\"{self.year} {self.make} {self.model} with {Car.number_of_wheels} wheels\")\n",
        "\n",
        "# Creating instances of Car\n",
        "car1 = Car(\"Honda\", \"Civic\", 2019)\n",
        "car2 = Car(\"Ford\", \"Mustang\", 2021)\n",
        "\n",
        "# Calling instance methods\n",
        "car1.display_info()\n",
        "car2.display_info()\n",
        "\n",
        "# Calling class method on the class\n",
        "Car.set_number_of_wheels(6)\n",
        "\n",
        "# Calling instance methods again to see updated class attribute\n",
        "car1.display_info()\n",
        "car2.display_info()\n",
        "\n",
        "# Alternatively, class method can also be called on an instance\n",
        "car1.set_number_of_wheels(8)\n",
        "\n",
        "# Now all cars have 8 wheels\n",
        "car1.display_info()\n",
        "car2.display_info()"
      ],
      "metadata": {
        "colab": {
          "base_uri": "https://localhost:8080/"
        },
        "id": "797Lx3ikpLsk",
        "outputId": "2293726c-8a29-4052-cf75-b05d5925d77c"
      },
      "execution_count": null,
      "outputs": [
        {
          "output_type": "stream",
          "name": "stdout",
          "text": [
            "2019 Honda Civic with 4 wheels\n",
            "2021 Ford Mustang with 4 wheels\n",
            "Number of wheels set to 6\n",
            "2019 Honda Civic with 6 wheels\n",
            "2021 Ford Mustang with 6 wheels\n",
            "Number of wheels set to 8\n",
            "2019 Honda Civic with 8 wheels\n",
            "2021 Ford Mustang with 8 wheels\n"
          ]
        }
      ]
    },
    {
      "cell_type": "markdown",
      "source": [
        "i. `number_of_wheels` is a class attribute shared by all instances of `Car`.\n",
        "\n",
        "ii. `set_number_of_wheels` is a class method that modifies the `number_of_wheels` class attribute.\n",
        "\n",
        "iii. `display_info` method is an instance method that also displays the `number_of_wheels` from the class attribute."
      ],
      "metadata": {
        "id": "3T_bzlQfkaC7"
      }
    },
    {
      "cell_type": "markdown",
      "source": [
        "**When to use :--**\n",
        "Instance Methods are used to -\n",
        "(a). operate on unique data to each instance.\n",
        "\n",
        "(b). access and modify instance - specific attributes.\n",
        "\n",
        "(c). implement behaviors that are specific to individual objects.\n",
        "\n",
        "Class Methods are used to :-   \n",
        "\n",
        "(a). access or modify class- level data that should be consistent across all instances.\n",
        "\n",
        "(b). implement factory methods that create instances in a specific way.\n",
        "\n",
        "(c). perform operations related to the class itself.\n",
        "\n",
        "\n",
        "\n",
        "___________________________________________________________________________\n"
      ],
      "metadata": {
        "id": "mpSRd-kLnBRd"
      }
    },
    {
      "cell_type": "markdown",
      "source": [
        "# **Q.4. How does Python implement method overloading? Give an example.**\n",
        "Ans. Method overloading in Python is not natively supported in the traditional senseas it is in languages like Java or C++. This is because Python does not support function or method signatures based on the number of types of arguments.\n",
        "However, Python can achieve the same effect through default arguments, variable- length arguments ( `*args` and `**kwargs`), and type checking within a method.\n",
        "\n",
        "**Ways for Method Overloading in Python :-**\n",
        "1. You can provide default arguments for values, allowing the method to handle varying numbers of parameters.\n",
        "\n",
        "2. Using Variable - Length Arguments like `*args` (for positional arguments) and `**kwargs` (for keyword arguments).\n",
        "\n",
        "3. You can use type checking inside the method to check the types of arguments and change the behaviour based on the types.\n",
        "\n",
        "**Example :-**"
      ],
      "metadata": {
        "id": "l3CfiPI5ofHT"
      }
    },
    {
      "cell_type": "code",
      "source": [
        "class Calculator:\n",
        "    def add(self, *args):\n",
        "        if len(args) == 2:\n",
        "            return args[0] + args[1]\n",
        "        elif len(args) == 3:\n",
        "            return args[0] + args[1] + args[2]\n",
        "        else:\n",
        "            return sum(args)  # For any number of arguments, returns their sum\n",
        "\n",
        "# Create an instance of Calculator\n",
        "calc = Calculator()\n",
        "\n",
        "# Different method calls with varying number of arguments\n",
        "print(calc.add(5, 10))\n",
        "print(calc.add(1, 2, 3))\n",
        "print(calc.add(4, 5, 6, 7, 8))"
      ],
      "metadata": {
        "colab": {
          "base_uri": "https://localhost:8080/"
        },
        "id": "H_Yf3xxbwlm1",
        "outputId": "38269506-b59c-4da7-f559-f2fd7b4e4ad3"
      },
      "execution_count": null,
      "outputs": [
        {
          "output_type": "stream",
          "name": "stdout",
          "text": [
            "15\n",
            "6\n",
            "30\n"
          ]
        }
      ]
    },
    {
      "cell_type": "markdown",
      "source": [
        "i. The `add` method accepts a variable number of arguments (`*args`).\n",
        "\n",
        "ii. Inside the method, we check the number of arguments using `len(args)` and perform different operations accordingly :    \n",
        "(a). if two arguments are passed,it returns the sum of the first two arguments.\n",
        "\n",
        "(b). if 3 arguments are passed, it returns their sum.\n",
        "\n",
        "(c). if more than 3 arguments are passed, it sums all the arguments using the built - in `sum ()`function.\n",
        "\n",
        "\n",
        "So, we can say that while Python does not have traditional method overloading like some other languages, it provides flexible mechanisms like default arguments, `*args`,`**kwargs`,and type checking to achieve similar results.\n",
        "\n",
        "\n",
        "\n",
        "___________________________________________________________________________"
      ],
      "metadata": {
        "id": "FchNPIp2xMYV"
      }
    },
    {
      "cell_type": "markdown",
      "source": [
        "# **Q.5.  What are the three types of access modifiers in Python? How are they denoted ?**\n",
        "Ans. Access modifiers in Python are used to indicate the accessibility and visibility of classes, methods and attributes. Unlike some other programming languages (like Java or C++),Python does not enforce strict access control. Instead, it relies on conventions and name mangling to suggest how elements should be accessed.\n",
        "\n",
        "There are mainly three types of access modifiers in Python :-   \n",
        "\n",
        "1. Public Access Modifier - Public members are accessible from anywhere - both inside and outside the class. They have 'no leading underscores ' in their names.\n",
        "\n",
        "Each access modifier is denoted by specific symbols or naming conventions.Public Access Modifier is denoted by 'no underscores', means you have to simply name the attribute or method and does not need to use any underscores.\n",
        "\n",
        "**Example :-**"
      ],
      "metadata": {
        "id": "OkaxPa7iy7aO"
      }
    },
    {
      "cell_type": "code",
      "source": [
        "class Car:\n",
        "    def __init__(self, make, model, year):\n",
        "        self.make = make        # Public attribute\n",
        "        self.model = model      # Public attribute\n",
        "        self.year = year        # Public attribute\n",
        "\n",
        "    def display_info(self):      # Public method\n",
        "        print(f\"Car Information: {self.year} {self.make} {self.model}\")\n",
        "\n",
        "# Creating an instance of Car\n",
        "my_car = Car(\"Toyota\", \"Corolla\", 2020)\n",
        "\n",
        "# Accessing public attributes and method from outside the class\n",
        "print(my_car.make)\n",
        "print(my_car.model)\n",
        "print(my_car.year)\n",
        "my_car.display_info()"
      ],
      "metadata": {
        "colab": {
          "base_uri": "https://localhost:8080/"
        },
        "id": "BgjaqlOu1zQt",
        "outputId": "f3ceb99f-a671-4491-bbc3-458704bd16c1"
      },
      "execution_count": null,
      "outputs": [
        {
          "output_type": "stream",
          "name": "stdout",
          "text": [
            "Toyota\n",
            "Corolla\n",
            "2020\n",
            "Car Information: 2020 Toyota Corolla\n"
          ]
        }
      ]
    },
    {
      "cell_type": "markdown",
      "source": [
        "i. Attributes `make`,`model`,`year` and the method ( `display_info`) are all public.\n",
        "\n",
        "ii. They can be accessed and modified directly from outside the class without any restrictions."
      ],
      "metadata": {
        "id": "oH3Z8SQZ2I5h"
      }
    },
    {
      "cell_type": "markdown",
      "source": [
        "2. Protected Access Modifier - Protected members are intended to be used within the class and its subclasses. They are not enforced by Python but are indicated by a naming convention to signal that they are intended for internal use.\n",
        "\n",
        "Protected Access Modifiers are denoted by 'single leading underscore (`_`) , means the attribute or method name should be prefixed with one underscore to make it protected.\n",
        "\n",
        "**Example :-**"
      ],
      "metadata": {
        "id": "Y8d52PfH2tFG"
      }
    },
    {
      "cell_type": "code",
      "source": [
        "class Car:\n",
        "    def __init__(self, make, model, year):\n",
        "        self._make = make        # Protected attribute\n",
        "        self._model = model      # Protected attribute\n",
        "        self._year = year        # Protected attribute\n",
        "\n",
        "    def _display_info(self):      # Protected method\n",
        "        print(f\"Car Information: {self._year} {self._make} {self._model}\")\n",
        "\n",
        "class SportsCar(Car):\n",
        "    def show_details(self):\n",
        "        # Accessing protected attributes and method from subclass\n",
        "        print(\"Sports Car Details:\")\n",
        "        self._display_info()\n",
        "\n",
        "# Creating an instance of SportsCar\n",
        "my_sports_car = SportsCar(\"Ferrari\", \"488 GTB\", 2021)\n",
        "\n",
        "# Accessing protected attributes and method from subclass\n",
        "my_sports_car.show_details()\n",
        "\n",
        "\n",
        "# Accessing protected members from outside the class (not recommended)\n",
        "print(my_sports_car._make)\n",
        "my_sports_car._display_info()"
      ],
      "metadata": {
        "colab": {
          "base_uri": "https://localhost:8080/"
        },
        "id": "ffUcsCqA36RD",
        "outputId": "3ea884dc-96fe-4929-8106-0f7a251f7791"
      },
      "execution_count": null,
      "outputs": [
        {
          "output_type": "stream",
          "name": "stdout",
          "text": [
            "Sports Car Details:\n",
            "Car Information: 2021 Ferrari 488 GTB\n",
            "Ferrari\n",
            "Car Information: 2021 Ferrari 488 GTB\n"
          ]
        }
      ]
    },
    {
      "cell_type": "markdown",
      "source": [
        "i. Attributes `_make`,`_model`,`_year` and the method (`display_info`) are marked as protected.\n",
        "\n",
        "ii. Within the class and its subclasses, these members can be accessed and modified without issues.\n",
        "\n",
        "iii. Attributes can be acccessed outside the class hierarchy but it is discouraged as it breaks the intended encapsulation."
      ],
      "metadata": {
        "id": "WsAAMKJF4ejn"
      }
    },
    {
      "cell_type": "markdown",
      "source": [
        "3. Private Access Modifier - Private members are intended to be completely hidden from outside the class. They cannot be accessed or modified directly from outside the class, providing a higher level of encapsulation.\n",
        "\n",
        "To make attributes or methods private, they are prefixed with two underscores, like (`__`) . This triggers 'name mangling' where Python internally changes the name, making it harder to access from outside.\n",
        "\n",
        "**Example :-**"
      ],
      "metadata": {
        "id": "Die7zFEf5cls"
      }
    },
    {
      "cell_type": "code",
      "source": [
        "class Car:\n",
        "    def __init__(self, make, model, year):\n",
        "        self.__make = make        # Private attribute\n",
        "        self.__model = model      # Private attribute\n",
        "        self.__year = year        # Private attribute\n",
        "\n",
        "    def __display_info(self):      # Private method\n",
        "        print(f\"Car Information: {self.__year} {self.__make} {self.__model}\")\n",
        "\n",
        "    def show_info(self):            # Public method to access private members\n",
        "        self.__display_info()\n",
        "\n",
        "# Creating an instance of Car\n",
        "my_car = Car(\"Tesla\", \"Model S\", 2022)\n",
        "\n",
        "# Accessing private members from outside the class (will raise AttributeError)\n",
        "try:\n",
        "    print(my_car.__make)            # Raises AttributeError\n",
        "except AttributeError as e:\n",
        "    print(e)\n",
        "\n",
        "try:\n",
        "    my_car.__display_info()         # Raises AttributeError\n",
        "except AttributeError as e:\n",
        "    print(e)\n",
        "\n",
        "# Accessing private members using name mangling (not recommended)\n",
        "print(my_car._Car__make)\n",
        "my_car._Car__display_info()\n",
        "\n",
        "# Accessing private members through public method\n",
        "my_car.show_info()"
      ],
      "metadata": {
        "colab": {
          "base_uri": "https://localhost:8080/"
        },
        "id": "nMJxZdWc6sOA",
        "outputId": "d47c94ab-48fc-4429-dca4-a4c63544f580"
      },
      "execution_count": null,
      "outputs": [
        {
          "output_type": "stream",
          "name": "stdout",
          "text": [
            "'Car' object has no attribute '__make'\n",
            "'Car' object has no attribute '__display_info'\n",
            "Tesla\n",
            "Car Information: 2022 Tesla Model S\n",
            "Car Information: 2022 Tesla Model S\n"
          ]
        }
      ]
    },
    {
      "cell_type": "markdown",
      "source": [
        "_____________________________________________"
      ],
      "metadata": {
        "id": "HnT_kuX88Wj5"
      }
    },
    {
      "cell_type": "markdown",
      "source": [
        "# **Q.6. . Describe the five types of inheritance in Python. Provide a simple example of multiple inheritance.**\n",
        "Ans. Inheritance in Python, is a mechanism that allows one class (child or subclass) to inherit attributes and methods from another class ( parent class or superclass ). Python supports multiple types of inheritance :-   \n",
        "\n",
        "There are five main types of inheritance in Python :-    \n",
        "**1. Single inheritance -** In this type, a child class inherits from only one parent class. It allows the child class to reuse the code from the parent class.\n",
        "\n",
        "Example -"
      ],
      "metadata": {
        "id": "_76miXQo8j5u"
      }
    },
    {
      "cell_type": "code",
      "source": [
        "class Animal:\n",
        "    def speak(self):\n",
        "        print(\"Animal speaks\")\n",
        "\n",
        "class Dog(Animal):  # Single inheritance\n",
        "    pass\n",
        "\n",
        "dog = Dog()\n",
        "dog.speak()"
      ],
      "metadata": {
        "colab": {
          "base_uri": "https://localhost:8080/"
        },
        "id": "af0flbDkurw9",
        "outputId": "bfb3921b-1a8a-4ba1-ece1-ff7243f9a729"
      },
      "execution_count": 1,
      "outputs": [
        {
          "output_type": "stream",
          "name": "stdout",
          "text": [
            "Animal speaks\n"
          ]
        }
      ]
    },
    {
      "cell_type": "markdown",
      "source": [
        "**2. Multiple Inheritance -** In this type, a child class inherits from more than one parent class. This means that the child class can access attributes and methods from all of its parent classes.\n",
        "\n",
        "Example :-   "
      ],
      "metadata": {
        "id": "iLG8VtySuyRb"
      }
    },
    {
      "cell_type": "code",
      "source": [
        "class Animal:\n",
        "    def eat(self):\n",
        "        print(\"Eating\")\n",
        "\n",
        "class Bird:\n",
        "    def fly(self):\n",
        "        print(\"Flying\")\n",
        "\n",
        "class Penguin(Animal, Bird):  # Multiple inheritance\n",
        "    pass\n",
        "\n",
        "penguin = Penguin()\n",
        "penguin.eat()\n",
        "penguin.fly()"
      ],
      "metadata": {
        "colab": {
          "base_uri": "https://localhost:8080/"
        },
        "id": "usfqdhaBvPbt",
        "outputId": "61dac037-4330-4bd9-fd34-807e38d61408"
      },
      "execution_count": 2,
      "outputs": [
        {
          "output_type": "stream",
          "name": "stdout",
          "text": [
            "Eating\n",
            "Flying\n"
          ]
        }
      ]
    },
    {
      "cell_type": "markdown",
      "source": [
        "**3. Multilevel Inheritance -** In this type, a class inherits from another class, which in turn inherits from a third class. This creates a chain of inheritance.\n",
        "\n",
        "Example :-    "
      ],
      "metadata": {
        "id": "06kMTEvQvZBL"
      }
    },
    {
      "cell_type": "code",
      "source": [
        "class Animal:\n",
        "    def move(self):\n",
        "        print(\"Moving\")\n",
        "\n",
        "class Mammal(Animal):  # Inherits from Animal\n",
        "    def give_birth(self):\n",
        "        print(\"Giving birth\")\n",
        "\n",
        "class Dog(Mammal):  # Inherits from Mammal\n",
        "    def bark(self):\n",
        "        print(\"Barking\")\n",
        "\n",
        "dog = Dog()\n",
        "dog.move()\n",
        "dog.give_birth()\n",
        "dog.bark()"
      ],
      "metadata": {
        "colab": {
          "base_uri": "https://localhost:8080/"
        },
        "id": "xLJ3soVfvyGk",
        "outputId": "22ee0e48-a583-4b34-e198-9267ca9eaf5f"
      },
      "execution_count": 4,
      "outputs": [
        {
          "output_type": "stream",
          "name": "stdout",
          "text": [
            "Moving\n",
            "Giving birth\n",
            "Barking\n"
          ]
        }
      ]
    },
    {
      "cell_type": "markdown",
      "source": [
        "**4. Hierarchial Inheritance -** In this type, multiple child classes inherit from the same parent class. This means that the parent class shares its attributes and methods with several child classes.\n",
        "\n",
        "Example :-    "
      ],
      "metadata": {
        "id": "Aoc2SH_vv970"
      }
    },
    {
      "cell_type": "code",
      "source": [
        "class Animal:\n",
        "    def speak(self):\n",
        "        print(\"Animal speaks\")\n",
        "\n",
        "class Dog(Animal):  # Inherits from Animal\n",
        "    pass\n",
        "\n",
        "class Cat(Animal):  # Inherits from Animal\n",
        "    pass\n",
        "\n",
        "dog = Dog()\n",
        "cat = Cat()\n",
        "\n",
        "dog.speak()\n",
        "cat.speak()\n"
      ],
      "metadata": {
        "colab": {
          "base_uri": "https://localhost:8080/"
        },
        "id": "3sJtBw8HwXv1",
        "outputId": "ee4beaa0-312b-4e72-ae6d-94a2640a8135"
      },
      "execution_count": 5,
      "outputs": [
        {
          "output_type": "stream",
          "name": "stdout",
          "text": [
            "Animal speaks\n",
            "Animal speaks\n"
          ]
        }
      ]
    },
    {
      "cell_type": "markdown",
      "source": [
        "**5. Hybrid Inheritance - ** In this type, a combination of different types of inheritance is used, such as single, multiple and multi level inheritance.\n",
        "\n",
        "Example :-   "
      ],
      "metadata": {
        "id": "MJcUZgIVwnkh"
      }
    },
    {
      "cell_type": "code",
      "source": [
        "class Animal:\n",
        "    def move(self):\n",
        "        print(\"Animal moves\")\n",
        "\n",
        "class Mammal(Animal):  # Single Inheritance\n",
        "    pass\n",
        "\n",
        "class Bird(Animal):  # Single Inheritance\n",
        "    pass\n",
        "\n",
        "class Bat(Mammal, Bird):  # Multiple Inheritance\n",
        "    def fly(self):\n",
        "        print(\"Bat flies\")\n",
        "\n",
        "bat = Bat()\n",
        "bat.move()\n",
        "bat.fly()"
      ],
      "metadata": {
        "colab": {
          "base_uri": "https://localhost:8080/"
        },
        "id": "4osdnuk4w_jR",
        "outputId": "41510633-1e6d-4b65-fbbb-570949888297"
      },
      "execution_count": 6,
      "outputs": [
        {
          "output_type": "stream",
          "name": "stdout",
          "text": [
            "Animal moves\n",
            "Bat flies\n"
          ]
        }
      ]
    },
    {
      "cell_type": "markdown",
      "source": [
        "A simple example of multiple inheritance is given below :-   "
      ],
      "metadata": {
        "id": "CWjZGGMMxGZk"
      }
    },
    {
      "cell_type": "code",
      "source": [
        "class Engine:\n",
        "    def start_engine(self):\n",
        "        print(\"Engine started\")\n",
        "\n",
        "class Wheels:\n",
        "    def move(self):\n",
        "        print(\"Wheels moving\")\n",
        "\n",
        "class Car(Engine, Wheels):  # Multiple Inheritance\n",
        "    def drive(self):\n",
        "        print(\"Car is driving\")\n",
        "\n",
        "# Creating an instance of Car, which inherits from both Engine and Wheels\n",
        "my_car = Car()\n",
        "\n",
        "my_car.start_engine()\n",
        "my_car.move()\n",
        "my_car.drive()"
      ],
      "metadata": {
        "colab": {
          "base_uri": "https://localhost:8080/"
        },
        "id": "EVkJp7zFxO5m",
        "outputId": "f7a7a0d5-a1e1-459e-ffba-0662344943a8"
      },
      "execution_count": 7,
      "outputs": [
        {
          "output_type": "stream",
          "name": "stdout",
          "text": [
            "Engine started\n",
            "Wheels moving\n",
            "Car is driving\n"
          ]
        }
      ]
    },
    {
      "cell_type": "markdown",
      "source": [
        "i. The `Car` class inherits from both `Engine` and `Transmission`.\n",
        "\n",
        "ii. When an instance of `Car` is created, it can access methods from both parent classes ( `start_engine` from `Engine` and `engage` from `Transmission`).\n",
        "\n",
        "iii. The `Car` also defines its own method, `drive ( )`.\n",
        "\n",
        "\n",
        "\n",
        "\n",
        "_________________________________________________________________________\n"
      ],
      "metadata": {
        "id": "B23pAT05xaNu"
      }
    },
    {
      "cell_type": "markdown",
      "source": [
        "# **Q.7.  What is the Method Resolution Order (MRO) in Python? How can you retrieve it programmatically?**\n",
        "Ans. The MRO in Python is a fundamental concept in its Object Oriented Programming ( OOP ) paradigm, especially when dealing with inheritance, including multiple inheritance.\n",
        "\n",
        "Definition :-  The Method Resolution Order ( MRO ) is the order in which Python looks for a method or attribute in a hierarchy of classes. MRO provides a systematic way to resolve conflicts such as to determine which method or attribute to use if multiple classes define methods or attributes with the same name.\n",
        "\n",
        "Python uses an algorithm known as C3 Linearization to compute the MRO. This algorithm ensures that -\n",
        "\n",
        "i. A class always appearsbefore its parent classes.\n",
        "\n",
        "ii. The order preserves the MROs of the parent classes.\n",
        "\n",
        "iii. Ensures a consistent and predictable MRO across different inheritance scenarios.\n",
        "\n",
        "C3 Linearization Example :-    "
      ],
      "metadata": {
        "id": "6ZC1CcIiyFmI"
      }
    },
    {
      "cell_type": "code",
      "source": [
        "class A:\n",
        "    pass\n",
        "\n",
        "class B(A):\n",
        "    pass\n",
        "\n",
        "class C(A):\n",
        "    pass\n",
        "\n",
        "class D(B, C):\n",
        "    pass"
      ],
      "metadata": {
        "id": "N9Bv9PpW00uQ"
      },
      "execution_count": 8,
      "outputs": []
    },
    {
      "cell_type": "markdown",
      "source": [
        "Python provides several ways to retrieve the Method Resolution Order ( MRO)for a class. Python provides built - in mechanisms to view the MRO of a class by different methods :-  \n",
        "\n",
        "a. Using the `.mro()`method - The `.mro ()` method returns a list representing the MRO of a class."
      ],
      "metadata": {
        "id": "KbYvKLhc1UDw"
      }
    },
    {
      "cell_type": "code",
      "source": [
        "class A:\n",
        "    pass\n",
        "\n",
        "class B(A):\n",
        "    pass\n",
        "\n",
        "class C(B):\n",
        "    pass\n",
        "\n",
        "print(C.mro())"
      ],
      "metadata": {
        "colab": {
          "base_uri": "https://localhost:8080/"
        },
        "id": "uVEBQLOY1vDL",
        "outputId": "ebf64b51-aa16-44aa-b3e3-d1852abfb90d"
      },
      "execution_count": 9,
      "outputs": [
        {
          "output_type": "stream",
          "name": "stdout",
          "text": [
            "[<class '__main__.C'>, <class '__main__.B'>, <class '__main__.A'>, <class 'object'>]\n"
          ]
        }
      ]
    },
    {
      "cell_type": "markdown",
      "source": [
        "b. Using the `__mro__` attribute - Every class in Python has an `__mro__` attribute that returns a tuple representing the MRO."
      ],
      "metadata": {
        "id": "9bMt0tms16Ae"
      }
    },
    {
      "cell_type": "code",
      "source": [
        "print(C.__mro__)\n"
      ],
      "metadata": {
        "colab": {
          "base_uri": "https://localhost:8080/"
        },
        "id": "8KStAIi22PuO",
        "outputId": "0e84e66b-66fe-4c3e-dd72-5bc43213b7aa"
      },
      "execution_count": 10,
      "outputs": [
        {
          "output_type": "stream",
          "name": "stdout",
          "text": [
            "(<class '__main__.C'>, <class '__main__.B'>, <class '__main__.A'>, <class 'object'>)\n"
          ]
        }
      ]
    },
    {
      "cell_type": "markdown",
      "source": [
        "Using the `help ()` function - The `help ()` function can display the MRO among other class details."
      ],
      "metadata": {
        "id": "qL97BUFz2TbZ"
      }
    },
    {
      "cell_type": "code",
      "source": [
        "help(C)\n"
      ],
      "metadata": {
        "colab": {
          "base_uri": "https://localhost:8080/"
        },
        "id": "oWitm63a2hzb",
        "outputId": "154038a0-3e60-4342-d011-e68a5c55d74d"
      },
      "execution_count": 11,
      "outputs": [
        {
          "output_type": "stream",
          "name": "stdout",
          "text": [
            "Help on class C in module __main__:\n",
            "\n",
            "class C(B)\n",
            " |  Method resolution order:\n",
            " |      C\n",
            " |      B\n",
            " |      A\n",
            " |      builtins.object\n",
            " |  \n",
            " |  Data descriptors inherited from A:\n",
            " |  \n",
            " |  __dict__\n",
            " |      dictionary for instance variables (if defined)\n",
            " |  \n",
            " |  __weakref__\n",
            " |      list of weak references to the object (if defined)\n",
            "\n"
          ]
        }
      ]
    },
    {
      "cell_type": "markdown",
      "source": [
        "**Understanding MRO with Diamond Problem -**\n",
        "\n",
        "The Diamond Problem is a classic issue in multiple inheritance where two parent classes inherit from the same grandparent class. Python's MRO resolves this ambiguity using C3 Linearization.\n",
        "\n",
        "Example :-  "
      ],
      "metadata": {
        "id": "g0IRQIco2lpk"
      }
    },
    {
      "cell_type": "code",
      "source": [
        "class A:\n",
        "    def do_something(self):\n",
        "        print(\"A's implementation\")\n",
        "\n",
        "class B(A):\n",
        "    def do_something(self):\n",
        "        print(\"B's implementation\")\n",
        "        super().do_something()\n",
        "\n",
        "class C(A):\n",
        "    def do_something(self):\n",
        "        print(\"C's implementation\")\n",
        "        super().do_something()\n",
        "\n",
        "class D(B, C):\n",
        "    def do_something(self):\n",
        "        print(\"D's implementation\")\n",
        "        super().do_something()\n",
        "\n",
        "# Create an instance of D\n",
        "d = D()\n",
        "d.do_something()"
      ],
      "metadata": {
        "colab": {
          "base_uri": "https://localhost:8080/"
        },
        "id": "uB3k13RS4Frl",
        "outputId": "cf2de300-f0ad-4ea3-9ba9-81f79207c0e9"
      },
      "execution_count": 12,
      "outputs": [
        {
          "output_type": "stream",
          "name": "stdout",
          "text": [
            "D's implementation\n",
            "B's implementation\n",
            "C's implementation\n",
            "A's implementation\n"
          ]
        }
      ]
    },
    {
      "cell_type": "markdown",
      "source": [
        "i. D calls B's `do_something`.\n",
        "\n",
        "ii. B calls C's `do_something` via `super()`.\n",
        "\n",
        "iii. C calls A's `do_something` via `super()`.\n",
        "\n",
        "iv. A completes the chain.\n",
        "\n",
        "_________________________________________________________________________"
      ],
      "metadata": {
        "id": "VQVbBoHw4bI3"
      }
    },
    {
      "cell_type": "markdown",
      "source": [
        "# **Q.8. . Create an abstract base class `Shape` with an abstract method `area()`. Then create two subclasses `Circle` and `Rectangle` that implement the `area()` method.**\n",
        "Ans. To implement an abstract base class in Python, we use the`abc` module. This module allows us to define abstract base classes (ABCs) and abstract methods.\n",
        "\n",
        "Here is an example of how to create an abstracr base class `Shape` with an abstract method `area ()`, and then implement it in two subclasses `Circle` and `Rectangle`:-  "
      ],
      "metadata": {
        "id": "x88bpgDR49ga"
      }
    },
    {
      "cell_type": "code",
      "source": [
        "from abc import ABC, abstractmethod\n",
        "import math\n",
        "\n",
        "# Abstract base class\n",
        "class Shape(ABC):\n",
        "\n",
        "    @abstractmethod\n",
        "    def area(self):\n",
        "        pass  # Abstract method\n",
        "\n",
        "# Subclass Circle\n",
        "class Circle(Shape):\n",
        "\n",
        "    def __init__(self, radius):\n",
        "        self.radius = radius\n",
        "\n",
        "    def area(self):\n",
        "        return math.pi * self.radius ** 2  # πr² for area of circle\n",
        "\n",
        "# Subclass Rectangle\n",
        "class Rectangle(Shape):\n",
        "\n",
        "    def __init__(self, width, height):\n",
        "        self.width = width\n",
        "        self.height = height\n",
        "\n",
        "    def area(self):\n",
        "        return self.width * self.height  # Area = width * height\n",
        "\n",
        "# Example usage:\n",
        "circle = Circle(5)\n",
        "rectangle = Rectangle(4, 6)\n",
        "\n",
        "print(f\"Area of the circle: {circle.area():.2f}\")\n",
        "print(f\"Area of the rectangle: {rectangle.area()}\")"
      ],
      "metadata": {
        "colab": {
          "base_uri": "https://localhost:8080/"
        },
        "id": "mc0d0nTj68TY",
        "outputId": "a1eec4cc-bff0-469d-a334-9495565b5692"
      },
      "execution_count": 13,
      "outputs": [
        {
          "output_type": "stream",
          "name": "stdout",
          "text": [
            "Area of the circle: 78.54\n",
            "Area of the rectangle: 24\n"
          ]
        }
      ]
    },
    {
      "cell_type": "markdown",
      "source": [
        "i. `Shape` is defined as an abstract base class by inheriting from `ABC`.\n",
        "\n",
        "ii. The `area()` method is decorated with `@abstractmethod`, making it mandatory for subclasses to implement this method.\n",
        "\n",
        "iii. The `Circle` class implements the `area()` method , calculating the area of the circle using the formula `π * radius^2'.\n",
        "\n",
        "iv. The `Rectangle` class also implements the `area()` method , calculating the area of the rectangle using the formula `width * height`."
      ],
      "metadata": {
        "id": "5YH9-JjY7GL8"
      }
    },
    {
      "cell_type": "markdown",
      "source": [
        "This demonstrates the power of abstract base classes in enforcing a consistent interface (`area()`) across all subclasses.\n",
        "\n",
        "\n",
        "\n",
        "__________________________________________________________________________"
      ],
      "metadata": {
        "id": "eWsE47C48kWs"
      }
    },
    {
      "cell_type": "markdown",
      "source": [
        "# **Q. 9.  Demonstrate polymorphism by creating a function that can work with different shape objects to calculate and print their areas**\n",
        "Ans. Polymorphism allows objects of different classes to be created as objects of a common base class. In Python, polymorphism is achieved through methods that can be appliedto objects of different classes. We can create a function that accepts any object that has an `area()` method and calculate its area, regardless of whether it is a `Circle`, `Rectangle` or any other shape.\n",
        "\n",
        "Example :-  "
      ],
      "metadata": {
        "id": "ZPbYiBEI81vJ"
      }
    },
    {
      "cell_type": "code",
      "source": [
        "from abc import ABC, abstractmethod\n",
        "import math\n",
        "\n",
        "# Abstract base class\n",
        "class Shape(ABC):\n",
        "\n",
        "    @abstractmethod\n",
        "    def area(self):\n",
        "        pass  # Abstract method\n",
        "\n",
        "# Subclass Circle\n",
        "class Circle(Shape):\n",
        "\n",
        "    def __init__(self, radius):\n",
        "        self.radius = radius\n",
        "\n",
        "    def area(self):\n",
        "        return math.pi * self.radius ** 2  # πr² for area of circle\n",
        "\n",
        "# Subclass Rectangle\n",
        "class Rectangle(Shape):\n",
        "\n",
        "    def __init__(self, width, height):\n",
        "        self.width = width\n",
        "        self.height = height\n",
        "\n",
        "    def area(self):\n",
        "        return self.width * self.height  # Area = width * height\n",
        "\n",
        "# Polymorphic function\n",
        "def print_area(shape: Shape):\n",
        "    print(f\"The area is: {shape.area():.2f}\")\n",
        "\n",
        "# Example usage:\n",
        "shapes = [Circle(5), Rectangle(4, 6)]\n",
        "\n",
        "for shape in shapes:\n",
        "    print_area(shape)\n"
      ],
      "metadata": {
        "colab": {
          "base_uri": "https://localhost:8080/"
        },
        "id": "A4yfItvp-ngG",
        "outputId": "d6477a65-ecc1-4ac5-ce95-1c98690a9f89"
      },
      "execution_count": 14,
      "outputs": [
        {
          "output_type": "stream",
          "name": "stdout",
          "text": [
            "The area is: 78.54\n",
            "The area is: 24.00\n"
          ]
        }
      ]
    },
    {
      "cell_type": "markdown",
      "source": [
        "i. Abstract Base Class `Shape` defines the common interface with the abstract method `area()`.\n",
        "\n",
        "ii. `Circle` and `Rectangle` classes both implement the `area()` method according to their respective formulas for area.\n",
        "\n",
        "iii. Polymorphic Function `print_area(shape)` accepts any object that is an instance of the `Shape` class.\n",
        "\n",
        "\n",
        "\n",
        "_________________________________________________________________________"
      ],
      "metadata": {
        "id": "evn-lGAJ-y-f"
      }
    },
    {
      "cell_type": "markdown",
      "source": [
        "# **Q.10.  Implement encapsulation in a `BankAccount` class with private attributes for `balance` and `account_number`. Include methods for deposit, withdrawal, and balance inquiry**\n",
        "Ans. Here is an implementation of encapsulation in a `BankAccount` class where `balance` and `account_number` are private attributes, and methods for deposit, withdrawal and balance enquiry are provided below :-   "
      ],
      "metadata": {
        "id": "9HUzDgPi_7Lq"
      }
    },
    {
      "cell_type": "code",
      "source": [
        "class BankAccount:\n",
        "    def __init__(self, account_number, initial_balance=0):\n",
        "        self.__account_number = account_number  # Private attribute\n",
        "        self.__balance = initial_balance  # Private attribute\n",
        "\n",
        "    # Method to deposit money into the account\n",
        "    def deposit(self, amount):\n",
        "        if amount > 0:\n",
        "            self.__balance += amount\n",
        "            print(f\"Deposited ₹{amount:.2f}\")\n",
        "        else:\n",
        "            print(\"Invalid deposit amount!\")\n",
        "\n",
        "    # Method to withdraw money from the account\n",
        "    def withdraw(self, amount):\n",
        "        if 0 < amount <= self.__balance:\n",
        "            self.__balance -= amount\n",
        "            print(f\"Withdrew ₹{amount:.2f}\")\n",
        "        else:\n",
        "            print(\"Insufficient balance or invalid withdrawal amount!\")\n",
        "\n",
        "    # Method to check the current balance\n",
        "    def get_balance(self):\n",
        "        return self.__balance\n",
        "\n",
        "    # Method to get the account number (optional)\n",
        "    def get_account_number(self):\n",
        "        return self.__account_number\n",
        "\n",
        "# Example usage:\n",
        "account = BankAccount(\"123456789\", 500)  # Create a new account with an initial balance of $500\n",
        "account.deposit(200)  # Deposit $200\n",
        "account.withdraw(100)  # Withdraw $100\n",
        "print(f\"Current balance:₹{account.get_balance():.2f}\")  # Check the current balance"
      ],
      "metadata": {
        "colab": {
          "base_uri": "https://localhost:8080/"
        },
        "id": "yMQpF9E4Bll6",
        "outputId": "85fbe861-708e-4f41-c8e6-e5afec522b60"
      },
      "execution_count": 17,
      "outputs": [
        {
          "output_type": "stream",
          "name": "stdout",
          "text": [
            "Deposited ₹200.00\n",
            "Withdrew ₹100.00\n",
            "Current balance:₹600.00\n"
          ]
        }
      ]
    },
    {
      "cell_type": "markdown",
      "source": [
        "i. Private attributes `self.__balance` and `self.__account_number` are private and can only be accessed through the class's methods.\n",
        "\n",
        "ii. Methods -\n",
        "\n",
        "`deposit` adds a positive amount to the balance.\n",
        "\n",
        "`withdraw` deducts an amount from the balance if sufficient funds are available.\n",
        "\n",
        "`get_balance` returns the current balance.\n",
        "\n",
        "`get_account_number` returns the account number.\n",
        "\n",
        "\n",
        "\n",
        "___________________________________________________________________________"
      ],
      "metadata": {
        "id": "xQ3yaIQCCy0_"
      }
    },
    {
      "cell_type": "markdown",
      "source": [
        "# **Q.11. Write a class that overrides the `__str__` and `__add__` magic methods. What will these methods allow you to do?**\n",
        "Ans. The example of a class that overrides the `__str__` and `__add__` magic methods ( also known as dunder methods), names used for 'double underscore'  is given below :-    "
      ],
      "metadata": {
        "id": "WihzCu-3EFIU"
      }
    },
    {
      "cell_type": "code",
      "source": [
        "class Book:\n",
        "    def __init__(self, title, author, pages):\n",
        "        self.title = title\n",
        "        self.author = author\n",
        "        self.pages = pages\n",
        "\n",
        "    # Overriding _str_ method\n",
        "    def __str__(self):\n",
        "        return f\"'{self.title}' by {self.author}, {self.pages} pages\"\n",
        "\n",
        "    # Overriding _add_ method\n",
        "    def __add__(self, other):\n",
        "        if isinstance(other, Book):\n",
        "            # Add pages of two books\n",
        "            return self.pages + other.pages\n",
        "        raise ValueError(\"Can only add two Book objects\")\n",
        "\n",
        "# Example usage:\n",
        "book1 = Book(\"1984\", \"George Orwell\", 328)\n",
        "book2 = Book(\"Animal Farm\", \"George Orwell\", 112)\n",
        "\n",
        "# Using the _str_ method\n",
        "print(book1)\n",
        "\n",
        "# Using the _add_ method\n",
        "total_pages = book1 + book2  # Adds the pages of both books\n",
        "print(f\"Total pages: {total_pages}\")"
      ],
      "metadata": {
        "colab": {
          "base_uri": "https://localhost:8080/"
        },
        "id": "rDnr9XZDFLWk",
        "outputId": "4862eaa5-cc8c-4410-ca12-4479ae928698"
      },
      "execution_count": 20,
      "outputs": [
        {
          "output_type": "stream",
          "name": "stdout",
          "text": [
            "'1984' by George Orwell, 328 pages\n",
            "Total pages: 440\n"
          ]
        }
      ]
    },
    {
      "cell_type": "markdown",
      "source": [
        "i. Overriding `__str__` :-  \n",
        " The `__str__` method allows you to define what should be returned when and instance of the class is converted to a string.\n",
        "\n",
        " ii. Overriding `__add__` :-  \n",
        " The __add__` method allows instances of the class to use the `+` operator.\n",
        "\n",
        "\n",
        " `__str__` provides a custom string representation for your class, making it easier to display meaningful information when printing or logging an object.\n",
        "\n",
        " `__add__` allows your class instances to interact with the `+` operator, letting you define how addition works for the objects.\n",
        "\n",
        "\n",
        " _________________________________________________________________________"
      ],
      "metadata": {
        "id": "oUVPZygCF9BF"
      }
    },
    {
      "cell_type": "markdown",
      "source": [
        "# **Q.12. Create a decorator that measures and prints the execution time of a function.**\n",
        "Ans. In Python, decorators are a powerful way to modify the behavior of functions or methods. To create a decorator that measures and prints the execution time of a function, we can use the time module to capture the time before and after the function runs, then calculate the difference :-  "
      ],
      "metadata": {
        "id": "AwG6fwqpHTOI"
      }
    },
    {
      "cell_type": "code",
      "source": [
        "import time\n",
        "\n",
        "# Decorator to measure execution time\n",
        "def execution_time(func):\n",
        "    def wrapper(*args, **kwargs):\n",
        "        start_time = time.time()  # Capture the start time\n",
        "        result = func(*args, **kwargs)  # Execute the function\n",
        "        end_time = time.time()  # Capture the end time\n",
        "        execution_duration = end_time - start_time  # Calculate execution time\n",
        "        print(f\"Execution time of {func.__name__}: {execution_duration:.6f} seconds\")\n",
        "        return result  # Return the function result\n",
        "    return wrapper\n",
        "\n",
        "# Example usage of the decorator\n",
        "\n",
        "@execution_time\n",
        "def example_function(n):\n",
        "    total = 0\n",
        "    for i in range(n):\n",
        "        total += i\n",
        "    return total\n",
        "\n",
        "# Call the decorated function\n",
        "example_function(1000000)"
      ],
      "metadata": {
        "colab": {
          "base_uri": "https://localhost:8080/"
        },
        "id": "27jnuU_mH7dd",
        "outputId": "09df3649-c33c-4e5f-9622-b92b96330d83"
      },
      "execution_count": 21,
      "outputs": [
        {
          "output_type": "stream",
          "name": "stdout",
          "text": [
            "Execution time of example_function: 0.068912 seconds\n"
          ]
        },
        {
          "output_type": "execute_result",
          "data": {
            "text/plain": [
              "499999500000"
            ]
          },
          "metadata": {},
          "execution_count": 21
        }
      ]
    },
    {
      "cell_type": "markdown",
      "source": [
        "i. The 'decorator' `execution_time_decorator` takes a function `func` as an argument and wraps it inside another function `wrapper` that measures the execution time.\n",
        "\n",
        "The wrapper function records the start time before calling the original function , executes the original function with `*args` and `**kwargs` to handle any arguments passed., records the end time after the function call, computes and prints the execution time in seconds.\n",
        "\n",
        "Finally, it returns the result of the original function.\n",
        "\n",
        "\n",
        "\n",
        "___________________________________________________________________________"
      ],
      "metadata": {
        "id": "lrY_r84OII_o"
      }
    },
    {
      "cell_type": "markdown",
      "source": [
        "# **Q.13.  Explain the concept of the Diamond Problem in multiple inheritance. How does Python resolve it ?**\n",
        "Ans. The Diamond Problem occurs in object-oriented programming languages that support multiple inheritance. It arises when a class inherits from two or more classes that share a common ancestor -\n",
        "\n",
        "Class A is the base class.\n",
        "Class B and Class C inherit from A.\n",
        "Class D inherits from both B and C.\n",
        "Now, if Class D calls a method that is defined in A, it’s unclear whether the method from B or C should be used, because both B and C inherit from A. This is the diamond shape in the inheritance hierarchy:"
      ],
      "metadata": {
        "id": "uF-FG5X3JK-h"
      }
    },
    {
      "cell_type": "code",
      "source": [
        "    A\n",
        "   / \\\n",
        "  B   C\n",
        "   \\ /\n",
        "    D\n"
      ],
      "metadata": {
        "id": "G_2nYaTGK8uW"
      },
      "execution_count": null,
      "outputs": []
    },
    {
      "cell_type": "markdown",
      "source": [
        "Python resolves the diamond problem using something called the 'Method Resolution Order ( MRO ) , which defines the order in which base classes are looked up when a method or attribute is accessed.\n",
        "\n",
        "Python uses C3 Linearization Algorithm to compute the MRO, ensuring a consistent and predictable order of method resolution.\n",
        "\n",
        "The MRO can be checked using the `__mro__` attribute or the `mro()`method of a class."
      ],
      "metadata": {
        "id": "cpFrGc8ZK-Mz"
      }
    },
    {
      "cell_type": "code",
      "source": [
        "d = D()\n",
        "print(D.__mro__)"
      ],
      "metadata": {
        "colab": {
          "base_uri": "https://localhost:8080/"
        },
        "id": "4kLx5tkjL3te",
        "outputId": "ca1fb4d5-b82e-4f3b-bb60-0dbfe5d730fb"
      },
      "execution_count": 26,
      "outputs": [
        {
          "output_type": "stream",
          "name": "stdout",
          "text": [
            "(<class '__main__.D'>, <class '__main__.B'>, <class '__main__.C'>, <class '__main__.A'>, <class 'object'>)\n"
          ]
        }
      ]
    },
    {
      "cell_type": "markdown",
      "source": [
        "MRO ensures consistent and unambiguous method resolution.\n",
        "\n",
        "The child class methods are resolved before parent classes.\n",
        "\n",
        "In case of multiple inheritance, the left-most base class takes priority.\n",
        "\n",
        "\n",
        "\n",
        "\n",
        "___________________________________________________________________________"
      ],
      "metadata": {
        "id": "VK46u8YMMK_q"
      }
    },
    {
      "cell_type": "markdown",
      "source": [
        "# **Q.14. Write a class method that keeps track of the number of instances created from a class.**\n",
        "Ans. You can use a class method to keep track of the number of instances created by incrementing a class attribute each time an instance is initialized.\n",
        "\n",
        "Here is how you can implement this :-  "
      ],
      "metadata": {
        "id": "kZ0hVWQMMNGy"
      }
    },
    {
      "cell_type": "code",
      "source": [
        "class MyClass:\n",
        "    instance_count = 0  # Class variable to keep track of the instance count\n",
        "\n",
        "    def __init__(self):\n",
        "        MyClass.instance_count += 1  # Increment count every time a new instance is created\n",
        "\n",
        "    # Class method to return the number of instances\n",
        "    @classmethod\n",
        "    def get_instance_count(cls):\n",
        "        return cls.instance_count\n",
        "\n",
        "# Example usage:\n",
        "obj1 = MyClass()\n",
        "obj2 = MyClass()\n",
        "obj3 = MyClass()\n",
        "\n",
        "print(f\"Number of instances created: {MyClass.get_instance_count()}\")\n"
      ],
      "metadata": {
        "colab": {
          "base_uri": "https://localhost:8080/"
        },
        "id": "S-Ennya0N1q1",
        "outputId": "ee85b405-c60d-45c4-e8da-55c5ce0fa148"
      },
      "execution_count": 27,
      "outputs": [
        {
          "output_type": "stream",
          "name": "stdout",
          "text": [
            "Number of instances created: 3\n"
          ]
        }
      ]
    },
    {
      "cell_type": "markdown",
      "source": [
        "i. `instance_count` is a class attribute that is shared across all instances of the class. It starts at 0 and increments each time a new instance is created.\n",
        "\n",
        "ii. Every time `__init__` method is called, the `instance_count` is incremented by 1, thus keeping track of the number of instances.\n",
        "\n",
        "iii. `get_instance_count` is a class method ( denoted by `@classmethod`) that returns the value of `instance_count`.\n",
        "\n",
        "This approach ensures that you can keep track of how many instances of the class are created at any given time.\n",
        "\n",
        "\n",
        "\n",
        "___________________________________________________________________________"
      ],
      "metadata": {
        "id": "d5i57vKIN-S_"
      }
    },
    {
      "cell_type": "markdown",
      "source": [
        "# **Q.15.  Implement a static method in a class that checks if a given year is a leap year**\n",
        "Ans. A static method in Python is a method that belongs to a class but does not require access to instance (`self`) or class-level (`cls`) data. Static methods are often used when some functionality logically belongs to a class but doesn’t need to modify the class’s state.\n",
        "\n",
        "Here’s an implementation of a static method in a class to check if a given year is a leap year:"
      ],
      "metadata": {
        "id": "R7-KkRXGPOR8"
      }
    },
    {
      "cell_type": "code",
      "source": [
        "class YearUtils:\n",
        "    @staticmethod\n",
        "    def is_leap_year(year):\n",
        "        \"\"\"Check if a given year is a leap year.\"\"\"\n",
        "        if (year % 4 == 0 and year % 100 != 0) or (year % 400 == 0):\n",
        "            return True\n",
        "        return False\n",
        "\n",
        "# Example usage:\n",
        "year_to_check = 2024\n",
        "if YearUtils.is_leap_year(year_to_check):\n",
        "    print(f\"{year_to_check} is a leap year.\")\n",
        "else:\n",
        "    print(f\"{year_to_check} is not a leap year.\")"
      ],
      "metadata": {
        "colab": {
          "base_uri": "https://localhost:8080/"
        },
        "id": "LoIl2RVyQBwj",
        "outputId": "0c19c37e-a490-4686-93ad-f90b99797307"
      },
      "execution_count": 28,
      "outputs": [
        {
          "output_type": "stream",
          "name": "stdout",
          "text": [
            "2024 is a leap year.\n"
          ]
        }
      ]
    },
    {
      "cell_type": "markdown",
      "source": [
        "i. The Static Method `@staticmethod` decorator indicates that `is_leap_year` does not depend on instance-specific data or class-specific data.It can be called directly on the class without needing an instance.\n",
        "\n",
        "You can call the static method using the class name, `YearUtils.is_leap_year( year_to_check)`, without creating an instance of the class.\n",
        "\n",
        "You can check `year_to_check` to any year you want to check.\n",
        "\n",
        "\n",
        "\n",
        "\n",
        "___________________________________________________________________________"
      ],
      "metadata": {
        "id": "PT2HBr3RQOEB"
      }
    },
    {
      "cell_type": "markdown",
      "source": [],
      "metadata": {
        "id": "b48PP6JMROah"
      }
    }
  ]
}