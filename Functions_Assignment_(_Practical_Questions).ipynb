{
  "nbformat": 4,
  "nbformat_minor": 0,
  "metadata": {
    "colab": {
      "provenance": [],
      "authorship_tag": "ABX9TyMWW8uHmYh7w7TXDs2+55z0",
      "include_colab_link": true
    },
    "kernelspec": {
      "name": "python3",
      "display_name": "Python 3"
    },
    "language_info": {
      "name": "python"
    }
  },
  "cells": [
    {
      "cell_type": "markdown",
      "metadata": {
        "id": "view-in-github",
        "colab_type": "text"
      },
      "source": [
        "<a href=\"https://colab.research.google.com/github/ShasHero006/Python/blob/main/Functions_Assignment_(_Practical_Questions).ipynb\" target=\"_parent\"><img src=\"https://colab.research.google.com/assets/colab-badge.svg\" alt=\"Open In Colab\"/></a>"
      ]
    },
    {
      "cell_type": "markdown",
      "source": [
        "# **Q. 1. Write a Python function that takes a list of numbers as input and returns the sum of all even numbers in the list.**\n",
        "Ans. Here is a Python function that takes a list of numbers as input and returns the sum of all even numbers in the list :-   "
      ],
      "metadata": {
        "id": "QaWSuzmDNPxf"
      }
    },
    {
      "cell_type": "code",
      "source": [
        "def sum_of_even_numbers(numbers):\n",
        "    # Filter even numbers and calculate their sum\n",
        "    return sum(num for num in numbers if num % 2 == 0)\n",
        "\n",
        "# Example usage:\n",
        "numbers = [1, 2, 3, 4, 5, 6]\n",
        "result = sum_of_even_numbers(numbers)\n",
        "print(result)"
      ],
      "metadata": {
        "colab": {
          "base_uri": "https://localhost:8080/"
        },
        "id": "MJiWjF3ARXJi",
        "outputId": "334b8b63-bc05-41c8-f5eb-82430ea472a9"
      },
      "execution_count": null,
      "outputs": [
        {
          "output_type": "stream",
          "name": "stdout",
          "text": [
            "12\n"
          ]
        }
      ]
    },
    {
      "cell_type": "markdown",
      "source": [
        "The function uses a generator expression to iterate through the list, checking if each number is even ( by calculating num % 2 == 0 ).\n",
        "\n",
        "Then it sums the even numbers and returns the result.\n",
        "\n",
        "\n",
        "\n",
        "___________________________________________________________________________"
      ],
      "metadata": {
        "id": "7ew8C3ktSIyU"
      }
    },
    {
      "cell_type": "markdown",
      "source": [
        "# **Q. 2. Create a Python function that accepts a string and returns the reverse of that string.**\n",
        "Ans. The Python function that accepts a string and returns the reverse of that string is given below :-"
      ],
      "metadata": {
        "id": "Kvdf54NPop7v"
      }
    },
    {
      "cell_type": "code",
      "source": [
        "def reverse_string(s):\n",
        "    # Reverse the string using slicing\n",
        "    return s[::-1]\n",
        "\n",
        "# Example usage:\n",
        "input_string = \"hello\"\n",
        "reversed_string = reverse_string(input_string)\n",
        "print(reversed_string)"
      ],
      "metadata": {
        "colab": {
          "base_uri": "https://localhost:8080/"
        },
        "id": "FGtQZ3jnq3nK",
        "outputId": "e114f1ca-663d-4e96-9386-1fde2250140e"
      },
      "execution_count": null,
      "outputs": [
        {
          "output_type": "stream",
          "name": "stdout",
          "text": [
            "olleh\n"
          ]
        }
      ]
    },
    {
      "cell_type": "markdown",
      "source": [
        "The function uses Python string slicing (`s[:: -1]`) that reverses the string.\n",
        "\n",
        "(`s[:: -1]`) selects by starting at the end and then stepping backwards to the beginning.\n",
        "\n",
        "\n",
        "\n",
        "___________________________________________________________________________"
      ],
      "metadata": {
        "id": "29lgMU89q_c3"
      }
    },
    {
      "cell_type": "markdown",
      "source": [
        "# **Q. 3. Implement a Python function that takes a list of integers and returns a new list containing the squares of each number.**\n",
        "Ans. Here is a Python function that takes a list of integers and returns a new list containing the squares of each number :-  "
      ],
      "metadata": {
        "id": "ulYFPuFRrnGR"
      }
    },
    {
      "cell_type": "code",
      "source": [
        "def square_numbers(numbers):\n",
        "    # Use a list comprehension to square each number in the list\n",
        "    return [num ** 2 for num in numbers]\n",
        "\n",
        "# Example usage:\n",
        "numbers = [1, 2, 3, 4, 5]\n",
        "squared_list = square_numbers(numbers)\n",
        "print(squared_list)"
      ],
      "metadata": {
        "colab": {
          "base_uri": "https://localhost:8080/"
        },
        "id": "Oc0Sawwrsfhj",
        "outputId": "ffd0a506-5478-4696-dbf6-dd2b33252e98"
      },
      "execution_count": null,
      "outputs": [
        {
          "output_type": "stream",
          "name": "stdout",
          "text": [
            "[1, 4, 9, 16, 25]\n"
          ]
        }
      ]
    },
    {
      "cell_type": "markdown",
      "source": [
        "The function uses a list comprehension to iterate through each number in the input list and squares it ( by calculating using - `num ** 2` ).\n",
        "It returns a new list containing the squared values.\n",
        "\n",
        "\n",
        "\n",
        "___________________________________________________________________________"
      ],
      "metadata": {
        "id": "5l3iskwzsmgF"
      }
    },
    {
      "cell_type": "markdown",
      "source": [
        "# **Q. 4. Write a Python function that checks if a given number is prime or not from 1 to 200**\n",
        "Ans. A Python function that checks if a given number is prime or not from 1 to 200 is given by :-   "
      ],
      "metadata": {
        "id": "mqLdCKPxtItJ"
      }
    },
    {
      "cell_type": "code",
      "source": [
        "def is_prime(n):\n",
        "    # Check if the number is less than 2, which is not prime\n",
        "    if n < 2:\n",
        "        return False\n",
        "    # Check for factors from 2 to the square root of n\n",
        "    for i in range(2, int(n**0.5) + 1):\n",
        "        if n % i == 0:\n",
        "            return False\n",
        "    return True\n",
        "\n",
        "# Example usage: Checking numbers from 1 to 200\n",
        "for num in range(1, 201):\n",
        "    if is_prime(num):\n",
        "        print(f\"{num} is a prime number.\")\n",
        "    else:\n",
        "        print(f\"{num} is not a prime number.\")"
      ],
      "metadata": {
        "colab": {
          "base_uri": "https://localhost:8080/"
        },
        "id": "AY-G3jsGtoSH",
        "outputId": "7e5c2b71-eb51-4ce0-e356-2cebfab15ff0"
      },
      "execution_count": null,
      "outputs": [
        {
          "output_type": "stream",
          "name": "stdout",
          "text": [
            "1 is not a prime number.\n",
            "2 is a prime number.\n",
            "3 is a prime number.\n",
            "4 is not a prime number.\n",
            "5 is a prime number.\n",
            "6 is not a prime number.\n",
            "7 is a prime number.\n",
            "8 is not a prime number.\n",
            "9 is not a prime number.\n",
            "10 is not a prime number.\n",
            "11 is a prime number.\n",
            "12 is not a prime number.\n",
            "13 is a prime number.\n",
            "14 is not a prime number.\n",
            "15 is not a prime number.\n",
            "16 is not a prime number.\n",
            "17 is a prime number.\n",
            "18 is not a prime number.\n",
            "19 is a prime number.\n",
            "20 is not a prime number.\n",
            "21 is not a prime number.\n",
            "22 is not a prime number.\n",
            "23 is a prime number.\n",
            "24 is not a prime number.\n",
            "25 is not a prime number.\n",
            "26 is not a prime number.\n",
            "27 is not a prime number.\n",
            "28 is not a prime number.\n",
            "29 is a prime number.\n",
            "30 is not a prime number.\n",
            "31 is a prime number.\n",
            "32 is not a prime number.\n",
            "33 is not a prime number.\n",
            "34 is not a prime number.\n",
            "35 is not a prime number.\n",
            "36 is not a prime number.\n",
            "37 is a prime number.\n",
            "38 is not a prime number.\n",
            "39 is not a prime number.\n",
            "40 is not a prime number.\n",
            "41 is a prime number.\n",
            "42 is not a prime number.\n",
            "43 is a prime number.\n",
            "44 is not a prime number.\n",
            "45 is not a prime number.\n",
            "46 is not a prime number.\n",
            "47 is a prime number.\n",
            "48 is not a prime number.\n",
            "49 is not a prime number.\n",
            "50 is not a prime number.\n",
            "51 is not a prime number.\n",
            "52 is not a prime number.\n",
            "53 is a prime number.\n",
            "54 is not a prime number.\n",
            "55 is not a prime number.\n",
            "56 is not a prime number.\n",
            "57 is not a prime number.\n",
            "58 is not a prime number.\n",
            "59 is a prime number.\n",
            "60 is not a prime number.\n",
            "61 is a prime number.\n",
            "62 is not a prime number.\n",
            "63 is not a prime number.\n",
            "64 is not a prime number.\n",
            "65 is not a prime number.\n",
            "66 is not a prime number.\n",
            "67 is a prime number.\n",
            "68 is not a prime number.\n",
            "69 is not a prime number.\n",
            "70 is not a prime number.\n",
            "71 is a prime number.\n",
            "72 is not a prime number.\n",
            "73 is a prime number.\n",
            "74 is not a prime number.\n",
            "75 is not a prime number.\n",
            "76 is not a prime number.\n",
            "77 is not a prime number.\n",
            "78 is not a prime number.\n",
            "79 is a prime number.\n",
            "80 is not a prime number.\n",
            "81 is not a prime number.\n",
            "82 is not a prime number.\n",
            "83 is a prime number.\n",
            "84 is not a prime number.\n",
            "85 is not a prime number.\n",
            "86 is not a prime number.\n",
            "87 is not a prime number.\n",
            "88 is not a prime number.\n",
            "89 is a prime number.\n",
            "90 is not a prime number.\n",
            "91 is not a prime number.\n",
            "92 is not a prime number.\n",
            "93 is not a prime number.\n",
            "94 is not a prime number.\n",
            "95 is not a prime number.\n",
            "96 is not a prime number.\n",
            "97 is a prime number.\n",
            "98 is not a prime number.\n",
            "99 is not a prime number.\n",
            "100 is not a prime number.\n",
            "101 is a prime number.\n",
            "102 is not a prime number.\n",
            "103 is a prime number.\n",
            "104 is not a prime number.\n",
            "105 is not a prime number.\n",
            "106 is not a prime number.\n",
            "107 is a prime number.\n",
            "108 is not a prime number.\n",
            "109 is a prime number.\n",
            "110 is not a prime number.\n",
            "111 is not a prime number.\n",
            "112 is not a prime number.\n",
            "113 is a prime number.\n",
            "114 is not a prime number.\n",
            "115 is not a prime number.\n",
            "116 is not a prime number.\n",
            "117 is not a prime number.\n",
            "118 is not a prime number.\n",
            "119 is not a prime number.\n",
            "120 is not a prime number.\n",
            "121 is not a prime number.\n",
            "122 is not a prime number.\n",
            "123 is not a prime number.\n",
            "124 is not a prime number.\n",
            "125 is not a prime number.\n",
            "126 is not a prime number.\n",
            "127 is a prime number.\n",
            "128 is not a prime number.\n",
            "129 is not a prime number.\n",
            "130 is not a prime number.\n",
            "131 is a prime number.\n",
            "132 is not a prime number.\n",
            "133 is not a prime number.\n",
            "134 is not a prime number.\n",
            "135 is not a prime number.\n",
            "136 is not a prime number.\n",
            "137 is a prime number.\n",
            "138 is not a prime number.\n",
            "139 is a prime number.\n",
            "140 is not a prime number.\n",
            "141 is not a prime number.\n",
            "142 is not a prime number.\n",
            "143 is not a prime number.\n",
            "144 is not a prime number.\n",
            "145 is not a prime number.\n",
            "146 is not a prime number.\n",
            "147 is not a prime number.\n",
            "148 is not a prime number.\n",
            "149 is a prime number.\n",
            "150 is not a prime number.\n",
            "151 is a prime number.\n",
            "152 is not a prime number.\n",
            "153 is not a prime number.\n",
            "154 is not a prime number.\n",
            "155 is not a prime number.\n",
            "156 is not a prime number.\n",
            "157 is a prime number.\n",
            "158 is not a prime number.\n",
            "159 is not a prime number.\n",
            "160 is not a prime number.\n",
            "161 is not a prime number.\n",
            "162 is not a prime number.\n",
            "163 is a prime number.\n",
            "164 is not a prime number.\n",
            "165 is not a prime number.\n",
            "166 is not a prime number.\n",
            "167 is a prime number.\n",
            "168 is not a prime number.\n",
            "169 is not a prime number.\n",
            "170 is not a prime number.\n",
            "171 is not a prime number.\n",
            "172 is not a prime number.\n",
            "173 is a prime number.\n",
            "174 is not a prime number.\n",
            "175 is not a prime number.\n",
            "176 is not a prime number.\n",
            "177 is not a prime number.\n",
            "178 is not a prime number.\n",
            "179 is a prime number.\n",
            "180 is not a prime number.\n",
            "181 is a prime number.\n",
            "182 is not a prime number.\n",
            "183 is not a prime number.\n",
            "184 is not a prime number.\n",
            "185 is not a prime number.\n",
            "186 is not a prime number.\n",
            "187 is not a prime number.\n",
            "188 is not a prime number.\n",
            "189 is not a prime number.\n",
            "190 is not a prime number.\n",
            "191 is a prime number.\n",
            "192 is not a prime number.\n",
            "193 is a prime number.\n",
            "194 is not a prime number.\n",
            "195 is not a prime number.\n",
            "196 is not a prime number.\n",
            "197 is a prime number.\n",
            "198 is not a prime number.\n",
            "199 is a prime number.\n",
            "200 is not a prime number.\n"
          ]
        }
      ]
    },
    {
      "cell_type": "markdown",
      "source": [
        "In this Python function , `is_prime (n)` checks if the given number `n` is prime.\n",
        "\n",
        "Firstly, it checks if the number is less than 2, which is not considered prime.\n",
        "\n",
        "Then, it checks for divisors from 2 upto the square root of `n`. If any divisor is found, number is not prime and if there are no divisors found, the number is prime.\n",
        "\n",
        "Additionally, it uses iterates through numbers from 1 to 200.\n",
        "\n",
        "\n",
        "\n",
        "\n",
        "___________________________________________________________________________"
      ],
      "metadata": {
        "id": "L6TP9xLst0Zu"
      }
    },
    {
      "cell_type": "markdown",
      "source": [
        "# **Q.5. Create an iterator class in Python that generates the Fibonacci sequence up to a specified number of terms.**\n",
        "Ans. Given below is the iterator class in Python that generates the Fibonacci sequence up to a specified number of terms :-  "
      ],
      "metadata": {
        "id": "wKuSAHsOvN7d"
      }
    },
    {
      "cell_type": "code",
      "source": [
        "class FibonacciIterator:\n",
        "    def __init__(self, n_terms):\n",
        "        self.n_terms = n_terms  # Total number of terms to generate\n",
        "        self.current = 0        # Counter for the current term\n",
        "        self.a, self.b = 0, 1   # Starting values for the Fibonacci sequence\n",
        "\n",
        "    def __iter__(self):\n",
        "        return self\n",
        "\n",
        "    def __next__(self):\n",
        "        if self.current >= self.n_terms:\n",
        "            raise StopIteration  # Stop iteration when the specified number of terms is reached\n",
        "        if self.current == 0:\n",
        "            self.current += 1\n",
        "            return self.a        # Return the first term (0)\n",
        "        elif self.current == 1:\n",
        "            self.current += 1\n",
        "            return self.b        # Return the second term (1)\n",
        "        else:\n",
        "            self.a, self.b = self.b, self.a + self.b  # Calculate the next Fibonacci number\n",
        "            self.current += 1\n",
        "            return self.a\n",
        "\n",
        "# Example usage:\n",
        "fib = FibonacciIterator(10)  # Create an iterator for the first 10 Fibonacci numbers\n",
        "for num in fib:\n",
        "    print(num)"
      ],
      "metadata": {
        "colab": {
          "base_uri": "https://localhost:8080/"
        },
        "id": "k3bGWpEixLQJ",
        "outputId": "8925e665-ead5-4a81-a61b-1b9373e6e9a7"
      },
      "execution_count": null,
      "outputs": [
        {
          "output_type": "stream",
          "name": "stdout",
          "text": [
            "0\n",
            "1\n",
            "1\n",
            "1\n",
            "2\n",
            "3\n",
            "5\n",
            "8\n",
            "13\n",
            "21\n"
          ]
        }
      ]
    },
    {
      "cell_type": "markdown",
      "source": [
        "The `___iter___( )` method returns the iteratorobject itself.\n",
        "\n",
        "The `___next___( )` method generates the next Fibonacci number , updating the values accordingly and stopping when the specified number of terms is reached.\n",
        "\n",
        "The `FibonacciIterator` class initializes with `n__` terms,which specifies how many terms of the Fibonacci sequences to generate.\n",
        "\n",
        "___________________________________________________________________________"
      ],
      "metadata": {
        "id": "MwurKPfvxPqW"
      }
    },
    {
      "cell_type": "markdown",
      "source": [
        "# **Q. 6. Write a generator function in Python that yields the powers of 2 up to a given exponent.**\n",
        "Ans. Here is given  a Python generator function that yields the powers of 2 up to a given exponent :-  "
      ],
      "metadata": {
        "id": "mmi_mtKIy2sS"
      }
    },
    {
      "cell_type": "code",
      "source": [
        "def powers_of_two(max_exponent):\n",
        "    # Yield 2 raised to the power of each number from 0 to max_exponent\n",
        "    for exp in range(max_exponent + 1):\n",
        "        yield 2 ** exp\n",
        "\n",
        "# Example usage:\n",
        "for value in powers_of_two(5):\n",
        "    print(value)"
      ],
      "metadata": {
        "colab": {
          "base_uri": "https://localhost:8080/"
        },
        "id": "he92raVozR0u",
        "outputId": "9aa6b6d7-f69f-49b9-8bc9-a3c1316296d4"
      },
      "execution_count": null,
      "outputs": [
        {
          "output_type": "stream",
          "name": "stdout",
          "text": [
            "1\n",
            "2\n",
            "4\n",
            "8\n",
            "16\n",
            "32\n"
          ]
        }
      ]
    },
    {
      "cell_type": "markdown",
      "source": [
        "The `yield` statement allows the function to return one value at a time.\n",
        "\n",
        "The generator function `powers_of_two (max_exponent)` takes an integer `max_exponent` and yields powers of 2 from `2^0` upto `2^max_exponent`.\n",
        "\n",
        "\n",
        "\n",
        "___________________________________________________________________________"
      ],
      "metadata": {
        "id": "eeFpaWk6zXXn"
      }
    },
    {
      "cell_type": "markdown",
      "source": [
        "# **Q.7. Implement a generator function that reads a file line by line and yields each line as a string.**\n",
        "Ans. Sure, here is a generator function that reads a file line by line and yields each line as a string :-  "
      ],
      "metadata": {
        "id": "TM973g9f18mt"
      }
    },
    {
      "cell_type": "code",
      "source": [
        "def read_file_line_by_line(file_path):\n",
        "    try:\n",
        "        with open(file_path, 'r') as file:\n",
        "            # Read and yield each line in the file\n",
        "            for line in file:\n",
        "                yield line.rstrip('\\n')  # Remove trailing newline characters\n",
        "    except FileNotFoundError:\n",
        "        print(f\"Error: The file at {file_path} was not found.\")\n",
        "    except IOError:\n",
        "        print(f\"Error: Could not read the file at {file_path}.\")\n",
        "\n",
        "# Example usage:\n",
        "# Replace 'sample.txt' with the path to your file\n",
        "for line in read_file_line_by_line('sample.txt'):\n",
        "    print(line)"
      ],
      "metadata": {
        "colab": {
          "base_uri": "https://localhost:8080/"
        },
        "id": "wnGTSrX3305R",
        "outputId": "65a1828c-70fb-43a1-d9a6-36c8767ba1b1"
      },
      "execution_count": null,
      "outputs": [
        {
          "output_type": "stream",
          "name": "stdout",
          "text": [
            "Error: The file at sample.txt was not found.\n"
          ]
        }
      ]
    },
    {
      "cell_type": "markdown",
      "source": [
        "`read_file_line_by_line(file_path)` - opens the specifiedfile in read mode (`'r'`).\n",
        "\n",
        "`for` loop - used to read file line by line.\n",
        "\n",
        "`yield` - returns each line one at a time, with trailing newline characters removed using `rstrip('\\n')` .\n",
        "\n",
        "\n",
        "\n",
        "___________________________________________________________________________"
      ],
      "metadata": {
        "id": "PLWlixLw39w-"
      }
    },
    {
      "cell_type": "markdown",
      "source": [
        "# **Q.8. Use a lambda function in Python to sort a list of tuples based on the second element of each tuple**\n",
        "Ans. A Python program using a lambda function in Python to sort a list of tuples based on the second element of each tuple is as follows :-   "
      ],
      "metadata": {
        "id": "lW1Hv9Ru5R9w"
      }
    },
    {
      "cell_type": "code",
      "source": [
        "# Sample list of tuples\n",
        "tuples_list = [(1, 3), (4, 1), (2, 2), (5, 0)]\n",
        "\n",
        "# Sorting the list based on the second element of each tuple\n",
        "sorted_list = sorted(tuples_list, key=lambda x: x[1])\n",
        "\n",
        "# Output the sorted list\n",
        "print(sorted_list)"
      ],
      "metadata": {
        "colab": {
          "base_uri": "https://localhost:8080/"
        },
        "id": "KRj2vvCQ5-yH",
        "outputId": "4b881fee-c712-4c0d-daa8-c43f1dace02f"
      },
      "execution_count": null,
      "outputs": [
        {
          "output_type": "stream",
          "name": "stdout",
          "text": [
            "[(5, 0), (4, 1), (2, 2), (1, 3)]\n"
          ]
        }
      ]
    },
    {
      "cell_type": "markdown",
      "source": [
        "`sorted ( ) ` function - sorts the list of tuples.\n",
        "\n",
        "`key` parameter used with `lambda` function :- `lambda x : x [1]` which extracts the second element (x [1]) of each tuple for sorting.  The list is then soerted in ascending order.\n",
        "\n",
        "\n",
        "\n",
        "\n",
        "___________________________________________________________________________"
      ],
      "metadata": {
        "id": "N-OzV3ZY6F9E"
      }
    },
    {
      "cell_type": "markdown",
      "source": [
        "# **Q.9. Write a Python program that uses `map()` to convert a list of temperatures from Celsius to Fahrenheit.**\n",
        "Ans. The Python program that uses `map ()` to convert a list of temperatures from Celsius to Fahrenheit :-   "
      ],
      "metadata": {
        "id": "_k0UPBrT7E8Q"
      }
    },
    {
      "cell_type": "code",
      "source": [
        "# Function to convert Celsius to Fahrenheit\n",
        "def celsius_to_fahrenheit(celsius):\n",
        "    return (celsius * 9/5) + 32\n",
        "\n",
        "# List of temperatures in Celsius\n",
        "celsius_temperatures = [0, 20, 37, 100]\n",
        "\n",
        "# Use map() to convert each temperature to Fahrenheit\n",
        "fahrenheit_temperatures = list(map(celsius_to_fahrenheit, celsius_temperatures))\n",
        "\n",
        "# Output the converted temperatures\n",
        "print(fahrenheit_temperatures)"
      ],
      "metadata": {
        "colab": {
          "base_uri": "https://localhost:8080/"
        },
        "id": "i9Hta8wF8f69",
        "outputId": "7d861d6a-525a-4eeb-b525-5ebed07e7f87"
      },
      "execution_count": null,
      "outputs": [
        {
          "output_type": "stream",
          "name": "stdout",
          "text": [
            "[32.0, 68.0, 98.6, 212.0]\n"
          ]
        }
      ]
    },
    {
      "cell_type": "markdown",
      "source": [
        "`celsius_to_fahrenheit ( )` function converts a temperature from Celsius to Fahrenheit by using the formula :- Fahrenheit = (Celsius ×  9/5 ) + 32\n",
        "\n",
        "`map ( )` function applies `celsius_to_fahrenheit` to each element of `celsius_temperatures` list.\n",
        "\n",
        "`list ( )` function converts the result of `map ( )` into a list of temperatures in Fahrenheit.\n"
      ],
      "metadata": {
        "id": "aB9mBB1Z8nLx"
      }
    },
    {
      "cell_type": "markdown",
      "source": [
        "# **Q.10. Create a Python program that uses `filter()` to remove all the vowels from a given string.**\n",
        "Ans. Here’s a Python program that uses `filter()` to remove all the vowels from a given string:"
      ],
      "metadata": {
        "id": "iE4FC4EM8pXV"
      }
    },
    {
      "cell_type": "code",
      "source": [
        "# Function to check if a character is not a vowel\n",
        "def is_not_vowel(char):\n",
        "    return char.lower() not in 'aeiou'\n",
        "\n",
        "# Input string\n",
        "input_string = \"Hello, World!\"\n",
        "\n",
        "# Use filter() to remove vowels from the string\n",
        "filtered_string = ''.join(filter(is_not_vowel, input_string))\n",
        "\n",
        "# Output the filtered string\n",
        "print(filtered_string)"
      ],
      "metadata": {
        "colab": {
          "base_uri": "https://localhost:8080/"
        },
        "id": "IhwIRrAt-041",
        "outputId": "4436739e-4871-4498-ef45-354ca36aa5ac"
      },
      "execution_count": null,
      "outputs": [
        {
          "output_type": "stream",
          "name": "stdout",
          "text": [
            "Hll, Wrld!\n"
          ]
        }
      ]
    },
    {
      "cell_type": "markdown",
      "source": [
        " The `remove_vowels` function uses the `filter()` function with a lambda expression to exclude any characters that are vowels.\n",
        "\n",
        " The resulting characters are then joined back into a string. You can test it with any input string.\n",
        "\n",
        "\n",
        "\n",
        " __________________________________________________________________________"
      ],
      "metadata": {
        "id": "9RZ4oPTO_DM9"
      }
    },
    {
      "cell_type": "markdown",
      "source": [
        "# **Q.11.  Imagine an accounting routine used in a book shop. It works on a list with sublists, which look like this :**\n",
        "Ans. This can be achieved by using the `map ( )` function along with a `lambda` function to process the transactions. The program will create a list of 2- tuples where each tuple contains the order number and the adjusted total  ( price multiplied by quantity with a potential increase if the order value is less than 100  €).\n"
      ],
      "metadata": {
        "id": "sR4qwVNr_W8N"
      }
    },
    {
      "cell_type": "code",
      "source": [
        "# List of transactions\n",
        "transactions = [\n",
        "    [34587, \"Learning Python, Mark Lutz\", 4, 40.95],\n",
        "    [98762, \"Programming Python, Paul Barry\", 5, 56.80],\n",
        "    [77226, \"Head First Python, Paul Barry\", 3, 32.95],\n",
        "    [88112, \"Einführung in Python, Bernd Klein\", 3, 24.99]\n",
        "]\n",
        "\n",
        "# Using map and lambda to create a list of 2-tuples\n",
        "order_totals = list(map(lambda transaction: (\n",
        "    transaction[0],  # Order number\n",
        "    transaction[2] * transaction[3] + (10 if (transaction[2] * transaction[3]) < 100 else 0)  # Adjusted total\n",
        "), transactions))\n",
        "\n",
        "# Output the result\n",
        "print(order_totals)"
      ],
      "metadata": {
        "colab": {
          "base_uri": "https://localhost:8080/"
        },
        "id": "_fd1TXZDD7Nn",
        "outputId": "ce6c1f74-bcf1-445a-dba8-ffd8a7253cd5"
      },
      "execution_count": null,
      "outputs": [
        {
          "output_type": "stream",
          "name": "stdout",
          "text": [
            "[(34587, 163.8), (98762, 284.0), (77226, 108.85000000000001), (88112, 84.97)]\n"
          ]
        }
      ]
    },
    {
      "cell_type": "markdown",
      "source": [
        "Order Number | Book and Author                                    | Quantity | Total Price (€)\n",
        "-------------------------------------------------------------------------------------------\n",
        "1            | Learning Python by Mark Lutz           | 4         | 40.95        \n",
        "2            | Programming Python,Mark Lutz           | 5         | 56.80        \n",
        "3            | Head First Python by Paul Barry        | 3         | 32.95        \n",
        "4            | Einfuhrung in Python 3,Bernd Klein     | 3         | 24.99  \n",
        "\n",
        "\n",
        "\n",
        "\n",
        "\n",
        "___________________________________________________________________________\n"
      ],
      "metadata": {
        "id": "C8V6z8TSE7u_"
      }
    }
  ]
}